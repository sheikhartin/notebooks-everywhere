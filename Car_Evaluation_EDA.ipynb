{
 "cells": [
  {
   "cell_type": "markdown",
   "metadata": {},
   "source": [
    "## Car Evaluation\n",
    "\n",
    "This dataset is composed of 1728 records and 6 different attributes which are buying price, price of maintenance, number of doors, capacity in terms of persons to carry, the relative size of luggage boot and the estimated safety value of each car. There are no missing values ​​in the dataset, which is an advantage!"
   ]
  },
  {
   "cell_type": "code",
   "execution_count": null,
   "metadata": {},
   "outputs": [],
   "source": [
    "!pip install plotly flaml\\[notebook]"
   ]
  },
  {
   "cell_type": "code",
   "execution_count": 2,
   "metadata": {},
   "outputs": [],
   "source": [
    "# Built-in libraries\n",
    "import pickle\n",
    "from pathlib import Path\n",
    "\n",
    "# Data analysis\n",
    "import pandas as pd\n",
    "import plotly.express as px\n",
    "\n",
    "# Machine learning\n",
    "from sklearn.preprocessing import LabelEncoder\n",
    "from sklearn.model_selection import train_test_split\n",
    "from sklearn.metrics import classification_report\n",
    "from flaml import AutoML"
   ]
  },
  {
   "cell_type": "code",
   "execution_count": 3,
   "metadata": {},
   "outputs": [
    {
     "name": "stdout",
     "output_type": "stream",
     "text": [
      "titanic.csv\n",
      "car_evaluation.csv\n",
      "netflix.csv\n",
      "used_car_prices.csv\n",
      "youtube_trends_us.csv\n"
     ]
    }
   ],
   "source": [
    "for path in Path('./datasets').rglob('*'):\n",
    "    print(path.name)"
   ]
  },
  {
   "cell_type": "code",
   "execution_count": 4,
   "metadata": {},
   "outputs": [
    {
     "data": {
      "text/html": [
       "<div>\n",
       "<style scoped>\n",
       "    .dataframe tbody tr th:only-of-type {\n",
       "        vertical-align: middle;\n",
       "    }\n",
       "\n",
       "    .dataframe tbody tr th {\n",
       "        vertical-align: top;\n",
       "    }\n",
       "\n",
       "    .dataframe thead th {\n",
       "        text-align: right;\n",
       "    }\n",
       "</style>\n",
       "<table border=\"1\" class=\"dataframe\">\n",
       "  <thead>\n",
       "    <tr style=\"text-align: right;\">\n",
       "      <th></th>\n",
       "      <th>0</th>\n",
       "      <th>1</th>\n",
       "      <th>2</th>\n",
       "      <th>3</th>\n",
       "      <th>4</th>\n",
       "      <th>5</th>\n",
       "      <th>6</th>\n",
       "    </tr>\n",
       "  </thead>\n",
       "  <tbody>\n",
       "    <tr>\n",
       "      <th>0</th>\n",
       "      <td>vhigh</td>\n",
       "      <td>vhigh</td>\n",
       "      <td>2</td>\n",
       "      <td>2</td>\n",
       "      <td>small</td>\n",
       "      <td>low</td>\n",
       "      <td>unacc</td>\n",
       "    </tr>\n",
       "    <tr>\n",
       "      <th>1</th>\n",
       "      <td>vhigh</td>\n",
       "      <td>vhigh</td>\n",
       "      <td>2</td>\n",
       "      <td>2</td>\n",
       "      <td>small</td>\n",
       "      <td>med</td>\n",
       "      <td>unacc</td>\n",
       "    </tr>\n",
       "    <tr>\n",
       "      <th>2</th>\n",
       "      <td>vhigh</td>\n",
       "      <td>vhigh</td>\n",
       "      <td>2</td>\n",
       "      <td>2</td>\n",
       "      <td>small</td>\n",
       "      <td>high</td>\n",
       "      <td>unacc</td>\n",
       "    </tr>\n",
       "    <tr>\n",
       "      <th>3</th>\n",
       "      <td>vhigh</td>\n",
       "      <td>vhigh</td>\n",
       "      <td>2</td>\n",
       "      <td>2</td>\n",
       "      <td>med</td>\n",
       "      <td>low</td>\n",
       "      <td>unacc</td>\n",
       "    </tr>\n",
       "    <tr>\n",
       "      <th>4</th>\n",
       "      <td>vhigh</td>\n",
       "      <td>vhigh</td>\n",
       "      <td>2</td>\n",
       "      <td>2</td>\n",
       "      <td>med</td>\n",
       "      <td>med</td>\n",
       "      <td>unacc</td>\n",
       "    </tr>\n",
       "  </tbody>\n",
       "</table>\n",
       "</div>"
      ],
      "text/plain": [
       "       0      1  2  3      4     5      6\n",
       "0  vhigh  vhigh  2  2  small   low  unacc\n",
       "1  vhigh  vhigh  2  2  small   med  unacc\n",
       "2  vhigh  vhigh  2  2  small  high  unacc\n",
       "3  vhigh  vhigh  2  2    med   low  unacc\n",
       "4  vhigh  vhigh  2  2    med   med  unacc"
      ]
     },
     "execution_count": 4,
     "metadata": {},
     "output_type": "execute_result"
    }
   ],
   "source": [
    "df = pd.read_csv('./datasets/car_evaluation.csv', header=None)\n",
    "df.head()"
   ]
  },
  {
   "cell_type": "code",
   "execution_count": 5,
   "metadata": {},
   "outputs": [],
   "source": [
    "df.rename(columns={\n",
    "    0: 'buying',\n",
    "    1: 'maint',\n",
    "    2: 'doors',\n",
    "    3: 'persons',\n",
    "    4: 'lug_boot',\n",
    "    5: 'safety',\n",
    "    6: 'class',\n",
    "}, inplace=True)"
   ]
  },
  {
   "cell_type": "code",
   "execution_count": 6,
   "metadata": {},
   "outputs": [
    {
     "name": "stdout",
     "output_type": "stream",
     "text": [
      "<class 'pandas.core.frame.DataFrame'>\n",
      "RangeIndex: 1728 entries, 0 to 1727\n",
      "Data columns (total 7 columns):\n",
      " #   Column    Non-Null Count  Dtype \n",
      "---  ------    --------------  ----- \n",
      " 0   buying    1728 non-null   object\n",
      " 1   maint     1728 non-null   object\n",
      " 2   doors     1728 non-null   object\n",
      " 3   persons   1728 non-null   object\n",
      " 4   lug_boot  1728 non-null   object\n",
      " 5   safety    1728 non-null   object\n",
      " 6   class     1728 non-null   object\n",
      "dtypes: object(7)\n",
      "memory usage: 94.6+ KB\n"
     ]
    }
   ],
   "source": [
    "df.info()"
   ]
  },
  {
   "cell_type": "code",
   "execution_count": 7,
   "metadata": {},
   "outputs": [
    {
     "data": {
      "text/html": [
       "<div>\n",
       "<style scoped>\n",
       "    .dataframe tbody tr th:only-of-type {\n",
       "        vertical-align: middle;\n",
       "    }\n",
       "\n",
       "    .dataframe tbody tr th {\n",
       "        vertical-align: top;\n",
       "    }\n",
       "\n",
       "    .dataframe thead th {\n",
       "        text-align: right;\n",
       "    }\n",
       "</style>\n",
       "<table border=\"1\" class=\"dataframe\">\n",
       "  <thead>\n",
       "    <tr style=\"text-align: right;\">\n",
       "      <th></th>\n",
       "      <th>buying</th>\n",
       "      <th>maint</th>\n",
       "      <th>doors</th>\n",
       "      <th>persons</th>\n",
       "      <th>lug_boot</th>\n",
       "      <th>safety</th>\n",
       "      <th>class</th>\n",
       "    </tr>\n",
       "  </thead>\n",
       "  <tbody>\n",
       "    <tr>\n",
       "      <th>count</th>\n",
       "      <td>1728</td>\n",
       "      <td>1728</td>\n",
       "      <td>1728</td>\n",
       "      <td>1728</td>\n",
       "      <td>1728</td>\n",
       "      <td>1728</td>\n",
       "      <td>1728</td>\n",
       "    </tr>\n",
       "    <tr>\n",
       "      <th>unique</th>\n",
       "      <td>4</td>\n",
       "      <td>4</td>\n",
       "      <td>4</td>\n",
       "      <td>3</td>\n",
       "      <td>3</td>\n",
       "      <td>3</td>\n",
       "      <td>4</td>\n",
       "    </tr>\n",
       "    <tr>\n",
       "      <th>top</th>\n",
       "      <td>vhigh</td>\n",
       "      <td>vhigh</td>\n",
       "      <td>2</td>\n",
       "      <td>2</td>\n",
       "      <td>small</td>\n",
       "      <td>low</td>\n",
       "      <td>unacc</td>\n",
       "    </tr>\n",
       "    <tr>\n",
       "      <th>freq</th>\n",
       "      <td>432</td>\n",
       "      <td>432</td>\n",
       "      <td>432</td>\n",
       "      <td>576</td>\n",
       "      <td>576</td>\n",
       "      <td>576</td>\n",
       "      <td>1210</td>\n",
       "    </tr>\n",
       "  </tbody>\n",
       "</table>\n",
       "</div>"
      ],
      "text/plain": [
       "       buying  maint doors persons lug_boot safety  class\n",
       "count    1728   1728  1728    1728     1728   1728   1728\n",
       "unique      4      4     4       3        3      3      4\n",
       "top     vhigh  vhigh     2       2    small    low  unacc\n",
       "freq      432    432   432     576      576    576   1210"
      ]
     },
     "execution_count": 7,
     "metadata": {},
     "output_type": "execute_result"
    }
   ],
   "source": [
    "df.describe()"
   ]
  },
  {
   "cell_type": "code",
   "execution_count": 10,
   "metadata": {},
   "outputs": [
    {
     "data": {
      "text/plain": [
       "0"
      ]
     },
     "execution_count": 10,
     "metadata": {},
     "output_type": "execute_result"
    }
   ],
   "source": [
    "df.duplicated().sum()"
   ]
  },
  {
   "cell_type": "code",
   "execution_count": 8,
   "metadata": {},
   "outputs": [
    {
     "data": {
      "text/plain": [
       "buying      4\n",
       "maint       4\n",
       "doors       4\n",
       "persons     3\n",
       "lug_boot    3\n",
       "safety      3\n",
       "class       4\n",
       "dtype: int64"
      ]
     },
     "execution_count": 8,
     "metadata": {},
     "output_type": "execute_result"
    }
   ],
   "source": [
    "df.nunique()"
   ]
  },
  {
   "cell_type": "code",
   "execution_count": 11,
   "metadata": {},
   "outputs": [
    {
     "data": {
      "text/html": [
       "<div>\n",
       "<style scoped>\n",
       "    .dataframe tbody tr th:only-of-type {\n",
       "        vertical-align: middle;\n",
       "    }\n",
       "\n",
       "    .dataframe tbody tr th {\n",
       "        vertical-align: top;\n",
       "    }\n",
       "\n",
       "    .dataframe thead tr th {\n",
       "        text-align: left;\n",
       "    }\n",
       "\n",
       "    .dataframe thead tr:last-of-type th {\n",
       "        text-align: right;\n",
       "    }\n",
       "</style>\n",
       "<table border=\"1\" class=\"dataframe\">\n",
       "  <thead>\n",
       "    <tr>\n",
       "      <th></th>\n",
       "      <th colspan=\"2\" halign=\"left\">buying</th>\n",
       "      <th colspan=\"2\" halign=\"left\">maint</th>\n",
       "      <th colspan=\"2\" halign=\"left\">lug_boot</th>\n",
       "      <th colspan=\"2\" halign=\"left\">safety</th>\n",
       "    </tr>\n",
       "    <tr>\n",
       "      <th></th>\n",
       "      <th>min</th>\n",
       "      <th>max</th>\n",
       "      <th>min</th>\n",
       "      <th>max</th>\n",
       "      <th>min</th>\n",
       "      <th>max</th>\n",
       "      <th>min</th>\n",
       "      <th>max</th>\n",
       "    </tr>\n",
       "    <tr>\n",
       "      <th>class</th>\n",
       "      <th></th>\n",
       "      <th></th>\n",
       "      <th></th>\n",
       "      <th></th>\n",
       "      <th></th>\n",
       "      <th></th>\n",
       "      <th></th>\n",
       "      <th></th>\n",
       "    </tr>\n",
       "  </thead>\n",
       "  <tbody>\n",
       "    <tr>\n",
       "      <th>acc</th>\n",
       "      <td>high</td>\n",
       "      <td>vhigh</td>\n",
       "      <td>high</td>\n",
       "      <td>vhigh</td>\n",
       "      <td>big</td>\n",
       "      <td>small</td>\n",
       "      <td>high</td>\n",
       "      <td>med</td>\n",
       "    </tr>\n",
       "    <tr>\n",
       "      <th>good</th>\n",
       "      <td>low</td>\n",
       "      <td>med</td>\n",
       "      <td>low</td>\n",
       "      <td>med</td>\n",
       "      <td>big</td>\n",
       "      <td>small</td>\n",
       "      <td>high</td>\n",
       "      <td>med</td>\n",
       "    </tr>\n",
       "    <tr>\n",
       "      <th>unacc</th>\n",
       "      <td>high</td>\n",
       "      <td>vhigh</td>\n",
       "      <td>high</td>\n",
       "      <td>vhigh</td>\n",
       "      <td>big</td>\n",
       "      <td>small</td>\n",
       "      <td>high</td>\n",
       "      <td>med</td>\n",
       "    </tr>\n",
       "    <tr>\n",
       "      <th>vgood</th>\n",
       "      <td>low</td>\n",
       "      <td>med</td>\n",
       "      <td>high</td>\n",
       "      <td>med</td>\n",
       "      <td>big</td>\n",
       "      <td>med</td>\n",
       "      <td>high</td>\n",
       "      <td>high</td>\n",
       "    </tr>\n",
       "  </tbody>\n",
       "</table>\n",
       "</div>"
      ],
      "text/plain": [
       "      buying        maint        lug_boot        safety      \n",
       "         min    max   min    max      min    max    min   max\n",
       "class                                                        \n",
       "acc     high  vhigh  high  vhigh      big  small   high   med\n",
       "good     low    med   low    med      big  small   high   med\n",
       "unacc   high  vhigh  high  vhigh      big  small   high   med\n",
       "vgood    low    med  high    med      big    med   high  high"
      ]
     },
     "execution_count": 11,
     "metadata": {},
     "output_type": "execute_result"
    }
   ],
   "source": [
    "df.groupby(by=['class']).agg({\n",
    "    'buying': ['min', 'max'],\n",
    "    'maint': ['min', 'max'],\n",
    "    'lug_boot': ['min', 'max'],\n",
    "    'safety': ['min', 'max'],\n",
    "})"
   ]
  },
  {
   "cell_type": "code",
   "execution_count": 12,
   "metadata": {},
   "outputs": [
    {
     "data": {
      "application/vnd.plotly.v1+json": {
       "config": {
        "plotlyServerURL": "https://plot.ly"
       },
       "data": [
        {
         "alignmentgroup": "True",
         "bingroup": "x",
         "hovertemplate": "safety=low<br>class=%{x}<br>count=%{y}<extra></extra>",
         "legendgroup": "low",
         "marker": {
          "color": "#636efa",
          "pattern": {
           "shape": ""
          }
         },
         "name": "low",
         "offsetgroup": "low",
         "orientation": "v",
         "showlegend": true,
         "type": "histogram",
         "x": [
          "unacc",
          "unacc",
          "unacc",
          "unacc",
          "unacc",
          "unacc",
          "unacc",
          "unacc",
          "unacc",
          "unacc",
          "unacc",
          "unacc",
          "unacc",
          "unacc",
          "unacc",
          "unacc",
          "unacc",
          "unacc",
          "unacc",
          "unacc",
          "unacc",
          "unacc",
          "unacc",
          "unacc",
          "unacc",
          "unacc",
          "unacc",
          "unacc",
          "unacc",
          "unacc",
          "unacc",
          "unacc",
          "unacc",
          "unacc",
          "unacc",
          "unacc",
          "unacc",
          "unacc",
          "unacc",
          "unacc",
          "unacc",
          "unacc",
          "unacc",
          "unacc",
          "unacc",
          "unacc",
          "unacc",
          "unacc",
          "unacc",
          "unacc",
          "unacc",
          "unacc",
          "unacc",
          "unacc",
          "unacc",
          "unacc",
          "unacc",
          "unacc",
          "unacc",
          "unacc",
          "unacc",
          "unacc",
          "unacc",
          "unacc",
          "unacc",
          "unacc",
          "unacc",
          "unacc",
          "unacc",
          "unacc",
          "unacc",
          "unacc",
          "unacc",
          "unacc",
          "unacc",
          "unacc",
          "unacc",
          "unacc",
          "unacc",
          "unacc",
          "unacc",
          "unacc",
          "unacc",
          "unacc",
          "unacc",
          "unacc",
          "unacc",
          "unacc",
          "unacc",
          "unacc",
          "unacc",
          "unacc",
          "unacc",
          "unacc",
          "unacc",
          "unacc",
          "unacc",
          "unacc",
          "unacc",
          "unacc",
          "unacc",
          "unacc",
          "unacc",
          "unacc",
          "unacc",
          "unacc",
          "unacc",
          "unacc",
          "unacc",
          "unacc",
          "unacc",
          "unacc",
          "unacc",
          "unacc",
          "unacc",
          "unacc",
          "unacc",
          "unacc",
          "unacc",
          "unacc",
          "unacc",
          "unacc",
          "unacc",
          "unacc",
          "unacc",
          "unacc",
          "unacc",
          "unacc",
          "unacc",
          "unacc",
          "unacc",
          "unacc",
          "unacc",
          "unacc",
          "unacc",
          "unacc",
          "unacc",
          "unacc",
          "unacc",
          "unacc",
          "unacc",
          "unacc",
          "unacc",
          "unacc",
          "unacc",
          "unacc",
          "unacc",
          "unacc",
          "unacc",
          "unacc",
          "unacc",
          "unacc",
          "unacc",
          "unacc",
          "unacc",
          "unacc",
          "unacc",
          "unacc",
          "unacc",
          "unacc",
          "unacc",
          "unacc",
          "unacc",
          "unacc",
          "unacc",
          "unacc",
          "unacc",
          "unacc",
          "unacc",
          "unacc",
          "unacc",
          "unacc",
          "unacc",
          "unacc",
          "unacc",
          "unacc",
          "unacc",
          "unacc",
          "unacc",
          "unacc",
          "unacc",
          "unacc",
          "unacc",
          "unacc",
          "unacc",
          "unacc",
          "unacc",
          "unacc",
          "unacc",
          "unacc",
          "unacc",
          "unacc",
          "unacc",
          "unacc",
          "unacc",
          "unacc",
          "unacc",
          "unacc",
          "unacc",
          "unacc",
          "unacc",
          "unacc",
          "unacc",
          "unacc",
          "unacc",
          "unacc",
          "unacc",
          "unacc",
          "unacc",
          "unacc",
          "unacc",
          "unacc",
          "unacc",
          "unacc",
          "unacc",
          "unacc",
          "unacc",
          "unacc",
          "unacc",
          "unacc",
          "unacc",
          "unacc",
          "unacc",
          "unacc",
          "unacc",
          "unacc",
          "unacc",
          "unacc",
          "unacc",
          "unacc",
          "unacc",
          "unacc",
          "unacc",
          "unacc",
          "unacc",
          "unacc",
          "unacc",
          "unacc",
          "unacc",
          "unacc",
          "unacc",
          "unacc",
          "unacc",
          "unacc",
          "unacc",
          "unacc",
          "unacc",
          "unacc",
          "unacc",
          "unacc",
          "unacc",
          "unacc",
          "unacc",
          "unacc",
          "unacc",
          "unacc",
          "unacc",
          "unacc",
          "unacc",
          "unacc",
          "unacc",
          "unacc",
          "unacc",
          "unacc",
          "unacc",
          "unacc",
          "unacc",
          "unacc",
          "unacc",
          "unacc",
          "unacc",
          "unacc",
          "unacc",
          "unacc",
          "unacc",
          "unacc",
          "unacc",
          "unacc",
          "unacc",
          "unacc",
          "unacc",
          "unacc",
          "unacc",
          "unacc",
          "unacc",
          "unacc",
          "unacc",
          "unacc",
          "unacc",
          "unacc",
          "unacc",
          "unacc",
          "unacc",
          "unacc",
          "unacc",
          "unacc",
          "unacc",
          "unacc",
          "unacc",
          "unacc",
          "unacc",
          "unacc",
          "unacc",
          "unacc",
          "unacc",
          "unacc",
          "unacc",
          "unacc",
          "unacc",
          "unacc",
          "unacc",
          "unacc",
          "unacc",
          "unacc",
          "unacc",
          "unacc",
          "unacc",
          "unacc",
          "unacc",
          "unacc",
          "unacc",
          "unacc",
          "unacc",
          "unacc",
          "unacc",
          "unacc",
          "unacc",
          "unacc",
          "unacc",
          "unacc",
          "unacc",
          "unacc",
          "unacc",
          "unacc",
          "unacc",
          "unacc",
          "unacc",
          "unacc",
          "unacc",
          "unacc",
          "unacc",
          "unacc",
          "unacc",
          "unacc",
          "unacc",
          "unacc",
          "unacc",
          "unacc",
          "unacc",
          "unacc",
          "unacc",
          "unacc",
          "unacc",
          "unacc",
          "unacc",
          "unacc",
          "unacc",
          "unacc",
          "unacc",
          "unacc",
          "unacc",
          "unacc",
          "unacc",
          "unacc",
          "unacc",
          "unacc",
          "unacc",
          "unacc",
          "unacc",
          "unacc",
          "unacc",
          "unacc",
          "unacc",
          "unacc",
          "unacc",
          "unacc",
          "unacc",
          "unacc",
          "unacc",
          "unacc",
          "unacc",
          "unacc",
          "unacc",
          "unacc",
          "unacc",
          "unacc",
          "unacc",
          "unacc",
          "unacc",
          "unacc",
          "unacc",
          "unacc",
          "unacc",
          "unacc",
          "unacc",
          "unacc",
          "unacc",
          "unacc",
          "unacc",
          "unacc",
          "unacc",
          "unacc",
          "unacc",
          "unacc",
          "unacc",
          "unacc",
          "unacc",
          "unacc",
          "unacc",
          "unacc",
          "unacc",
          "unacc",
          "unacc",
          "unacc",
          "unacc",
          "unacc",
          "unacc",
          "unacc",
          "unacc",
          "unacc",
          "unacc",
          "unacc",
          "unacc",
          "unacc",
          "unacc",
          "unacc",
          "unacc",
          "unacc",
          "unacc",
          "unacc",
          "unacc",
          "unacc",
          "unacc",
          "unacc",
          "unacc",
          "unacc",
          "unacc",
          "unacc",
          "unacc",
          "unacc",
          "unacc",
          "unacc",
          "unacc",
          "unacc",
          "unacc",
          "unacc",
          "unacc",
          "unacc",
          "unacc",
          "unacc",
          "unacc",
          "unacc",
          "unacc",
          "unacc",
          "unacc",
          "unacc",
          "unacc",
          "unacc",
          "unacc",
          "unacc",
          "unacc",
          "unacc",
          "unacc",
          "unacc",
          "unacc",
          "unacc",
          "unacc",
          "unacc",
          "unacc",
          "unacc",
          "unacc",
          "unacc",
          "unacc",
          "unacc",
          "unacc",
          "unacc",
          "unacc",
          "unacc",
          "unacc",
          "unacc",
          "unacc",
          "unacc",
          "unacc",
          "unacc",
          "unacc",
          "unacc",
          "unacc",
          "unacc",
          "unacc",
          "unacc",
          "unacc",
          "unacc",
          "unacc",
          "unacc",
          "unacc",
          "unacc",
          "unacc",
          "unacc",
          "unacc",
          "unacc",
          "unacc",
          "unacc",
          "unacc",
          "unacc",
          "unacc",
          "unacc",
          "unacc",
          "unacc",
          "unacc",
          "unacc",
          "unacc",
          "unacc",
          "unacc",
          "unacc",
          "unacc",
          "unacc",
          "unacc",
          "unacc",
          "unacc",
          "unacc",
          "unacc",
          "unacc",
          "unacc",
          "unacc",
          "unacc",
          "unacc",
          "unacc",
          "unacc",
          "unacc",
          "unacc",
          "unacc",
          "unacc",
          "unacc",
          "unacc",
          "unacc",
          "unacc",
          "unacc",
          "unacc",
          "unacc",
          "unacc",
          "unacc",
          "unacc",
          "unacc",
          "unacc",
          "unacc",
          "unacc",
          "unacc",
          "unacc",
          "unacc",
          "unacc",
          "unacc",
          "unacc",
          "unacc",
          "unacc",
          "unacc",
          "unacc",
          "unacc",
          "unacc",
          "unacc",
          "unacc",
          "unacc",
          "unacc",
          "unacc",
          "unacc",
          "unacc",
          "unacc",
          "unacc",
          "unacc",
          "unacc",
          "unacc",
          "unacc",
          "unacc",
          "unacc",
          "unacc",
          "unacc",
          "unacc"
         ],
         "xaxis": "x",
         "yaxis": "y"
        },
        {
         "alignmentgroup": "True",
         "bingroup": "x",
         "hovertemplate": "safety=med<br>class=%{x}<br>count=%{y}<extra></extra>",
         "legendgroup": "med",
         "marker": {
          "color": "#EF553B",
          "pattern": {
           "shape": ""
          }
         },
         "name": "med",
         "offsetgroup": "med",
         "orientation": "v",
         "showlegend": true,
         "type": "histogram",
         "x": [
          "unacc",
          "unacc",
          "unacc",
          "unacc",
          "unacc",
          "unacc",
          "unacc",
          "unacc",
          "unacc",
          "unacc",
          "unacc",
          "unacc",
          "unacc",
          "unacc",
          "unacc",
          "unacc",
          "unacc",
          "unacc",
          "unacc",
          "unacc",
          "unacc",
          "unacc",
          "unacc",
          "unacc",
          "unacc",
          "unacc",
          "unacc",
          "unacc",
          "unacc",
          "unacc",
          "unacc",
          "unacc",
          "unacc",
          "unacc",
          "unacc",
          "unacc",
          "unacc",
          "unacc",
          "unacc",
          "unacc",
          "unacc",
          "unacc",
          "unacc",
          "unacc",
          "unacc",
          "unacc",
          "unacc",
          "unacc",
          "unacc",
          "unacc",
          "unacc",
          "unacc",
          "unacc",
          "unacc",
          "unacc",
          "unacc",
          "unacc",
          "unacc",
          "unacc",
          "unacc",
          "unacc",
          "unacc",
          "unacc",
          "unacc",
          "unacc",
          "unacc",
          "unacc",
          "unacc",
          "unacc",
          "unacc",
          "unacc",
          "unacc",
          "unacc",
          "unacc",
          "unacc",
          "unacc",
          "unacc",
          "acc",
          "unacc",
          "unacc",
          "acc",
          "unacc",
          "unacc",
          "unacc",
          "unacc",
          "unacc",
          "acc",
          "unacc",
          "acc",
          "acc",
          "unacc",
          "unacc",
          "unacc",
          "unacc",
          "acc",
          "acc",
          "unacc",
          "acc",
          "acc",
          "unacc",
          "unacc",
          "unacc",
          "unacc",
          "acc",
          "acc",
          "unacc",
          "acc",
          "acc",
          "unacc",
          "unacc",
          "unacc",
          "unacc",
          "unacc",
          "acc",
          "unacc",
          "unacc",
          "acc",
          "unacc",
          "unacc",
          "unacc",
          "unacc",
          "unacc",
          "acc",
          "unacc",
          "acc",
          "acc",
          "unacc",
          "unacc",
          "unacc",
          "unacc",
          "acc",
          "acc",
          "unacc",
          "acc",
          "acc",
          "unacc",
          "unacc",
          "unacc",
          "unacc",
          "acc",
          "acc",
          "unacc",
          "acc",
          "acc",
          "unacc",
          "unacc",
          "unacc",
          "unacc",
          "unacc",
          "unacc",
          "unacc",
          "unacc",
          "unacc",
          "unacc",
          "unacc",
          "unacc",
          "unacc",
          "unacc",
          "unacc",
          "unacc",
          "unacc",
          "unacc",
          "unacc",
          "unacc",
          "unacc",
          "unacc",
          "unacc",
          "unacc",
          "unacc",
          "unacc",
          "unacc",
          "unacc",
          "unacc",
          "unacc",
          "unacc",
          "unacc",
          "unacc",
          "unacc",
          "unacc",
          "unacc",
          "unacc",
          "unacc",
          "unacc",
          "unacc",
          "unacc",
          "acc",
          "unacc",
          "unacc",
          "acc",
          "unacc",
          "unacc",
          "unacc",
          "unacc",
          "unacc",
          "acc",
          "unacc",
          "acc",
          "acc",
          "unacc",
          "unacc",
          "unacc",
          "unacc",
          "acc",
          "acc",
          "unacc",
          "acc",
          "acc",
          "unacc",
          "unacc",
          "unacc",
          "unacc",
          "acc",
          "acc",
          "unacc",
          "acc",
          "acc",
          "unacc",
          "unacc",
          "unacc",
          "unacc",
          "unacc",
          "acc",
          "unacc",
          "unacc",
          "acc",
          "unacc",
          "unacc",
          "unacc",
          "unacc",
          "unacc",
          "acc",
          "unacc",
          "acc",
          "acc",
          "unacc",
          "unacc",
          "unacc",
          "unacc",
          "acc",
          "acc",
          "unacc",
          "acc",
          "acc",
          "unacc",
          "unacc",
          "unacc",
          "unacc",
          "acc",
          "acc",
          "unacc",
          "acc",
          "acc",
          "unacc",
          "unacc",
          "unacc",
          "unacc",
          "unacc",
          "acc",
          "unacc",
          "unacc",
          "acc",
          "unacc",
          "unacc",
          "unacc",
          "unacc",
          "unacc",
          "acc",
          "unacc",
          "acc",
          "acc",
          "unacc",
          "unacc",
          "unacc",
          "unacc",
          "acc",
          "acc",
          "unacc",
          "acc",
          "acc",
          "unacc",
          "unacc",
          "unacc",
          "unacc",
          "acc",
          "acc",
          "unacc",
          "acc",
          "acc",
          "unacc",
          "unacc",
          "unacc",
          "unacc",
          "unacc",
          "acc",
          "unacc",
          "unacc",
          "acc",
          "unacc",
          "unacc",
          "unacc",
          "unacc",
          "unacc",
          "acc",
          "unacc",
          "acc",
          "acc",
          "unacc",
          "unacc",
          "unacc",
          "unacc",
          "acc",
          "acc",
          "unacc",
          "acc",
          "acc",
          "unacc",
          "unacc",
          "unacc",
          "unacc",
          "acc",
          "acc",
          "unacc",
          "acc",
          "acc",
          "unacc",
          "unacc",
          "unacc",
          "unacc",
          "unacc",
          "acc",
          "unacc",
          "unacc",
          "acc",
          "unacc",
          "unacc",
          "unacc",
          "unacc",
          "unacc",
          "acc",
          "unacc",
          "acc",
          "acc",
          "unacc",
          "unacc",
          "unacc",
          "unacc",
          "acc",
          "acc",
          "unacc",
          "acc",
          "acc",
          "unacc",
          "unacc",
          "unacc",
          "unacc",
          "acc",
          "acc",
          "unacc",
          "acc",
          "acc",
          "unacc",
          "unacc",
          "unacc",
          "acc",
          "acc",
          "acc",
          "unacc",
          "acc",
          "acc",
          "unacc",
          "unacc",
          "unacc",
          "acc",
          "acc",
          "acc",
          "acc",
          "acc",
          "acc",
          "unacc",
          "unacc",
          "unacc",
          "acc",
          "acc",
          "acc",
          "acc",
          "acc",
          "acc",
          "unacc",
          "unacc",
          "unacc",
          "acc",
          "acc",
          "acc",
          "acc",
          "acc",
          "acc",
          "unacc",
          "unacc",
          "unacc",
          "acc",
          "acc",
          "good",
          "unacc",
          "acc",
          "good",
          "unacc",
          "unacc",
          "unacc",
          "acc",
          "acc",
          "good",
          "acc",
          "good",
          "good",
          "unacc",
          "unacc",
          "unacc",
          "acc",
          "good",
          "good",
          "acc",
          "good",
          "good",
          "unacc",
          "unacc",
          "unacc",
          "acc",
          "good",
          "good",
          "acc",
          "good",
          "good",
          "unacc",
          "unacc",
          "unacc",
          "unacc",
          "unacc",
          "acc",
          "unacc",
          "unacc",
          "acc",
          "unacc",
          "unacc",
          "unacc",
          "unacc",
          "unacc",
          "acc",
          "unacc",
          "acc",
          "acc",
          "unacc",
          "unacc",
          "unacc",
          "unacc",
          "acc",
          "acc",
          "unacc",
          "acc",
          "acc",
          "unacc",
          "unacc",
          "unacc",
          "unacc",
          "acc",
          "acc",
          "unacc",
          "acc",
          "acc",
          "unacc",
          "unacc",
          "unacc",
          "acc",
          "acc",
          "acc",
          "unacc",
          "acc",
          "acc",
          "unacc",
          "unacc",
          "unacc",
          "acc",
          "acc",
          "acc",
          "acc",
          "acc",
          "acc",
          "unacc",
          "unacc",
          "unacc",
          "acc",
          "acc",
          "acc",
          "acc",
          "acc",
          "acc",
          "unacc",
          "unacc",
          "unacc",
          "acc",
          "acc",
          "acc",
          "acc",
          "acc",
          "acc",
          "unacc",
          "unacc",
          "unacc",
          "acc",
          "acc",
          "good",
          "unacc",
          "acc",
          "good",
          "unacc",
          "unacc",
          "unacc",
          "acc",
          "acc",
          "good",
          "acc",
          "good",
          "good",
          "unacc",
          "unacc",
          "unacc",
          "acc",
          "good",
          "good",
          "acc",
          "good",
          "good",
          "unacc",
          "unacc",
          "unacc",
          "acc",
          "good",
          "good",
          "acc",
          "good",
          "good",
          "unacc",
          "unacc",
          "unacc",
          "acc",
          "acc",
          "good",
          "unacc",
          "acc",
          "good",
          "unacc",
          "unacc",
          "unacc",
          "acc",
          "acc",
          "good",
          "acc",
          "good",
          "good",
          "unacc",
          "unacc",
          "unacc",
          "acc",
          "good",
          "good",
          "acc",
          "good",
          "good",
          "unacc",
          "unacc",
          "unacc",
          "acc",
          "good",
          "good",
          "acc",
          "good",
          "good"
         ],
         "xaxis": "x",
         "yaxis": "y"
        },
        {
         "alignmentgroup": "True",
         "bingroup": "x",
         "hovertemplate": "safety=high<br>class=%{x}<br>count=%{y}<extra></extra>",
         "legendgroup": "high",
         "marker": {
          "color": "#00cc96",
          "pattern": {
           "shape": ""
          }
         },
         "name": "high",
         "offsetgroup": "high",
         "orientation": "v",
         "showlegend": true,
         "type": "histogram",
         "x": [
          "unacc",
          "unacc",
          "unacc",
          "unacc",
          "unacc",
          "unacc",
          "unacc",
          "unacc",
          "unacc",
          "unacc",
          "unacc",
          "unacc",
          "unacc",
          "unacc",
          "unacc",
          "unacc",
          "unacc",
          "unacc",
          "unacc",
          "unacc",
          "unacc",
          "unacc",
          "unacc",
          "unacc",
          "unacc",
          "unacc",
          "unacc",
          "unacc",
          "unacc",
          "unacc",
          "unacc",
          "unacc",
          "unacc",
          "unacc",
          "unacc",
          "unacc",
          "unacc",
          "unacc",
          "unacc",
          "unacc",
          "unacc",
          "unacc",
          "unacc",
          "unacc",
          "unacc",
          "unacc",
          "unacc",
          "unacc",
          "unacc",
          "unacc",
          "unacc",
          "unacc",
          "unacc",
          "unacc",
          "unacc",
          "unacc",
          "unacc",
          "unacc",
          "unacc",
          "unacc",
          "unacc",
          "unacc",
          "unacc",
          "unacc",
          "unacc",
          "unacc",
          "unacc",
          "unacc",
          "unacc",
          "unacc",
          "unacc",
          "unacc",
          "unacc",
          "unacc",
          "unacc",
          "acc",
          "acc",
          "acc",
          "unacc",
          "acc",
          "acc",
          "unacc",
          "unacc",
          "unacc",
          "acc",
          "acc",
          "acc",
          "acc",
          "acc",
          "acc",
          "unacc",
          "unacc",
          "unacc",
          "acc",
          "acc",
          "acc",
          "acc",
          "acc",
          "acc",
          "unacc",
          "unacc",
          "unacc",
          "acc",
          "acc",
          "acc",
          "acc",
          "acc",
          "acc",
          "unacc",
          "unacc",
          "unacc",
          "acc",
          "acc",
          "acc",
          "unacc",
          "acc",
          "acc",
          "unacc",
          "unacc",
          "unacc",
          "acc",
          "acc",
          "acc",
          "acc",
          "acc",
          "acc",
          "unacc",
          "unacc",
          "unacc",
          "acc",
          "acc",
          "acc",
          "acc",
          "acc",
          "acc",
          "unacc",
          "unacc",
          "unacc",
          "acc",
          "acc",
          "acc",
          "acc",
          "acc",
          "acc",
          "unacc",
          "unacc",
          "unacc",
          "unacc",
          "unacc",
          "unacc",
          "unacc",
          "unacc",
          "unacc",
          "unacc",
          "unacc",
          "unacc",
          "unacc",
          "unacc",
          "unacc",
          "unacc",
          "unacc",
          "unacc",
          "unacc",
          "unacc",
          "unacc",
          "unacc",
          "unacc",
          "unacc",
          "unacc",
          "unacc",
          "unacc",
          "unacc",
          "unacc",
          "unacc",
          "unacc",
          "unacc",
          "unacc",
          "unacc",
          "unacc",
          "unacc",
          "unacc",
          "unacc",
          "unacc",
          "acc",
          "acc",
          "acc",
          "unacc",
          "acc",
          "acc",
          "unacc",
          "unacc",
          "unacc",
          "acc",
          "acc",
          "acc",
          "acc",
          "acc",
          "acc",
          "unacc",
          "unacc",
          "unacc",
          "acc",
          "acc",
          "acc",
          "acc",
          "acc",
          "acc",
          "unacc",
          "unacc",
          "unacc",
          "acc",
          "acc",
          "acc",
          "acc",
          "acc",
          "acc",
          "unacc",
          "unacc",
          "unacc",
          "acc",
          "acc",
          "acc",
          "unacc",
          "acc",
          "acc",
          "unacc",
          "unacc",
          "unacc",
          "acc",
          "acc",
          "acc",
          "acc",
          "acc",
          "acc",
          "unacc",
          "unacc",
          "unacc",
          "acc",
          "acc",
          "acc",
          "acc",
          "acc",
          "acc",
          "unacc",
          "unacc",
          "unacc",
          "acc",
          "acc",
          "acc",
          "acc",
          "acc",
          "acc",
          "unacc",
          "unacc",
          "unacc",
          "acc",
          "acc",
          "acc",
          "unacc",
          "acc",
          "acc",
          "unacc",
          "unacc",
          "unacc",
          "acc",
          "acc",
          "acc",
          "acc",
          "acc",
          "acc",
          "unacc",
          "unacc",
          "unacc",
          "acc",
          "acc",
          "acc",
          "acc",
          "acc",
          "acc",
          "unacc",
          "unacc",
          "unacc",
          "acc",
          "acc",
          "acc",
          "acc",
          "acc",
          "acc",
          "unacc",
          "unacc",
          "unacc",
          "acc",
          "acc",
          "acc",
          "unacc",
          "acc",
          "acc",
          "unacc",
          "unacc",
          "unacc",
          "acc",
          "acc",
          "acc",
          "acc",
          "acc",
          "acc",
          "unacc",
          "unacc",
          "unacc",
          "acc",
          "acc",
          "acc",
          "acc",
          "acc",
          "acc",
          "unacc",
          "unacc",
          "unacc",
          "acc",
          "acc",
          "acc",
          "acc",
          "acc",
          "acc",
          "unacc",
          "unacc",
          "unacc",
          "acc",
          "acc",
          "acc",
          "unacc",
          "acc",
          "acc",
          "unacc",
          "unacc",
          "unacc",
          "acc",
          "acc",
          "acc",
          "acc",
          "acc",
          "acc",
          "unacc",
          "unacc",
          "unacc",
          "acc",
          "acc",
          "acc",
          "acc",
          "acc",
          "acc",
          "unacc",
          "unacc",
          "unacc",
          "acc",
          "acc",
          "acc",
          "acc",
          "acc",
          "acc",
          "unacc",
          "unacc",
          "unacc",
          "acc",
          "acc",
          "vgood",
          "unacc",
          "acc",
          "vgood",
          "unacc",
          "unacc",
          "unacc",
          "acc",
          "acc",
          "vgood",
          "acc",
          "vgood",
          "vgood",
          "unacc",
          "unacc",
          "unacc",
          "acc",
          "vgood",
          "vgood",
          "acc",
          "vgood",
          "vgood",
          "unacc",
          "unacc",
          "unacc",
          "acc",
          "vgood",
          "vgood",
          "acc",
          "vgood",
          "vgood",
          "unacc",
          "unacc",
          "unacc",
          "good",
          "good",
          "vgood",
          "unacc",
          "good",
          "vgood",
          "unacc",
          "unacc",
          "unacc",
          "good",
          "good",
          "vgood",
          "good",
          "vgood",
          "vgood",
          "unacc",
          "unacc",
          "unacc",
          "good",
          "vgood",
          "vgood",
          "good",
          "vgood",
          "vgood",
          "unacc",
          "unacc",
          "unacc",
          "good",
          "vgood",
          "vgood",
          "good",
          "vgood",
          "vgood",
          "unacc",
          "unacc",
          "unacc",
          "acc",
          "acc",
          "acc",
          "unacc",
          "acc",
          "acc",
          "unacc",
          "unacc",
          "unacc",
          "acc",
          "acc",
          "acc",
          "acc",
          "acc",
          "acc",
          "unacc",
          "unacc",
          "unacc",
          "acc",
          "acc",
          "acc",
          "acc",
          "acc",
          "acc",
          "unacc",
          "unacc",
          "unacc",
          "acc",
          "acc",
          "acc",
          "acc",
          "acc",
          "acc",
          "unacc",
          "unacc",
          "unacc",
          "acc",
          "acc",
          "vgood",
          "unacc",
          "acc",
          "vgood",
          "unacc",
          "unacc",
          "unacc",
          "acc",
          "acc",
          "vgood",
          "acc",
          "vgood",
          "vgood",
          "unacc",
          "unacc",
          "unacc",
          "acc",
          "vgood",
          "vgood",
          "acc",
          "vgood",
          "vgood",
          "unacc",
          "unacc",
          "unacc",
          "acc",
          "vgood",
          "vgood",
          "acc",
          "vgood",
          "vgood",
          "unacc",
          "unacc",
          "unacc",
          "good",
          "good",
          "vgood",
          "unacc",
          "good",
          "vgood",
          "unacc",
          "unacc",
          "unacc",
          "good",
          "good",
          "vgood",
          "good",
          "vgood",
          "vgood",
          "unacc",
          "unacc",
          "unacc",
          "good",
          "vgood",
          "vgood",
          "good",
          "vgood",
          "vgood",
          "unacc",
          "unacc",
          "unacc",
          "good",
          "vgood",
          "vgood",
          "good",
          "vgood",
          "vgood",
          "unacc",
          "unacc",
          "unacc",
          "good",
          "good",
          "vgood",
          "unacc",
          "good",
          "vgood",
          "unacc",
          "unacc",
          "unacc",
          "good",
          "good",
          "vgood",
          "good",
          "vgood",
          "vgood",
          "unacc",
          "unacc",
          "unacc",
          "good",
          "vgood",
          "vgood",
          "good",
          "vgood",
          "vgood",
          "unacc",
          "unacc",
          "unacc",
          "good",
          "vgood",
          "vgood",
          "good",
          "vgood",
          "vgood"
         ],
         "xaxis": "x",
         "yaxis": "y"
        }
       ],
       "layout": {
        "barmode": "relative",
        "legend": {
         "title": {
          "text": "safety"
         },
         "tracegroupgap": 0
        },
        "template": {
         "data": {
          "bar": [
           {
            "error_x": {
             "color": "#2a3f5f"
            },
            "error_y": {
             "color": "#2a3f5f"
            },
            "marker": {
             "line": {
              "color": "#E5ECF6",
              "width": 0.5
             },
             "pattern": {
              "fillmode": "overlay",
              "size": 10,
              "solidity": 0.2
             }
            },
            "type": "bar"
           }
          ],
          "barpolar": [
           {
            "marker": {
             "line": {
              "color": "#E5ECF6",
              "width": 0.5
             },
             "pattern": {
              "fillmode": "overlay",
              "size": 10,
              "solidity": 0.2
             }
            },
            "type": "barpolar"
           }
          ],
          "carpet": [
           {
            "aaxis": {
             "endlinecolor": "#2a3f5f",
             "gridcolor": "white",
             "linecolor": "white",
             "minorgridcolor": "white",
             "startlinecolor": "#2a3f5f"
            },
            "baxis": {
             "endlinecolor": "#2a3f5f",
             "gridcolor": "white",
             "linecolor": "white",
             "minorgridcolor": "white",
             "startlinecolor": "#2a3f5f"
            },
            "type": "carpet"
           }
          ],
          "choropleth": [
           {
            "colorbar": {
             "outlinewidth": 0,
             "ticks": ""
            },
            "type": "choropleth"
           }
          ],
          "contour": [
           {
            "colorbar": {
             "outlinewidth": 0,
             "ticks": ""
            },
            "colorscale": [
             [
              0,
              "#0d0887"
             ],
             [
              0.1111111111111111,
              "#46039f"
             ],
             [
              0.2222222222222222,
              "#7201a8"
             ],
             [
              0.3333333333333333,
              "#9c179e"
             ],
             [
              0.4444444444444444,
              "#bd3786"
             ],
             [
              0.5555555555555556,
              "#d8576b"
             ],
             [
              0.6666666666666666,
              "#ed7953"
             ],
             [
              0.7777777777777778,
              "#fb9f3a"
             ],
             [
              0.8888888888888888,
              "#fdca26"
             ],
             [
              1,
              "#f0f921"
             ]
            ],
            "type": "contour"
           }
          ],
          "contourcarpet": [
           {
            "colorbar": {
             "outlinewidth": 0,
             "ticks": ""
            },
            "type": "contourcarpet"
           }
          ],
          "heatmap": [
           {
            "colorbar": {
             "outlinewidth": 0,
             "ticks": ""
            },
            "colorscale": [
             [
              0,
              "#0d0887"
             ],
             [
              0.1111111111111111,
              "#46039f"
             ],
             [
              0.2222222222222222,
              "#7201a8"
             ],
             [
              0.3333333333333333,
              "#9c179e"
             ],
             [
              0.4444444444444444,
              "#bd3786"
             ],
             [
              0.5555555555555556,
              "#d8576b"
             ],
             [
              0.6666666666666666,
              "#ed7953"
             ],
             [
              0.7777777777777778,
              "#fb9f3a"
             ],
             [
              0.8888888888888888,
              "#fdca26"
             ],
             [
              1,
              "#f0f921"
             ]
            ],
            "type": "heatmap"
           }
          ],
          "heatmapgl": [
           {
            "colorbar": {
             "outlinewidth": 0,
             "ticks": ""
            },
            "colorscale": [
             [
              0,
              "#0d0887"
             ],
             [
              0.1111111111111111,
              "#46039f"
             ],
             [
              0.2222222222222222,
              "#7201a8"
             ],
             [
              0.3333333333333333,
              "#9c179e"
             ],
             [
              0.4444444444444444,
              "#bd3786"
             ],
             [
              0.5555555555555556,
              "#d8576b"
             ],
             [
              0.6666666666666666,
              "#ed7953"
             ],
             [
              0.7777777777777778,
              "#fb9f3a"
             ],
             [
              0.8888888888888888,
              "#fdca26"
             ],
             [
              1,
              "#f0f921"
             ]
            ],
            "type": "heatmapgl"
           }
          ],
          "histogram": [
           {
            "marker": {
             "pattern": {
              "fillmode": "overlay",
              "size": 10,
              "solidity": 0.2
             }
            },
            "type": "histogram"
           }
          ],
          "histogram2d": [
           {
            "colorbar": {
             "outlinewidth": 0,
             "ticks": ""
            },
            "colorscale": [
             [
              0,
              "#0d0887"
             ],
             [
              0.1111111111111111,
              "#46039f"
             ],
             [
              0.2222222222222222,
              "#7201a8"
             ],
             [
              0.3333333333333333,
              "#9c179e"
             ],
             [
              0.4444444444444444,
              "#bd3786"
             ],
             [
              0.5555555555555556,
              "#d8576b"
             ],
             [
              0.6666666666666666,
              "#ed7953"
             ],
             [
              0.7777777777777778,
              "#fb9f3a"
             ],
             [
              0.8888888888888888,
              "#fdca26"
             ],
             [
              1,
              "#f0f921"
             ]
            ],
            "type": "histogram2d"
           }
          ],
          "histogram2dcontour": [
           {
            "colorbar": {
             "outlinewidth": 0,
             "ticks": ""
            },
            "colorscale": [
             [
              0,
              "#0d0887"
             ],
             [
              0.1111111111111111,
              "#46039f"
             ],
             [
              0.2222222222222222,
              "#7201a8"
             ],
             [
              0.3333333333333333,
              "#9c179e"
             ],
             [
              0.4444444444444444,
              "#bd3786"
             ],
             [
              0.5555555555555556,
              "#d8576b"
             ],
             [
              0.6666666666666666,
              "#ed7953"
             ],
             [
              0.7777777777777778,
              "#fb9f3a"
             ],
             [
              0.8888888888888888,
              "#fdca26"
             ],
             [
              1,
              "#f0f921"
             ]
            ],
            "type": "histogram2dcontour"
           }
          ],
          "mesh3d": [
           {
            "colorbar": {
             "outlinewidth": 0,
             "ticks": ""
            },
            "type": "mesh3d"
           }
          ],
          "parcoords": [
           {
            "line": {
             "colorbar": {
              "outlinewidth": 0,
              "ticks": ""
             }
            },
            "type": "parcoords"
           }
          ],
          "pie": [
           {
            "automargin": true,
            "type": "pie"
           }
          ],
          "scatter": [
           {
            "fillpattern": {
             "fillmode": "overlay",
             "size": 10,
             "solidity": 0.2
            },
            "type": "scatter"
           }
          ],
          "scatter3d": [
           {
            "line": {
             "colorbar": {
              "outlinewidth": 0,
              "ticks": ""
             }
            },
            "marker": {
             "colorbar": {
              "outlinewidth": 0,
              "ticks": ""
             }
            },
            "type": "scatter3d"
           }
          ],
          "scattercarpet": [
           {
            "marker": {
             "colorbar": {
              "outlinewidth": 0,
              "ticks": ""
             }
            },
            "type": "scattercarpet"
           }
          ],
          "scattergeo": [
           {
            "marker": {
             "colorbar": {
              "outlinewidth": 0,
              "ticks": ""
             }
            },
            "type": "scattergeo"
           }
          ],
          "scattergl": [
           {
            "marker": {
             "colorbar": {
              "outlinewidth": 0,
              "ticks": ""
             }
            },
            "type": "scattergl"
           }
          ],
          "scattermapbox": [
           {
            "marker": {
             "colorbar": {
              "outlinewidth": 0,
              "ticks": ""
             }
            },
            "type": "scattermapbox"
           }
          ],
          "scatterpolar": [
           {
            "marker": {
             "colorbar": {
              "outlinewidth": 0,
              "ticks": ""
             }
            },
            "type": "scatterpolar"
           }
          ],
          "scatterpolargl": [
           {
            "marker": {
             "colorbar": {
              "outlinewidth": 0,
              "ticks": ""
             }
            },
            "type": "scatterpolargl"
           }
          ],
          "scatterternary": [
           {
            "marker": {
             "colorbar": {
              "outlinewidth": 0,
              "ticks": ""
             }
            },
            "type": "scatterternary"
           }
          ],
          "surface": [
           {
            "colorbar": {
             "outlinewidth": 0,
             "ticks": ""
            },
            "colorscale": [
             [
              0,
              "#0d0887"
             ],
             [
              0.1111111111111111,
              "#46039f"
             ],
             [
              0.2222222222222222,
              "#7201a8"
             ],
             [
              0.3333333333333333,
              "#9c179e"
             ],
             [
              0.4444444444444444,
              "#bd3786"
             ],
             [
              0.5555555555555556,
              "#d8576b"
             ],
             [
              0.6666666666666666,
              "#ed7953"
             ],
             [
              0.7777777777777778,
              "#fb9f3a"
             ],
             [
              0.8888888888888888,
              "#fdca26"
             ],
             [
              1,
              "#f0f921"
             ]
            ],
            "type": "surface"
           }
          ],
          "table": [
           {
            "cells": {
             "fill": {
              "color": "#EBF0F8"
             },
             "line": {
              "color": "white"
             }
            },
            "header": {
             "fill": {
              "color": "#C8D4E3"
             },
             "line": {
              "color": "white"
             }
            },
            "type": "table"
           }
          ]
         },
         "layout": {
          "annotationdefaults": {
           "arrowcolor": "#2a3f5f",
           "arrowhead": 0,
           "arrowwidth": 1
          },
          "autotypenumbers": "strict",
          "coloraxis": {
           "colorbar": {
            "outlinewidth": 0,
            "ticks": ""
           }
          },
          "colorscale": {
           "diverging": [
            [
             0,
             "#8e0152"
            ],
            [
             0.1,
             "#c51b7d"
            ],
            [
             0.2,
             "#de77ae"
            ],
            [
             0.3,
             "#f1b6da"
            ],
            [
             0.4,
             "#fde0ef"
            ],
            [
             0.5,
             "#f7f7f7"
            ],
            [
             0.6,
             "#e6f5d0"
            ],
            [
             0.7,
             "#b8e186"
            ],
            [
             0.8,
             "#7fbc41"
            ],
            [
             0.9,
             "#4d9221"
            ],
            [
             1,
             "#276419"
            ]
           ],
           "sequential": [
            [
             0,
             "#0d0887"
            ],
            [
             0.1111111111111111,
             "#46039f"
            ],
            [
             0.2222222222222222,
             "#7201a8"
            ],
            [
             0.3333333333333333,
             "#9c179e"
            ],
            [
             0.4444444444444444,
             "#bd3786"
            ],
            [
             0.5555555555555556,
             "#d8576b"
            ],
            [
             0.6666666666666666,
             "#ed7953"
            ],
            [
             0.7777777777777778,
             "#fb9f3a"
            ],
            [
             0.8888888888888888,
             "#fdca26"
            ],
            [
             1,
             "#f0f921"
            ]
           ],
           "sequentialminus": [
            [
             0,
             "#0d0887"
            ],
            [
             0.1111111111111111,
             "#46039f"
            ],
            [
             0.2222222222222222,
             "#7201a8"
            ],
            [
             0.3333333333333333,
             "#9c179e"
            ],
            [
             0.4444444444444444,
             "#bd3786"
            ],
            [
             0.5555555555555556,
             "#d8576b"
            ],
            [
             0.6666666666666666,
             "#ed7953"
            ],
            [
             0.7777777777777778,
             "#fb9f3a"
            ],
            [
             0.8888888888888888,
             "#fdca26"
            ],
            [
             1,
             "#f0f921"
            ]
           ]
          },
          "colorway": [
           "#636efa",
           "#EF553B",
           "#00cc96",
           "#ab63fa",
           "#FFA15A",
           "#19d3f3",
           "#FF6692",
           "#B6E880",
           "#FF97FF",
           "#FECB52"
          ],
          "font": {
           "color": "#2a3f5f"
          },
          "geo": {
           "bgcolor": "white",
           "lakecolor": "white",
           "landcolor": "#E5ECF6",
           "showlakes": true,
           "showland": true,
           "subunitcolor": "white"
          },
          "hoverlabel": {
           "align": "left"
          },
          "hovermode": "closest",
          "mapbox": {
           "style": "light"
          },
          "paper_bgcolor": "white",
          "plot_bgcolor": "#E5ECF6",
          "polar": {
           "angularaxis": {
            "gridcolor": "white",
            "linecolor": "white",
            "ticks": ""
           },
           "bgcolor": "#E5ECF6",
           "radialaxis": {
            "gridcolor": "white",
            "linecolor": "white",
            "ticks": ""
           }
          },
          "scene": {
           "xaxis": {
            "backgroundcolor": "#E5ECF6",
            "gridcolor": "white",
            "gridwidth": 2,
            "linecolor": "white",
            "showbackground": true,
            "ticks": "",
            "zerolinecolor": "white"
           },
           "yaxis": {
            "backgroundcolor": "#E5ECF6",
            "gridcolor": "white",
            "gridwidth": 2,
            "linecolor": "white",
            "showbackground": true,
            "ticks": "",
            "zerolinecolor": "white"
           },
           "zaxis": {
            "backgroundcolor": "#E5ECF6",
            "gridcolor": "white",
            "gridwidth": 2,
            "linecolor": "white",
            "showbackground": true,
            "ticks": "",
            "zerolinecolor": "white"
           }
          },
          "shapedefaults": {
           "line": {
            "color": "#2a3f5f"
           }
          },
          "ternary": {
           "aaxis": {
            "gridcolor": "white",
            "linecolor": "white",
            "ticks": ""
           },
           "baxis": {
            "gridcolor": "white",
            "linecolor": "white",
            "ticks": ""
           },
           "bgcolor": "#E5ECF6",
           "caxis": {
            "gridcolor": "white",
            "linecolor": "white",
            "ticks": ""
           }
          },
          "title": {
           "x": 0.05
          },
          "xaxis": {
           "automargin": true,
           "gridcolor": "white",
           "linecolor": "white",
           "ticks": "",
           "title": {
            "standoff": 15
           },
           "zerolinecolor": "white",
           "zerolinewidth": 2
          },
          "yaxis": {
           "automargin": true,
           "gridcolor": "white",
           "linecolor": "white",
           "ticks": "",
           "title": {
            "standoff": 15
           },
           "zerolinecolor": "white",
           "zerolinewidth": 2
          }
         }
        },
        "title": {
         "text": "Car Class Distribution Chart"
        },
        "xaxis": {
         "anchor": "y",
         "domain": [
          0,
          1
         ],
         "title": {
          "text": "class"
         }
        },
        "yaxis": {
         "anchor": "x",
         "domain": [
          0,
          1
         ],
         "title": {
          "text": "count"
         }
        }
       }
      }
     },
     "metadata": {},
     "output_type": "display_data"
    }
   ],
   "source": [
    "px.histogram(data_frame=df, x='class', color='safety', title='Car Class Distribution Chart')"
   ]
  },
  {
   "cell_type": "code",
   "execution_count": 13,
   "metadata": {},
   "outputs": [
    {
     "name": "stdout",
     "output_type": "stream",
     "text": [
      "Transforming column `buying`...\n",
      "Transforming column `maint`...\n",
      "Transforming column `doors`...\n",
      "Transforming column `persons`...\n",
      "Transforming column `lug_boot`...\n",
      "Transforming column `safety`...\n",
      "Transforming column `class`...\n"
     ]
    }
   ],
   "source": [
    "le = LabelEncoder()\n",
    "for col in df.columns:\n",
    "    print(f'Transforming column `{col}`...')\n",
    "    df[col] = le.fit_transform(df[col])"
   ]
  },
  {
   "cell_type": "markdown",
   "metadata": {},
   "source": [
    "Correlations after encoding the labels:"
   ]
  },
  {
   "cell_type": "code",
   "execution_count": 16,
   "metadata": {},
   "outputs": [
    {
     "data": {
      "application/vnd.plotly.v1+json": {
       "config": {
        "plotlyServerURL": "https://plot.ly"
       },
       "data": [
        {
         "coloraxis": "coloraxis",
         "hovertemplate": "x: %{x}<br>y: %{y}<br>color: %{z}<extra></extra>",
         "name": "0",
         "type": "heatmap",
         "x": [
          "buying",
          "maint",
          "doors",
          "persons",
          "lug_boot",
          "safety",
          "class"
         ],
         "xaxis": "x",
         "y": [
          "buying",
          "maint",
          "doors",
          "persons",
          "lug_boot",
          "safety",
          "class"
         ],
         "yaxis": "y",
         "z": [
          [
           1,
           -3.436808450998198e-16,
           -2.0970879354030734e-16,
           -4.0891519325782347e-17,
           -1.6912619783107577e-16,
           -2.439414905045812e-16,
           0.05142422396992588
          ],
          [
           -3.436808450998198e-16,
           1,
           -6.466021134159474e-17,
           -4.2721432410929205e-17,
           -1.5490918078493448e-16,
           -1.4048101992127637e-16,
           0.04019364632132061
          ],
          [
           -2.0970879354030734e-16,
           -6.466021134159474e-17,
           1,
           1.9565993756570552e-17,
           -1.942523121155926e-17,
           1.0627572148353075e-16,
           -0.03132740080926469
          ],
          [
           -4.0891519325782347e-17,
           -4.2721432410929205e-17,
           1.9565993756570552e-17,
           1,
           3.854941057726235e-18,
           3.392348130799087e-17,
           -0.2994682978188095
          ],
          [
           -1.6912619783107577e-16,
           -1.5490918078493448e-16,
           -1.942523121155926e-17,
           3.854941057726235e-18,
           1,
           -1.5419764230904953e-17,
           0.033184324893435514
          ],
          [
           -2.439414905045812e-16,
           -1.4048101992127637e-16,
           1.0627572148353075e-16,
           3.392348130799087e-17,
           -1.5419764230904953e-17,
           1,
           -0.021043718225105715
          ],
          [
           0.05142422396992588,
           0.04019364632132061,
           -0.03132740080926469,
           -0.2994682978188095,
           0.033184324893435514,
           -0.021043718225105715,
           1
          ]
         ]
        }
       ],
       "layout": {
        "coloraxis": {
         "colorscale": [
          [
           0,
           "#0d0887"
          ],
          [
           0.1111111111111111,
           "#46039f"
          ],
          [
           0.2222222222222222,
           "#7201a8"
          ],
          [
           0.3333333333333333,
           "#9c179e"
          ],
          [
           0.4444444444444444,
           "#bd3786"
          ],
          [
           0.5555555555555556,
           "#d8576b"
          ],
          [
           0.6666666666666666,
           "#ed7953"
          ],
          [
           0.7777777777777778,
           "#fb9f3a"
          ],
          [
           0.8888888888888888,
           "#fdca26"
          ],
          [
           1,
           "#f0f921"
          ]
         ]
        },
        "margin": {
         "t": 60
        },
        "template": {
         "data": {
          "bar": [
           {
            "error_x": {
             "color": "#2a3f5f"
            },
            "error_y": {
             "color": "#2a3f5f"
            },
            "marker": {
             "line": {
              "color": "#E5ECF6",
              "width": 0.5
             },
             "pattern": {
              "fillmode": "overlay",
              "size": 10,
              "solidity": 0.2
             }
            },
            "type": "bar"
           }
          ],
          "barpolar": [
           {
            "marker": {
             "line": {
              "color": "#E5ECF6",
              "width": 0.5
             },
             "pattern": {
              "fillmode": "overlay",
              "size": 10,
              "solidity": 0.2
             }
            },
            "type": "barpolar"
           }
          ],
          "carpet": [
           {
            "aaxis": {
             "endlinecolor": "#2a3f5f",
             "gridcolor": "white",
             "linecolor": "white",
             "minorgridcolor": "white",
             "startlinecolor": "#2a3f5f"
            },
            "baxis": {
             "endlinecolor": "#2a3f5f",
             "gridcolor": "white",
             "linecolor": "white",
             "minorgridcolor": "white",
             "startlinecolor": "#2a3f5f"
            },
            "type": "carpet"
           }
          ],
          "choropleth": [
           {
            "colorbar": {
             "outlinewidth": 0,
             "ticks": ""
            },
            "type": "choropleth"
           }
          ],
          "contour": [
           {
            "colorbar": {
             "outlinewidth": 0,
             "ticks": ""
            },
            "colorscale": [
             [
              0,
              "#0d0887"
             ],
             [
              0.1111111111111111,
              "#46039f"
             ],
             [
              0.2222222222222222,
              "#7201a8"
             ],
             [
              0.3333333333333333,
              "#9c179e"
             ],
             [
              0.4444444444444444,
              "#bd3786"
             ],
             [
              0.5555555555555556,
              "#d8576b"
             ],
             [
              0.6666666666666666,
              "#ed7953"
             ],
             [
              0.7777777777777778,
              "#fb9f3a"
             ],
             [
              0.8888888888888888,
              "#fdca26"
             ],
             [
              1,
              "#f0f921"
             ]
            ],
            "type": "contour"
           }
          ],
          "contourcarpet": [
           {
            "colorbar": {
             "outlinewidth": 0,
             "ticks": ""
            },
            "type": "contourcarpet"
           }
          ],
          "heatmap": [
           {
            "colorbar": {
             "outlinewidth": 0,
             "ticks": ""
            },
            "colorscale": [
             [
              0,
              "#0d0887"
             ],
             [
              0.1111111111111111,
              "#46039f"
             ],
             [
              0.2222222222222222,
              "#7201a8"
             ],
             [
              0.3333333333333333,
              "#9c179e"
             ],
             [
              0.4444444444444444,
              "#bd3786"
             ],
             [
              0.5555555555555556,
              "#d8576b"
             ],
             [
              0.6666666666666666,
              "#ed7953"
             ],
             [
              0.7777777777777778,
              "#fb9f3a"
             ],
             [
              0.8888888888888888,
              "#fdca26"
             ],
             [
              1,
              "#f0f921"
             ]
            ],
            "type": "heatmap"
           }
          ],
          "heatmapgl": [
           {
            "colorbar": {
             "outlinewidth": 0,
             "ticks": ""
            },
            "colorscale": [
             [
              0,
              "#0d0887"
             ],
             [
              0.1111111111111111,
              "#46039f"
             ],
             [
              0.2222222222222222,
              "#7201a8"
             ],
             [
              0.3333333333333333,
              "#9c179e"
             ],
             [
              0.4444444444444444,
              "#bd3786"
             ],
             [
              0.5555555555555556,
              "#d8576b"
             ],
             [
              0.6666666666666666,
              "#ed7953"
             ],
             [
              0.7777777777777778,
              "#fb9f3a"
             ],
             [
              0.8888888888888888,
              "#fdca26"
             ],
             [
              1,
              "#f0f921"
             ]
            ],
            "type": "heatmapgl"
           }
          ],
          "histogram": [
           {
            "marker": {
             "pattern": {
              "fillmode": "overlay",
              "size": 10,
              "solidity": 0.2
             }
            },
            "type": "histogram"
           }
          ],
          "histogram2d": [
           {
            "colorbar": {
             "outlinewidth": 0,
             "ticks": ""
            },
            "colorscale": [
             [
              0,
              "#0d0887"
             ],
             [
              0.1111111111111111,
              "#46039f"
             ],
             [
              0.2222222222222222,
              "#7201a8"
             ],
             [
              0.3333333333333333,
              "#9c179e"
             ],
             [
              0.4444444444444444,
              "#bd3786"
             ],
             [
              0.5555555555555556,
              "#d8576b"
             ],
             [
              0.6666666666666666,
              "#ed7953"
             ],
             [
              0.7777777777777778,
              "#fb9f3a"
             ],
             [
              0.8888888888888888,
              "#fdca26"
             ],
             [
              1,
              "#f0f921"
             ]
            ],
            "type": "histogram2d"
           }
          ],
          "histogram2dcontour": [
           {
            "colorbar": {
             "outlinewidth": 0,
             "ticks": ""
            },
            "colorscale": [
             [
              0,
              "#0d0887"
             ],
             [
              0.1111111111111111,
              "#46039f"
             ],
             [
              0.2222222222222222,
              "#7201a8"
             ],
             [
              0.3333333333333333,
              "#9c179e"
             ],
             [
              0.4444444444444444,
              "#bd3786"
             ],
             [
              0.5555555555555556,
              "#d8576b"
             ],
             [
              0.6666666666666666,
              "#ed7953"
             ],
             [
              0.7777777777777778,
              "#fb9f3a"
             ],
             [
              0.8888888888888888,
              "#fdca26"
             ],
             [
              1,
              "#f0f921"
             ]
            ],
            "type": "histogram2dcontour"
           }
          ],
          "mesh3d": [
           {
            "colorbar": {
             "outlinewidth": 0,
             "ticks": ""
            },
            "type": "mesh3d"
           }
          ],
          "parcoords": [
           {
            "line": {
             "colorbar": {
              "outlinewidth": 0,
              "ticks": ""
             }
            },
            "type": "parcoords"
           }
          ],
          "pie": [
           {
            "automargin": true,
            "type": "pie"
           }
          ],
          "scatter": [
           {
            "fillpattern": {
             "fillmode": "overlay",
             "size": 10,
             "solidity": 0.2
            },
            "type": "scatter"
           }
          ],
          "scatter3d": [
           {
            "line": {
             "colorbar": {
              "outlinewidth": 0,
              "ticks": ""
             }
            },
            "marker": {
             "colorbar": {
              "outlinewidth": 0,
              "ticks": ""
             }
            },
            "type": "scatter3d"
           }
          ],
          "scattercarpet": [
           {
            "marker": {
             "colorbar": {
              "outlinewidth": 0,
              "ticks": ""
             }
            },
            "type": "scattercarpet"
           }
          ],
          "scattergeo": [
           {
            "marker": {
             "colorbar": {
              "outlinewidth": 0,
              "ticks": ""
             }
            },
            "type": "scattergeo"
           }
          ],
          "scattergl": [
           {
            "marker": {
             "colorbar": {
              "outlinewidth": 0,
              "ticks": ""
             }
            },
            "type": "scattergl"
           }
          ],
          "scattermapbox": [
           {
            "marker": {
             "colorbar": {
              "outlinewidth": 0,
              "ticks": ""
             }
            },
            "type": "scattermapbox"
           }
          ],
          "scatterpolar": [
           {
            "marker": {
             "colorbar": {
              "outlinewidth": 0,
              "ticks": ""
             }
            },
            "type": "scatterpolar"
           }
          ],
          "scatterpolargl": [
           {
            "marker": {
             "colorbar": {
              "outlinewidth": 0,
              "ticks": ""
             }
            },
            "type": "scatterpolargl"
           }
          ],
          "scatterternary": [
           {
            "marker": {
             "colorbar": {
              "outlinewidth": 0,
              "ticks": ""
             }
            },
            "type": "scatterternary"
           }
          ],
          "surface": [
           {
            "colorbar": {
             "outlinewidth": 0,
             "ticks": ""
            },
            "colorscale": [
             [
              0,
              "#0d0887"
             ],
             [
              0.1111111111111111,
              "#46039f"
             ],
             [
              0.2222222222222222,
              "#7201a8"
             ],
             [
              0.3333333333333333,
              "#9c179e"
             ],
             [
              0.4444444444444444,
              "#bd3786"
             ],
             [
              0.5555555555555556,
              "#d8576b"
             ],
             [
              0.6666666666666666,
              "#ed7953"
             ],
             [
              0.7777777777777778,
              "#fb9f3a"
             ],
             [
              0.8888888888888888,
              "#fdca26"
             ],
             [
              1,
              "#f0f921"
             ]
            ],
            "type": "surface"
           }
          ],
          "table": [
           {
            "cells": {
             "fill": {
              "color": "#EBF0F8"
             },
             "line": {
              "color": "white"
             }
            },
            "header": {
             "fill": {
              "color": "#C8D4E3"
             },
             "line": {
              "color": "white"
             }
            },
            "type": "table"
           }
          ]
         },
         "layout": {
          "annotationdefaults": {
           "arrowcolor": "#2a3f5f",
           "arrowhead": 0,
           "arrowwidth": 1
          },
          "autotypenumbers": "strict",
          "coloraxis": {
           "colorbar": {
            "outlinewidth": 0,
            "ticks": ""
           }
          },
          "colorscale": {
           "diverging": [
            [
             0,
             "#8e0152"
            ],
            [
             0.1,
             "#c51b7d"
            ],
            [
             0.2,
             "#de77ae"
            ],
            [
             0.3,
             "#f1b6da"
            ],
            [
             0.4,
             "#fde0ef"
            ],
            [
             0.5,
             "#f7f7f7"
            ],
            [
             0.6,
             "#e6f5d0"
            ],
            [
             0.7,
             "#b8e186"
            ],
            [
             0.8,
             "#7fbc41"
            ],
            [
             0.9,
             "#4d9221"
            ],
            [
             1,
             "#276419"
            ]
           ],
           "sequential": [
            [
             0,
             "#0d0887"
            ],
            [
             0.1111111111111111,
             "#46039f"
            ],
            [
             0.2222222222222222,
             "#7201a8"
            ],
            [
             0.3333333333333333,
             "#9c179e"
            ],
            [
             0.4444444444444444,
             "#bd3786"
            ],
            [
             0.5555555555555556,
             "#d8576b"
            ],
            [
             0.6666666666666666,
             "#ed7953"
            ],
            [
             0.7777777777777778,
             "#fb9f3a"
            ],
            [
             0.8888888888888888,
             "#fdca26"
            ],
            [
             1,
             "#f0f921"
            ]
           ],
           "sequentialminus": [
            [
             0,
             "#0d0887"
            ],
            [
             0.1111111111111111,
             "#46039f"
            ],
            [
             0.2222222222222222,
             "#7201a8"
            ],
            [
             0.3333333333333333,
             "#9c179e"
            ],
            [
             0.4444444444444444,
             "#bd3786"
            ],
            [
             0.5555555555555556,
             "#d8576b"
            ],
            [
             0.6666666666666666,
             "#ed7953"
            ],
            [
             0.7777777777777778,
             "#fb9f3a"
            ],
            [
             0.8888888888888888,
             "#fdca26"
            ],
            [
             1,
             "#f0f921"
            ]
           ]
          },
          "colorway": [
           "#636efa",
           "#EF553B",
           "#00cc96",
           "#ab63fa",
           "#FFA15A",
           "#19d3f3",
           "#FF6692",
           "#B6E880",
           "#FF97FF",
           "#FECB52"
          ],
          "font": {
           "color": "#2a3f5f"
          },
          "geo": {
           "bgcolor": "white",
           "lakecolor": "white",
           "landcolor": "#E5ECF6",
           "showlakes": true,
           "showland": true,
           "subunitcolor": "white"
          },
          "hoverlabel": {
           "align": "left"
          },
          "hovermode": "closest",
          "mapbox": {
           "style": "light"
          },
          "paper_bgcolor": "white",
          "plot_bgcolor": "#E5ECF6",
          "polar": {
           "angularaxis": {
            "gridcolor": "white",
            "linecolor": "white",
            "ticks": ""
           },
           "bgcolor": "#E5ECF6",
           "radialaxis": {
            "gridcolor": "white",
            "linecolor": "white",
            "ticks": ""
           }
          },
          "scene": {
           "xaxis": {
            "backgroundcolor": "#E5ECF6",
            "gridcolor": "white",
            "gridwidth": 2,
            "linecolor": "white",
            "showbackground": true,
            "ticks": "",
            "zerolinecolor": "white"
           },
           "yaxis": {
            "backgroundcolor": "#E5ECF6",
            "gridcolor": "white",
            "gridwidth": 2,
            "linecolor": "white",
            "showbackground": true,
            "ticks": "",
            "zerolinecolor": "white"
           },
           "zaxis": {
            "backgroundcolor": "#E5ECF6",
            "gridcolor": "white",
            "gridwidth": 2,
            "linecolor": "white",
            "showbackground": true,
            "ticks": "",
            "zerolinecolor": "white"
           }
          },
          "shapedefaults": {
           "line": {
            "color": "#2a3f5f"
           }
          },
          "ternary": {
           "aaxis": {
            "gridcolor": "white",
            "linecolor": "white",
            "ticks": ""
           },
           "baxis": {
            "gridcolor": "white",
            "linecolor": "white",
            "ticks": ""
           },
           "bgcolor": "#E5ECF6",
           "caxis": {
            "gridcolor": "white",
            "linecolor": "white",
            "ticks": ""
           }
          },
          "title": {
           "x": 0.05
          },
          "xaxis": {
           "automargin": true,
           "gridcolor": "white",
           "linecolor": "white",
           "ticks": "",
           "title": {
            "standoff": 15
           },
           "zerolinecolor": "white",
           "zerolinewidth": 2
          },
          "yaxis": {
           "automargin": true,
           "gridcolor": "white",
           "linecolor": "white",
           "ticks": "",
           "title": {
            "standoff": 15
           },
           "zerolinecolor": "white",
           "zerolinewidth": 2
          }
         }
        },
        "xaxis": {
         "anchor": "y",
         "constrain": "domain",
         "domain": [
          0,
          1
         ],
         "scaleanchor": "y"
        },
        "yaxis": {
         "anchor": "x",
         "autorange": "reversed",
         "constrain": "domain",
         "domain": [
          0,
          1
         ]
        }
       }
      }
     },
     "metadata": {},
     "output_type": "display_data"
    }
   ],
   "source": [
    "px.imshow(df.corr())"
   ]
  },
  {
   "cell_type": "code",
   "execution_count": 18,
   "metadata": {},
   "outputs": [
    {
     "data": {
      "text/plain": [
       "((1382, 6), (1382,), (346, 6), (346,))"
      ]
     },
     "execution_count": 18,
     "metadata": {},
     "output_type": "execute_result"
    }
   ],
   "source": [
    "X = df.drop(columns=['class'])\n",
    "y = df['class']\n",
    "X_train, X_test, y_train, y_test = train_test_split(X, y, test_size=.2)\n",
    "X_train.shape, y_train.shape, X_test.shape, y_test.shape"
   ]
  },
  {
   "attachments": {},
   "cell_type": "markdown",
   "metadata": {},
   "source": [
    "I want to use `FLAML` to figure out the best model on this dataset!"
   ]
  },
  {
   "cell_type": "code",
   "execution_count": 25,
   "metadata": {},
   "outputs": [
    {
     "data": {
      "text/plain": [
       "AutoML(append_log=False, auto_augment=True, custom_hp={},\n",
       "       cv_score_agg_func=None, early_stop=False, ensemble=False,\n",
       "       estimator_list='auto', eval_method='auto', fit_kwargs_by_estimator={},\n",
       "       hpo_method='auto', keep_search_state=False, learner_selector='sample',\n",
       "       log_file_name='', log_training_metric=False, log_type='better',\n",
       "       max_iter=None, mem_thres=4294967296, metric='auto',\n",
       "       metric_constraints=[], min_sample_size=10000, model_history=False,\n",
       "       n_concurrent_trials=1, n_jobs=-1, n_splits=5, pred_time_limit=inf,\n",
       "       preserve_checkpoint=True, retrain_full=True, sample=True,\n",
       "       skip_transform=False, split_ratio=0.1, ...)"
      ]
     },
     "execution_count": 25,
     "metadata": {},
     "output_type": "execute_result"
    }
   ],
   "source": [
    "with open('./exports/car_evaluation_model.pkl', 'rb') as f:\n",
    "    automl = pickle.load(f)\n",
    "automl"
   ]
  },
  {
   "cell_type": "code",
   "execution_count": null,
   "metadata": {},
   "outputs": [],
   "source": [
    "automl = AutoML()\n",
    "automl.fit(X_train, y_train, task='classification', time_budget=1*60)"
   ]
  },
  {
   "cell_type": "code",
   "execution_count": 21,
   "metadata": {},
   "outputs": [
    {
     "data": {
      "text/plain": [
       "ExtraTreesClassifier(max_features=1.0, max_leaf_nodes=80, n_estimators=7,\n",
       "                     n_jobs=-1)"
      ]
     },
     "execution_count": 21,
     "metadata": {},
     "output_type": "execute_result"
    }
   ],
   "source": [
    "automl.model.estimator"
   ]
  },
  {
   "cell_type": "code",
   "execution_count": 26,
   "metadata": {},
   "outputs": [
    {
     "data": {
      "text/plain": [
       "array([1, 0, 0, 2, 2, 2, 3, 0, 2, 0, 2, 2, 2, 2, 2, 2, 0, 2, 2, 2, 0, 3,\n",
       "       2, 2, 2, 2, 2, 0, 3, 0, 2, 2, 2, 2, 0, 2, 2, 2, 2, 0, 2, 2, 3, 2,\n",
       "       0, 2, 2, 0, 0, 2, 2, 0, 0, 2, 2, 2, 2, 2, 2, 2, 2, 2, 2, 2, 1, 2,\n",
       "       2, 2, 2, 0, 2, 2, 2, 2, 2, 3, 0, 2, 2, 2, 2, 2, 2, 1, 1, 2, 0, 2,\n",
       "       2, 0, 2, 2, 2, 2, 2, 2, 2, 0, 2, 0, 2, 2, 2, 2, 2, 2, 1, 2, 3, 2,\n",
       "       2, 0, 2, 2, 0, 2, 2, 0, 2, 0, 2, 2, 2, 2, 2, 2, 2, 2, 2, 0, 2, 2,\n",
       "       2, 2, 3, 0, 2, 0, 2, 1, 2, 1, 2, 2, 2, 2, 0, 3, 0, 2, 2, 2, 2, 3,\n",
       "       2, 0, 2, 2, 1, 0, 2, 2, 0, 2, 2, 2, 2, 2, 2, 2, 2, 2, 2, 2, 0, 2,\n",
       "       2, 0, 0, 2, 0, 2, 2, 2, 0, 3, 2, 2, 0, 0, 2, 2, 2, 2, 0, 2, 3, 3,\n",
       "       2, 2, 1, 2, 2, 2, 2, 2, 0, 2, 2, 2, 0, 2, 2, 2, 2, 1, 2, 0, 0, 2,\n",
       "       2, 2, 2, 2, 2, 0, 2, 2, 3, 2, 0, 2, 2, 0, 0, 0, 2, 2, 2, 2, 2, 2,\n",
       "       2, 2, 2, 2, 1, 2, 2, 0, 2, 2, 2, 3, 2, 2, 0, 0, 0, 0, 2, 0, 2, 2,\n",
       "       2, 2, 2, 2, 2, 1, 2, 2, 2, 2, 2, 2, 0, 3, 2, 2, 1, 0, 2, 0, 0, 0,\n",
       "       1, 2, 0, 0, 2, 2, 0, 2, 2, 2, 2, 2, 2, 3, 0, 2, 0, 0, 0, 2, 2, 1,\n",
       "       2, 2, 2, 2, 2, 2, 2, 2, 2, 2, 2, 2, 2, 2, 2, 2, 2, 2, 0, 2, 2, 1,\n",
       "       0, 0, 2, 0, 2, 2, 2, 2, 0, 0, 2, 2, 2, 3, 2, 2])"
      ]
     },
     "execution_count": 26,
     "metadata": {},
     "output_type": "execute_result"
    }
   ],
   "source": [
    "y_pred = automl.predict(X_test)\n",
    "y_pred"
   ]
  },
  {
   "cell_type": "code",
   "execution_count": 27,
   "metadata": {},
   "outputs": [
    {
     "name": "stdout",
     "output_type": "stream",
     "text": [
      "              precision    recall  f1-score   support\n",
      "\n",
      "           0       0.89      0.99      0.94        67\n",
      "           1       0.94      0.83      0.88        18\n",
      "           2       1.00      0.98      0.99       244\n",
      "           3       0.94      0.94      0.94        17\n",
      "\n",
      "    accuracy                           0.97       346\n",
      "   macro avg       0.94      0.93      0.94       346\n",
      "weighted avg       0.97      0.97      0.97       346\n",
      "\n"
     ]
    }
   ],
   "source": [
    "print(classification_report(y_test, y_pred))"
   ]
  },
  {
   "cell_type": "code",
   "execution_count": 24,
   "metadata": {},
   "outputs": [],
   "source": [
    "with open('./exports/car_evaluation_model.pkl', 'wb') as f:\n",
    "    pickle.dump(automl, f)"
   ]
  },
  {
   "cell_type": "code",
   "execution_count": null,
   "metadata": {},
   "outputs": [],
   "source": []
  }
 ],
 "metadata": {
  "kernelspec": {
   "display_name": "Python 3.9.2 64-bit",
   "language": "python",
   "name": "python3"
  },
  "language_info": {
   "codemirror_mode": {
    "name": "ipython",
    "version": 3
   },
   "file_extension": ".py",
   "mimetype": "text/x-python",
   "name": "python",
   "nbconvert_exporter": "python",
   "pygments_lexer": "ipython3",
   "version": "3.10.6"
  },
  "orig_nbformat": 4,
  "vscode": {
   "interpreter": {
    "hash": "916dbcbb3f70747c44a77c7bcd40155683ae19c65e1c03b4aa3499c5328201f1"
   }
  }
 },
 "nbformat": 4,
 "nbformat_minor": 2
}
