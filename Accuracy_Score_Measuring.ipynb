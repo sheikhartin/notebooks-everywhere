{
 "cells": [
  {
   "cell_type": "code",
   "execution_count": 1,
   "id": "77872275",
   "metadata": {
    "_cell_guid": "b1076dfc-b9ad-4769-8c92-a6c4dae69d19",
    "_uuid": "8f2839f25d086af736a60e9eeb907d3b93b6e0e5",
    "execution": {
     "iopub.execute_input": "2022-07-11T15:54:30.387701Z",
     "iopub.status.busy": "2022-07-11T15:54:30.387208Z",
     "iopub.status.idle": "2022-07-11T15:54:30.401631Z",
     "shell.execute_reply": "2022-07-11T15:54:30.400765Z"
    },
    "papermill": {
     "duration": 0.025477,
     "end_time": "2022-07-11T15:54:30.404323",
     "exception": false,
     "start_time": "2022-07-11T15:54:30.378846",
     "status": "completed"
    },
    "tags": []
   },
   "outputs": [],
   "source": [
    "import random\n",
    "from typing import Sequence, Union, Optional"
   ]
  },
  {
   "cell_type": "code",
   "execution_count": 2,
   "id": "e232b600",
   "metadata": {},
   "outputs": [
    {
     "data": {
      "text/plain": [
       "typing.Sequence[typing.Union[int, float]]"
      ]
     },
     "execution_count": 2,
     "metadata": {},
     "output_type": "execute_result"
    }
   ],
   "source": [
    "NumericArray = Sequence[Union[int, float]]  # Could be a list or tuple of numbers\n",
    "NumericArray"
   ]
  },
  {
   "cell_type": "code",
   "execution_count": 3,
   "id": "3084597b",
   "metadata": {
    "execution": {
     "iopub.execute_input": "2022-07-11T15:54:30.439164Z",
     "iopub.status.busy": "2022-07-11T15:54:30.438820Z",
     "iopub.status.idle": "2022-07-11T15:54:30.444046Z",
     "shell.execute_reply": "2022-07-11T15:54:30.443056Z"
    },
    "papermill": {
     "duration": 0.013671,
     "end_time": "2022-07-11T15:54:30.446144",
     "exception": false,
     "start_time": "2022-07-11T15:54:30.432473",
     "status": "completed"
    },
    "tags": []
   },
   "outputs": [],
   "source": [
    "def mean(arr: NumericArray) -> float:\n",
    "    \"\"\"Calculates the mean or average value for the given array.\"\"\"\n",
    "    if not arr:\n",
    "        return 0.\n",
    "    return sum(arr) / len(arr)"
   ]
  },
  {
   "attachments": {
    "954d1776-c522-4565-824c-4f1c3f8bebee.png": {
     "image/png": "[encoded data removed]"
    }
   },
   "cell_type": "markdown",
   "id": "b357ca58",
   "metadata": {
    "papermill": {
     "duration": 0.004876,
     "end_time": "2022-07-11T15:54:30.455987",
     "exception": false,
     "start_time": "2022-07-11T15:54:30.451111",
     "status": "completed"
    },
    "tags": []
   },
   "source": [
    "Mean absolute error:\n",
    "\n",
    "![math-20220712.png](attachment:954d1776-c522-4565-824c-4f1c3f8bebee.png)"
   ]
  },
  {
   "cell_type": "code",
   "execution_count": 4,
   "id": "4978390d",
   "metadata": {
    "execution": {
     "iopub.execute_input": "2022-07-11T15:54:30.467942Z",
     "iopub.status.busy": "2022-07-11T15:54:30.467341Z",
     "iopub.status.idle": "2022-07-11T15:54:30.473770Z",
     "shell.execute_reply": "2022-07-11T15:54:30.472926Z"
    },
    "papermill": {
     "duration": 0.014772,
     "end_time": "2022-07-11T15:54:30.475862",
     "exception": false,
     "start_time": "2022-07-11T15:54:30.461090",
     "status": "completed"
    },
    "tags": []
   },
   "outputs": [],
   "source": [
    "def mae(y_true: NumericArray, y_pred: NumericArray) -> float:\n",
    "    \"\"\"Calculates mean absolute error for the given data.\"\"\"\n",
    "    absolute_errors = map(\n",
    "        lambda true_val, pred_val: abs(true_val - pred_val),\n",
    "        y_true, y_pred)\n",
    "    return sum(absolute_errors) / len(y_true)"
   ]
  },
  {
   "attachments": {
    "46d4ae19-b121-4720-bae9-4e652d2d0e5b.png": {
     "image/png": "[encoded data removed]"
    }
   },
   "cell_type": "markdown",
   "id": "b2c39bd9",
   "metadata": {
    "papermill": {
     "duration": 0.004743,
     "end_time": "2022-07-11T15:54:30.485634",
     "exception": false,
     "start_time": "2022-07-11T15:54:30.480891",
     "status": "completed"
    },
    "tags": []
   },
   "source": [
    "Mean squared error:\n",
    "\n",
    "![math-20220713.png](attachment:46d4ae19-b121-4720-bae9-4e652d2d0e5b.png)"
   ]
  },
  {
   "cell_type": "code",
   "execution_count": 5,
   "id": "626dc822",
   "metadata": {
    "execution": {
     "iopub.execute_input": "2022-07-11T15:54:30.497567Z",
     "iopub.status.busy": "2022-07-11T15:54:30.497122Z",
     "iopub.status.idle": "2022-07-11T15:54:30.504023Z",
     "shell.execute_reply": "2022-07-11T15:54:30.502793Z"
    },
    "papermill": {
     "duration": 0.015678,
     "end_time": "2022-07-11T15:54:30.506301",
     "exception": false,
     "start_time": "2022-07-11T15:54:30.490623",
     "status": "completed"
    },
    "tags": []
   },
   "outputs": [],
   "source": [
    "def mse(y_true: NumericArray, y_pred: NumericArray) -> float:\n",
    "    \"\"\"Calculates mean squared error for the given data.\"\"\"\n",
    "    squared_errors = map(\n",
    "        lambda true_val, pred_val: (true_val - pred_val) ** 2,\n",
    "        y_true, y_pred)\n",
    "    return sum(squared_errors) / len(y_true)"
   ]
  },
  {
   "attachments": {
    "a5e36936-4f7f-4d91-9183-1b26d0019488.png": {
     "image/png": "[encoded data removed]"
    }
   },
   "cell_type": "markdown",
   "id": "bc9db60d",
   "metadata": {
    "papermill": {
     "duration": 0.004747,
     "end_time": "2022-07-11T15:54:30.516055",
     "exception": false,
     "start_time": "2022-07-11T15:54:30.511308",
     "status": "completed"
    },
    "tags": []
   },
   "source": [
    "Root mean squared error:\n",
    "\n",
    "![math-20220715.png](attachment:a5e36936-4f7f-4d91-9183-1b26d0019488.png)"
   ]
  },
  {
   "cell_type": "code",
   "execution_count": 6,
   "id": "92fa8d1c",
   "metadata": {
    "execution": {
     "iopub.execute_input": "2022-07-11T15:54:30.528003Z",
     "iopub.status.busy": "2022-07-11T15:54:30.527629Z",
     "iopub.status.idle": "2022-07-11T15:54:30.533166Z",
     "shell.execute_reply": "2022-07-11T15:54:30.531999Z"
    },
    "papermill": {
     "duration": 0.014254,
     "end_time": "2022-07-11T15:54:30.535434",
     "exception": false,
     "start_time": "2022-07-11T15:54:30.521180",
     "status": "completed"
    },
    "tags": []
   },
   "outputs": [],
   "source": [
    "def rmse(y_true: NumericArray, y_pred: NumericArray) -> float:\n",
    "    \"\"\"Calculates root mean squared error for the given data.\"\"\"\n",
    "    return mse(y_true, y_pred) ** .5"
   ]
  },
  {
   "attachments": {
    "eba753ca-8466-4b46-a1f9-3e4af33297b1.png": {
     "image/png": "[encoded data removed]"
    }
   },
   "cell_type": "markdown",
   "id": "90562efa",
   "metadata": {
    "papermill": {
     "duration": 0.004639,
     "end_time": "2022-07-11T15:54:30.545015",
     "exception": false,
     "start_time": "2022-07-11T15:54:30.540376",
     "status": "completed"
    },
    "tags": []
   },
   "source": [
    "Coefficient of determination:\n",
    "\n",
    "![math-20220716.png](attachment:eba753ca-8466-4b46-a1f9-3e4af33297b1.png)"
   ]
  },
  {
   "cell_type": "code",
   "execution_count": 7,
   "id": "5d60ed47",
   "metadata": {
    "execution": {
     "iopub.execute_input": "2022-07-11T15:54:30.556975Z",
     "iopub.status.busy": "2022-07-11T15:54:30.556245Z",
     "iopub.status.idle": "2022-07-11T15:54:30.562973Z",
     "shell.execute_reply": "2022-07-11T15:54:30.562213Z"
    },
    "papermill": {
     "duration": 0.015254,
     "end_time": "2022-07-11T15:54:30.565209",
     "exception": false,
     "start_time": "2022-07-11T15:54:30.549955",
     "status": "completed"
    },
    "tags": []
   },
   "outputs": [],
   "source": [
    "def r2(y_true: NumericArray, y_pred: NumericArray) -> float:\n",
    "    \"\"\"Calculates coefficient of determination or R^2 for the given data.\"\"\"\n",
    "    mean_true_values = mean(y_true)\n",
    "    squared_errors = map(\n",
    "        lambda true_val, pred_val: (true_val - pred_val) ** 2,\n",
    "        y_true, y_pred)\n",
    "    squared_errors_mean = map(\n",
    "        lambda x: (x - mean_true_values) ** 2,\n",
    "        y_true)\n",
    "    return 1 - sum(squared_errors) / sum(squared_errors_mean)"
   ]
  },
  {
   "cell_type": "markdown",
   "id": "5b2176cd",
   "metadata": {
    "papermill": {
     "duration": 0.004689,
     "end_time": "2022-07-11T15:54:30.574809",
     "exception": false,
     "start_time": "2022-07-11T15:54:30.570120",
     "status": "completed"
    },
    "tags": []
   },
   "source": [
    "Testing the accuracy score functions:"
   ]
  },
  {
   "cell_type": "code",
   "execution_count": 9,
   "id": "32f34717",
   "metadata": {
    "execution": {
     "iopub.execute_input": "2022-07-11T15:54:30.586874Z",
     "iopub.status.busy": "2022-07-11T15:54:30.586138Z",
     "iopub.status.idle": "2022-07-11T15:54:30.595316Z",
     "shell.execute_reply": "2022-07-11T15:54:30.594236Z"
    },
    "papermill": {
     "duration": 0.018204,
     "end_time": "2022-07-11T15:54:30.597967",
     "exception": false,
     "start_time": "2022-07-11T15:54:30.579763",
     "status": "completed"
    },
    "tags": []
   },
   "outputs": [
    {
     "name": "stdout",
     "output_type": "stream",
     "text": [
      "     True values: 52.01 88.4 71.81 66.51 7.45 2.43 58.0 68.4 27.31 89.96\n",
      "Predicted values: 51.35 84.32 70.93 58.51 6.36 1.97 55.63 76.83 25.22 96.96\n",
      "\n",
      "        Mean absolute error (MAE): 3.5060000000000002\n",
      "         Mean squared error (MSE): 21.330600000000008\n",
      "   Root mean squared error (RMSE): 4.618506252025649\n",
      "Coefficient of determination (R2): 0.975510953542479\n"
     ]
    }
   ],
   "source": [
    "y_true = [round(random.uniform(0, 100), 2) for _ in range(10)]\n",
    "y_pred = [round(random.uniform(.8, 1.2) * y_true[i], 2) for i in range(10)]\n",
    "print(f'     True values: {\" \".join(map(str, y_true))}')\n",
    "print(f'Predicted values: {\" \".join(map(str, y_pred))}\\n')\n",
    "\n",
    "print(f'        Mean absolute error (MAE): {mae(y_true, y_pred)}')\n",
    "print(f'         Mean squared error (MSE): {mse(y_true, y_pred)}')\n",
    "print(f'   Root mean squared error (RMSE): {rmse(y_true, y_pred)}')\n",
    "print(f'Coefficient of determination (R2): {r2(y_true, y_pred)}')"
   ]
  },
  {
   "cell_type": "code",
   "execution_count": null,
   "id": "476136a4",
   "metadata": {
    "papermill": {
     "duration": 0.004667,
     "end_time": "2022-07-11T15:54:30.627520",
     "exception": false,
     "start_time": "2022-07-11T15:54:30.622853",
     "status": "completed"
    },
    "tags": []
   },
   "outputs": [],
   "source": []
  }
 ],
 "metadata": {
  "kernelspec": {
   "display_name": "Python 3.9.2 64-bit",
   "language": "python",
   "name": "python3"
  },
  "language_info": {
   "codemirror_mode": {
    "name": "ipython",
    "version": 3
   },
   "file_extension": ".py",
   "mimetype": "text/x-python",
   "name": "python",
   "nbconvert_exporter": "python",
   "pygments_lexer": "ipython3",
   "version": "3.9.2"
  },
  "papermill": {
   "default_parameters": {},
   "duration": 11.695989,
   "end_time": "2022-07-11T15:54:31.455847",
   "environment_variables": {},
   "exception": null,
   "input_path": "__notebook__.ipynb",
   "output_path": "__notebook__.ipynb",
   "parameters": {},
   "start_time": "2022-07-11T15:54:19.759858",
   "version": "2.3.4"
  },
  "vscode": {
   "interpreter": {
    "hash": "916dbcbb3f70747c44a77c7bcd40155683ae19c65e1c03b4aa3499c5328201f1"
   }
  }
 },
 "nbformat": 4,
 "nbformat_minor": 5
}
