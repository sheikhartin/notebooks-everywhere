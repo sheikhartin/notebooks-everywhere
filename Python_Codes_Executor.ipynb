{
 "cells": [
  {
   "cell_type": "markdown",
   "metadata": {},
   "source": [
    "## Python Codes Executor\n",
    "\n",
    "In this challenge, we have to read the codes line by line and then execute them by passing some obstacles."
   ]
  },
  {
   "cell_type": "code",
   "execution_count": 1,
   "metadata": {},
   "outputs": [],
   "source": [
    "import re\n",
    "import io\n",
    "from typing import Union, TextIO"
   ]
  },
  {
   "cell_type": "code",
   "execution_count": 160,
   "metadata": {},
   "outputs": [],
   "source": [
    "def _to_pure_code(line: str) -> list[str]:\n",
    "    \"\"\"Removes comments and then strips from the right side.\"\"\"\n",
    "    return list(filter(lambda x: x, re.split(r'[\\s\\t]*#.*', line)))"
   ]
  },
  {
   "cell_type": "code",
   "execution_count": 161,
   "metadata": {},
   "outputs": [],
   "source": [
    "def executor(codes: Union[str, TextIO]) -> list[str]:\n",
    "    \"\"\"It distinguishes between single-line and multi-line commands.\"\"\"\n",
    "    if isinstance(codes, io.TextIOBase):\n",
    "        codes = codes.read()\n",
    "    codes = codes.split('\\n')\n",
    "\n",
    "    # If we run a code block line by line, we will encounter an error;\n",
    "    # so we have to run them after closing.\n",
    "    codeblock = []\n",
    "    reports = []\n",
    "\n",
    "    for idx, line in enumerate(codes):\n",
    "        line = _to_pure_code(line)\n",
    "        if not line:\n",
    "            reports.append(f'Line #{idx+1:0>2}: Nothing found here')\n",
    "            continue\n",
    "\n",
    "        singlecode = re.match(r'[^\\s\\t].+[^:]$', line[0])\n",
    "        if singlecode is not None:\n",
    "            if not codeblock:\n",
    "                reports.append(f'Line #{idx+1:0>2}: Just a single line code')\n",
    "                exec(singlecode.group())\n",
    "            else:\n",
    "                reports.append(f'Line #{idx+1:0>2}: The code block will be executed first')\n",
    "                exec('\\n'.join(codeblock))\n",
    "                exec(singlecode.group())\n",
    "                codeblock.clear()\n",
    "            continue\n",
    "\n",
    "        statement = re.match(r'.+:$', line[0])\n",
    "        if statement is not None:\n",
    "            reports.append(f'Line #{idx+1:0>2}: A statement found')\n",
    "            codeblock.append(statement.group())\n",
    "            continue\n",
    "\n",
    "        substatement = re.match(r'[\\s\\t]+.+', line[0])\n",
    "        if substatement is not None:\n",
    "            reports.append(f'Line #{idx+1:0>2}: This is a sub statement')\n",
    "            codeblock.append(substatement.group())\n",
    "            continue\n",
    "\n",
    "    return reports"
   ]
  },
  {
   "cell_type": "code",
   "execution_count": 165,
   "metadata": {},
   "outputs": [
    {
     "data": {
      "text/plain": [
       "\"\\nprint('Hello, world!')\\n\\nn = 5  # This is an unnecessary comment\\nprint(f'Ready for {n} repetitions...')\\nfor _ in range(n):\\n    print('I <3 u!')\\nprint(f'The loop is finished.')\\n\\nprint('Goodbye, dude!')\\n\""
      ]
     },
     "execution_count": 165,
     "metadata": {},
     "output_type": "execute_result"
    }
   ],
   "source": [
    "codes = \"\"\"\n",
    "print('Hello, world!')\n",
    "\n",
    "n = 5  # This is an unnecessary comment\n",
    "print(f'Ready for {n} repetitions...')\n",
    "for _ in range(n):\n",
    "    print('I <3 u!')\n",
    "print(f'The loop is finished.')\n",
    "\n",
    "print('Goodbye, dude!')\n",
    "\"\"\"\n",
    "codes"
   ]
  },
  {
   "cell_type": "code",
   "execution_count": 166,
   "metadata": {},
   "outputs": [
    {
     "name": "stdout",
     "output_type": "stream",
     "text": [
      "Hello, world!\n",
      "Ready for 5 repetitions...\n",
      "I <3 u!\n",
      "I <3 u!\n",
      "I <3 u!\n",
      "I <3 u!\n",
      "I <3 u!\n",
      "The loop is finished.\n",
      "Goodbye, dude!\n"
     ]
    }
   ],
   "source": [
    "reports = executor(codes)"
   ]
  },
  {
   "cell_type": "code",
   "execution_count": 167,
   "metadata": {},
   "outputs": [
    {
     "name": "stdout",
     "output_type": "stream",
     "text": [
      "Line #01: Nothing found here\n",
      "Line #02: Just a single line code\n",
      "Line #03: Nothing found here\n",
      "Line #04: Just a single line code\n",
      "Line #05: Just a single line code\n",
      "Line #06: A statement found\n",
      "Line #07: This is a sub statement\n",
      "Line #08: The code block will be executed first\n",
      "Line #09: Nothing found here\n",
      "Line #10: Just a single line code\n",
      "Line #11: Nothing found here\n"
     ]
    }
   ],
   "source": [
    "for report in reports:\n",
    "    print(report)"
   ]
  },
  {
   "cell_type": "code",
   "execution_count": null,
   "metadata": {},
   "outputs": [],
   "source": []
  }
 ],
 "metadata": {
  "kernelspec": {
   "display_name": "Python 3.9.2 64-bit",
   "language": "python",
   "name": "python3"
  },
  "language_info": {
   "codemirror_mode": {
    "name": "ipython",
    "version": 3
   },
   "file_extension": ".py",
   "mimetype": "text/x-python",
   "name": "python",
   "nbconvert_exporter": "python",
   "pygments_lexer": "ipython3",
   "version": "3.9.2"
  },
  "orig_nbformat": 4,
  "vscode": {
   "interpreter": {
    "hash": "916dbcbb3f70747c44a77c7bcd40155683ae19c65e1c03b4aa3499c5328201f1"
   }
  }
 },
 "nbformat": 4,
 "nbformat_minor": 2
}
