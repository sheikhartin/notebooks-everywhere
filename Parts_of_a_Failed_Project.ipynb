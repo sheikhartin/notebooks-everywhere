{
 "cells": [
  {
   "cell_type": "markdown",
   "id": "27bfbb6e-83fb-4221-860c-be2d9d60d1e6",
   "metadata": {},
   "source": [
    "## Parts of a Failed Project\n",
    "\n",
    "Here you will find three parts of a cryptocurrency trader bot project that was almost 2 years ago (2021)..."
   ]
  },
  {
   "cell_type": "code",
   "execution_count": 1,
   "id": "c3fa483f-2a6a-4117-88dc-87ae0898f11d",
   "metadata": {},
   "outputs": [],
   "source": [
    "from numbers import Number\n",
    "from typing import Optional, Union, Sequence, Tuple\n",
    "\n",
    "import pandas as pd\n",
    "import ta\n",
    "import yfinance as yf"
   ]
  },
  {
   "cell_type": "markdown",
   "id": "f4c46be4-e268-405c-b2d0-bbea095daa75",
   "metadata": {
    "tags": []
   },
   "source": [
    "### src/datasets.py"
   ]
  },
  {
   "cell_type": "code",
   "execution_count": 2,
   "id": "eed0e649-2022-4eb1-bc5c-811ca6ca8f57",
   "metadata": {
    "tags": []
   },
   "outputs": [],
   "source": [
    "def fetch_data(ticker: str, start_date: Optional[str] = None, end_date: Optional[str] = None,\n",
    "               period: Optional[str] = None, interval: Optional[str] = None) -> pd.DataFrame:\n",
    "    \"\"\"Downloads data from Yahoo Finance for the given parameters.\n",
    "\n",
    "    Args:\n",
    "        ticker: Ticker symbol of the stock to download data for.\n",
    "          e.g. AAPL for Apple Inc, GOOGL for Google, BTC-USD for Bitcoin.\n",
    "        start_date: The date that the data should start from.\n",
    "          Format should be YYYY-MM-DD.\n",
    "        end_date: The date that the data should end at.\n",
    "          The format is the same as start date.\n",
    "        period: Time period of the data to download. Can be '1d', '5d', '1mo', '3mo',\n",
    "          '6mo', '1y', '2y', '5y', '10y', 'ytd', 'max'.\n",
    "        interval: Interval of the data. Can be '1m', '2m', '5m', '15m', '30m', '60m', '90m',\n",
    "          '1h', '1d', '5d', '1wk', '1mo', '3mo'. Default is '1d'.\n",
    "\n",
    "    Returns:\n",
    "        A Pandas DataFrame with data like the following if the parameters are valid, otherwise\n",
    "        an empty DataFrame is returned.\n",
    "\n",
    "                           Open         High          Low        Close    Adj Close       Volume\n",
    "        Date\n",
    "        2017-11-09   308.644989   329.451996   307.056000   320.884003   320.884003    893249984\n",
    "        2017-11-10   320.670990   324.717987   294.541992   299.252991   299.252991    885985984\n",
    "        2017-11-11   298.585999   319.453003   298.191986   314.681000   314.681000    842300992\n",
    "        2017-11-12   314.690002   319.153015   298.513000   307.907990   307.907990   1613479936\n",
    "        2017-11-13   307.024994   328.415009   307.024994   316.716003   316.716003   1041889984\n",
    "    \"\"\"\n",
    "    if interval is None:  # Yahoo Finance give error if interval is not specified\n",
    "        interval = '1d'\n",
    "\n",
    "    return yf.download(\n",
    "        ticker,\n",
    "        start=start_date,\n",
    "        end=end_date,\n",
    "        period=period,\n",
    "        interval=interval,\n",
    "    )"
   ]
  },
  {
   "cell_type": "code",
   "execution_count": 3,
   "id": "f65a135c-a240-4256-aa4e-392046a55379",
   "metadata": {
    "tags": []
   },
   "outputs": [],
   "source": [
    "def fetch_open_prices(ticker: str, start_date: Optional[str] = None, end_date: Optional[str] = None,\n",
    "                      period: Optional[str] = None, interval: Optional[str] = None) -> pd.Series:\n",
    "    \"\"\"Returns only the open prices of the data.\n",
    "\n",
    "    Check the documentation of `fetch_data` in this module for more information.\n",
    "    \"\"\"\n",
    "    return fetch_data(\n",
    "        ticker,\n",
    "        start_date=start_date,\n",
    "        end_date=end_date,\n",
    "        period=period,\n",
    "        interval=interval,\n",
    "    )['Open']"
   ]
  },
  {
   "cell_type": "code",
   "execution_count": 4,
   "id": "8fae1ef3-62b9-4181-9006-e0a439713fb5",
   "metadata": {
    "tags": []
   },
   "outputs": [],
   "source": [
    "def fetch_high_prices(ticker: str, start_date: Optional[str] = None, end_date: Optional[str] = None,\n",
    "                      period: Optional[str] = None, interval: Optional[str] = None) -> pd.Series:\n",
    "    \"\"\"Returns only the high prices of the data.\n",
    "\n",
    "    Check the documentation of `fetch_data` in this module for more information.\n",
    "    \"\"\"\n",
    "    return fetch_data(\n",
    "        ticker,\n",
    "        start_date=start_date,\n",
    "        end_date=end_date,\n",
    "        period=period,\n",
    "        interval=interval,\n",
    "    )['High']"
   ]
  },
  {
   "cell_type": "code",
   "execution_count": 5,
   "id": "a0022077-74ee-45e5-b089-95a99893fbf7",
   "metadata": {
    "tags": []
   },
   "outputs": [],
   "source": [
    "def fetch_low_prices(ticker: str, start_date: Optional[str] = None, end_date: Optional[str] = None,\n",
    "                     period: Optional[str] = None, interval: Optional[str] = None) -> pd.Series:\n",
    "    \"\"\"Returns only the low prices of the data.\n",
    "\n",
    "    Check the documentation of `fetch_data` in this module for more information.\n",
    "    \"\"\"\n",
    "    return fetch_data(\n",
    "        ticker,\n",
    "        start_date=start_date,\n",
    "        end_date=end_date,\n",
    "        period=period,\n",
    "        interval=interval,\n",
    "    )['Low']"
   ]
  },
  {
   "cell_type": "code",
   "execution_count": 6,
   "id": "965144f2-1204-440f-aa3e-4df6349b1074",
   "metadata": {
    "tags": []
   },
   "outputs": [],
   "source": [
    "def fetch_closed_prices(ticker: str, start_date: Optional[str] = None, end_date: Optional[str] = None,\n",
    "                        period: Optional[str] = None, interval: Optional[str] = None) -> pd.Series:\n",
    "    \"\"\"Returns only the closed prices of the data.\n",
    "\n",
    "    Check the documentation of `fetch_data` in this module for more information.\n",
    "    \"\"\"\n",
    "    return fetch_data(\n",
    "        ticker,\n",
    "        start_date=start_date,\n",
    "        end_date=end_date,\n",
    "        period=period,\n",
    "        interval=interval,\n",
    "    )['Close']"
   ]
  },
  {
   "cell_type": "code",
   "execution_count": 7,
   "id": "72fc7877-8250-422a-aa1b-f548214a5f2b",
   "metadata": {
    "tags": []
   },
   "outputs": [],
   "source": [
    "def fetch_adj_closed_prices(ticker: str, start_date: Optional[str] = None, end_date: Optional[str] = None,\n",
    "                            period: Optional[str] = None, interval: Optional[str] = None) -> pd.Series:\n",
    "    \"\"\"Returns only the adjusted closed prices of the data.\n",
    "\n",
    "    Check the documentation of `fetch_data` in this module for more information.\n",
    "    \"\"\"\n",
    "    return fetch_data(\n",
    "        ticker,\n",
    "        start_date=start_date,\n",
    "        end_date=end_date,\n",
    "        period=period,\n",
    "        interval=interval,\n",
    "    )['Adj Close']"
   ]
  },
  {
   "cell_type": "code",
   "execution_count": 8,
   "id": "4b002115-53e6-41f8-979b-ac45652484f7",
   "metadata": {
    "tags": []
   },
   "outputs": [],
   "source": [
    "def fetch_market_volumes(ticker: str, start_date: Optional[str] = None, end_date: Optional[str] = None,\n",
    "                         period: Optional[str] = None, interval: Optional[str] = None) -> pd.Series:\n",
    "    \"\"\"Returns only the market volumes of the data.\n",
    "\n",
    "    Check the documentation of `fetch_data` in this module for more information.\n",
    "    \"\"\"\n",
    "    return fetch_data(\n",
    "        ticker,\n",
    "        start_date=start_date,\n",
    "        end_date=end_date,\n",
    "        period=period,\n",
    "        interval=interval,\n",
    "    )['Volume']"
   ]
  },
  {
   "cell_type": "markdown",
   "id": "c54b2857-bb3d-42e6-82ad-8514ac00bd2f",
   "metadata": {},
   "source": [
    "### src/helpers.py"
   ]
  },
  {
   "cell_type": "code",
   "execution_count": 9,
   "id": "d457aaf6-c672-4b42-9a10-733538af4c66",
   "metadata": {},
   "outputs": [],
   "source": [
    "def to_higher_level_data_structure(\n",
    "    data1: Union[pd.Series, pd.DataFrame, Sequence[Number]],\n",
    "    data2: Union[pd.Series, pd.DataFrame, Sequence[Number]],\n",
    ") -> Union[Tuple[pd.Series, pd.Series], Tuple[pd.DataFrame, pd.DataFrame]]:\n",
    "    \"\"\"Converts the given data to a higher level data structure.\"\"\"\n",
    "    data1 = data1 if isinstance(data1, (pd.Series, pd.DataFrame)) else pd.Series(data1)\n",
    "    data2 = data2 if isinstance(data2, (pd.Series, pd.DataFrame)) else pd.Series(data2)\n",
    "\n",
    "    if isinstance(data1, pd.Series) and isinstance(data2, pd.DataFrame):\n",
    "        data1 = pd.DataFrame(data1)\n",
    "    elif isinstance(data1, pd.DataFrame) and isinstance(data2, pd.Series):\n",
    "        data2 = pd.DataFrame(data2)\n",
    "\n",
    "    return data1, data2"
   ]
  },
  {
   "cell_type": "markdown",
   "id": "947f9431-8188-4811-ba0f-5899265d194c",
   "metadata": {
    "tags": []
   },
   "source": [
    "### src/indicators.py"
   ]
  },
  {
   "cell_type": "code",
   "execution_count": 10,
   "id": "6d6b17de-8b3b-48dc-9561-2960cad6e814",
   "metadata": {
    "tags": []
   },
   "outputs": [],
   "source": [
    "def crossover(indicator1: Union[Sequence[Number], pd.Series],\n",
    "              indicator2: Union[Sequence[Number], pd.Series],\n",
    "              at: Optional[Number] = None) -> bool:\n",
    "    \"\"\"Checks if the two given indicators cross over at the given point or not.\n",
    "\n",
    "    Args:\n",
    "        indicator1: Result of a technical indicator calculation\n",
    "          as the first argument.\n",
    "        indicator2: Result of a technical indicator calculation\n",
    "          as the second argument.\n",
    "        at: The value to check for crossover. By default, the last value\n",
    "          will be used. (It's better to use negative indices to get access)\n",
    "\n",
    "    Returns:\n",
    "        True if the last value of the first indicator is higher than the\n",
    "        first value of the second indicator, False otherwise.\n",
    "    \"\"\"\n",
    "    if isinstance(indicator1, Sequence):\n",
    "        indicator1 = pd.Series(indicator1)\n",
    "    if isinstance(indicator2, Sequence):\n",
    "        indicator2 = pd.Series(indicator2)\n",
    "    at = at if at is not None else -1\n",
    "    return indicator1.iloc[at] > indicator2.iloc[at]"
   ]
  },
  {
   "cell_type": "code",
   "execution_count": 11,
   "id": "de1e7039-000b-4742-bc06-d2df0015a2f1",
   "metadata": {
    "tags": []
   },
   "outputs": [],
   "source": [
    "def sma(close: Union[Sequence[Number], pd.Series], period: int) -> pd.Series:\n",
    "    \"\"\"Calculates the Simple Moving Average (SMA) for the given data.\n",
    "\n",
    "    Args:\n",
    "        close: The close data to calculate the SMA for.\n",
    "        period: The period of the SMA.\n",
    "\n",
    "    Returns:\n",
    "        A Pandas Series containing the SMA for the given data.\n",
    "    \"\"\"\n",
    "    if isinstance(close, Sequence):  # Tuple and list are also a sequence\n",
    "        close = pd.Series(close)\n",
    "    return ta.trend.sma_indicator(close, period)"
   ]
  },
  {
   "cell_type": "code",
   "execution_count": 12,
   "id": "1ca7512a-deed-4bc1-baa9-75d1776d8590",
   "metadata": {
    "tags": []
   },
   "outputs": [],
   "source": [
    "def wma(close: Union[Sequence[Number], pd.Series], period: int) -> pd.Series:\n",
    "    \"\"\"Calculates the Weighted Moving Average (WMA) for the given data.\n",
    "\n",
    "    Args:\n",
    "        close: The close data to calculate the WMA for.\n",
    "        period: The period of the WMA.\n",
    "\n",
    "    Returns:\n",
    "        A Pandas Series containing the WMA for the given data.\n",
    "    \"\"\"\n",
    "    if isinstance(close, Sequence):\n",
    "        close = pd.Series(close)\n",
    "    return ta.trend.wma_indicator(close, period)"
   ]
  },
  {
   "cell_type": "code",
   "execution_count": 13,
   "id": "4dce9621-7be8-4063-acef-36159675255b",
   "metadata": {
    "tags": []
   },
   "outputs": [],
   "source": [
    "def macd(close: Union[Sequence[Number], pd.Series], short_period: int,\n",
    "         long_period: int, signal_period: int) -> pd.Series:\n",
    "    \"\"\"Calculates the Moving Average Convergence/Divergence (MACD) for the given data.\n",
    "\n",
    "    Args:\n",
    "        close: The close data to calculate the MACD for.\n",
    "        short_period: The short period of the MACD.\n",
    "        long_period: The long period of the MACD.\n",
    "        signal_period: The period to use for the signal line.\n",
    "\n",
    "    Returns:\n",
    "        A Pandas Series containing the MACD for the given data.\n",
    "    \"\"\"\n",
    "    if isinstance(close, Sequence):\n",
    "        close = pd.Series(close)\n",
    "    return ta.trend.macd(close, short_period, long_period, signal_period)"
   ]
  },
  {
   "cell_type": "code",
   "execution_count": 14,
   "id": "61fceb21-2b06-4964-ba24-c60c4a61c7c6",
   "metadata": {
    "tags": []
   },
   "outputs": [],
   "source": [
    "def adx(high: Union[Sequence[Number], pd.Series], low: Union[Sequence[Number], pd.Series],\n",
    "        close: Union[Sequence[Number], pd.Series], period: int) -> pd.Series:\n",
    "    \"\"\"Calculates the Average Directional Movement Index (ADX) for the given data.\n",
    "\n",
    "    Args:\n",
    "        high: The high data to calculate the ADX for.\n",
    "        low: The low data to calculate the ADX for.\n",
    "        close: The close data to calculate the ADX for.\n",
    "        period: The period of the ADX.\n",
    "\n",
    "    Returns:\n",
    "        A Pandas Series containing the ADX for the given data.\n",
    "    \"\"\"\n",
    "    if isinstance(high, Sequence):\n",
    "        high = pd.Series(high)\n",
    "    if isinstance(low, Sequence):\n",
    "        low = pd.Series(low)\n",
    "    if isinstance(close, Sequence):\n",
    "        close = pd.Series(close)\n",
    "    return ta.trend.adx(high, low, close, period)"
   ]
  },
  {
   "cell_type": "code",
   "execution_count": 15,
   "id": "71a7640a-2354-4da4-810b-f93043776c42",
   "metadata": {
    "tags": []
   },
   "outputs": [],
   "source": [
    "def rsi(close: Union[Sequence[Number], pd.Series], period: int) -> pd.Series:\n",
    "    \"\"\"Calculates the Relative Strength Index (RSI) for the given data.\n",
    "\n",
    "    Args:\n",
    "        close: The close data to calculate the RSI for.\n",
    "        period: The period of the RSI.\n",
    "\n",
    "    Returns:\n",
    "        A Pandas Series containing the RSI for the given data.\n",
    "    \"\"\"\n",
    "    if isinstance(close, Sequence):\n",
    "        close = pd.Series(close)\n",
    "    return ta.momentum.rsi(close, period)"
   ]
  },
  {
   "cell_type": "code",
   "execution_count": 16,
   "id": "a8bc4bc8-4341-406a-9017-8954c0f651e4",
   "metadata": {
    "tags": []
   },
   "outputs": [],
   "source": [
    "def stoch(high: Union[Sequence[Number], pd.Series], low: Union[Sequence[Number], pd.Series],\n",
    "          close: Union[Sequence[Number], pd.Series], period: int) -> pd.Series:\n",
    "    \"\"\"Calculates the Stochastic Oscillator (STOCH) for the given data.\n",
    "\n",
    "    Args:\n",
    "        high: The high data to calculate the STOCH for.\n",
    "        low: The low data to calculate the STOCH for.\n",
    "        close: The close data to calculate the STOCH for.\n",
    "        period: The period of the STOCH.\n",
    "\n",
    "    Returns:\n",
    "        A Pandas Series containing the STOCH for the given data.\n",
    "    \"\"\"\n",
    "    if isinstance(high, Sequence):\n",
    "        high = pd.Series(high)\n",
    "    if isinstance(low, Sequence):\n",
    "        low = pd.Series(low)\n",
    "    if isinstance(close, Sequence):\n",
    "        close = pd.Series(close)\n",
    "    return ta.momentum.stoch(high, low, close, period)"
   ]
  },
  {
   "cell_type": "code",
   "execution_count": 17,
   "id": "97303317-8370-445f-b3df-0e6454a137a2",
   "metadata": {
    "tags": []
   },
   "outputs": [],
   "source": [
    "def williams_r(high: Union[Sequence[Number], pd.Series], low: Union[Sequence[Number], pd.Series],\n",
    "               close: Union[Sequence[Number], pd.Series], period: int) -> pd.Series:\n",
    "    \"\"\"Calculates the Williams %R for the given data.\n",
    "\n",
    "    Args:\n",
    "        high: The high data to calculate the Williams %R for.\n",
    "        low: The low data to calculate the Williams %R for.\n",
    "        close: The close data to calculate the Williams %R for.\n",
    "        period: The period of the Williams %R.\n",
    "\n",
    "    Returns:\n",
    "        A Pandas Series containing the Williams %R for the given data.\n",
    "    \"\"\"\n",
    "    if isinstance(high, Sequence):\n",
    "        high = pd.Series(high)\n",
    "    if isinstance(low, Sequence):\n",
    "        low = pd.Series(low)\n",
    "    if isinstance(close, Sequence):\n",
    "        close = pd.Series(close)\n",
    "    return ta.momentum.williams_r(high, low, close, period)"
   ]
  },
  {
   "cell_type": "code",
   "execution_count": 18,
   "id": "27c1e96c-af13-4beb-9d78-9513d177af10",
   "metadata": {
    "tags": []
   },
   "outputs": [],
   "source": [
    "def aroon(close: Union[Sequence[Number], pd.Series], period: int) -> pd.Series:\n",
    "    \"\"\"Calculates the Aroon for the given data.\n",
    "\n",
    "    Args:\n",
    "        close: The close data to calculate the Aroon for.\n",
    "        period: The period of the Aroon.\n",
    "\n",
    "    Returns:\n",
    "        A Pandas Series containing the Aroon for the given data.\n",
    "    \"\"\"\n",
    "    if isinstance(close, Sequence):\n",
    "        close = pd.Series(close)\n",
    "    return ta.trend.AroonIndicator(close, period).aroon_indicator()"
   ]
  },
  {
   "cell_type": "code",
   "execution_count": 19,
   "id": "bfdf4341-ced8-4e51-b8d8-2870e6fd0046",
   "metadata": {
    "tags": []
   },
   "outputs": [],
   "source": [
    "def aroon_up(close: Union[Sequence[Number], pd.Series], period: int) -> pd.Series:\n",
    "    \"\"\"Calculates the Aroon Up for the given data.\n",
    "\n",
    "    Args:\n",
    "        close: The close data to calculate the Aroon Up for.\n",
    "        period: The period of the Aroon Up.\n",
    "\n",
    "    Returns:\n",
    "        A Pandas Series containing the Aroon Up for the given data.\n",
    "    \"\"\"\n",
    "    if isinstance(close, Sequence):\n",
    "        close = pd.Series(close)\n",
    "    return ta.trend.AroonIndicator(close, period).aroon_up()"
   ]
  },
  {
   "cell_type": "code",
   "execution_count": 20,
   "id": "d7b58922-94c3-4f91-84cb-8966dfdf0809",
   "metadata": {
    "tags": []
   },
   "outputs": [],
   "source": [
    "def aroon_down(close: Union[Sequence[Number], pd.Series], period: int) -> pd.Series:\n",
    "    \"\"\"Calculates the Aroon Down for the given data.\n",
    "\n",
    "    Args:\n",
    "        close: The close data to calculate the Aroon Down for.\n",
    "        period: The period of the Aroon Down.\n",
    "\n",
    "    Returns:\n",
    "        A Pandas Series containing the Aroon Down for the given data.\n",
    "    \"\"\"\n",
    "    if isinstance(close, Sequence):\n",
    "        close = pd.Series(close)\n",
    "    return ta.trend.AroonIndicator(close, period).aroon_down()"
   ]
  },
  {
   "cell_type": "code",
   "execution_count": null,
   "id": "ee092597-e40b-4237-b0b3-74ad2996de98",
   "metadata": {},
   "outputs": [],
   "source": []
  }
 ],
 "metadata": {
  "kernelspec": {
   "display_name": "Python 3 (ipykernel)",
   "language": "python",
   "name": "python3"
  },
  "language_info": {
   "codemirror_mode": {
    "name": "ipython",
    "version": 3
   },
   "file_extension": ".py",
   "mimetype": "text/x-python",
   "name": "python",
   "nbconvert_exporter": "python",
   "pygments_lexer": "ipython3",
   "version": "3.10.12"
  }
 },
 "nbformat": 4,
 "nbformat_minor": 5
}
