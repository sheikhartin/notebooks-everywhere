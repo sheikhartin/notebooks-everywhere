{
 "cells": [
  {
   "cell_type": "markdown",
   "metadata": {},
   "source": [
    "## Cleaning Mobile Phone Price Dataset Using Shell Scripting\n",
    "\n",
    "It is clear from the title what we want to do... Ok, we want to clean a dirty dataset with command line commands like a data engineer!"
   ]
  },
  {
   "cell_type": "code",
   "execution_count": 1,
   "metadata": {
    "tags": []
   },
   "outputs": [
    {
     "name": "stdout",
     "output_type": "stream",
     "text": [
      "./datasets\n",
      "├── car_evaluation.csv\n",
      "├── mobile_phone_price.csv\n",
      "├── netflix.csv\n",
      "├── titanic.csv\n",
      "├── used_car_prices.csv\n",
      "└── youtube_trends_us.csv\n",
      "\n",
      "0 directories, 6 files\n"
     ]
    }
   ],
   "source": [
    "%%bash\n",
    "tree ./datasets"
   ]
  },
  {
   "cell_type": "code",
   "execution_count": 2,
   "metadata": {
    "tags": []
   },
   "outputs": [
    {
     "name": "stdout",
     "output_type": "stream",
     "text": [
      "﻿Brand,Model,Storage ,RAM ,Screen Size (inches),Camera (MP),Battery Capacity (mAh),Price ($)\n",
      "Apple,iPhone 13 Pro,128 GB,6 GB,6.1,12 + 12 + 12,3095,999\n",
      "Samsung,Galaxy S21 Ultra,256 GB,12 GB,6.8,108 + 10 + 10 + 12,5000,1199\n",
      "OnePlus,9 Pro,128 GB,8 GB,6.7,48 + 50 + 8 + 2,4500,899\n",
      "Xiaomi,Redmi Note 10 Pro,128 GB,6 GB,6.67,64 + 8 + 5 + 2,5020,279\n",
      "Google,Pixel 6,128 GB,8 GB,6.4,50 + 12.2,4614,799\n",
      "Apple,iPhone 13,128 GB,4 GB,6.1,12 + 12,2815,799\n",
      "Samsung,Galaxy Z Flip3,256 GB,8 GB,6.7,12 + 12,3300,999\n",
      "Xiaomi,Poco X3 Pro,128 GB,6 GB,6.67,48 + 8 + 2 + 2,5160,249\n",
      "Oppo,Reno6 Pro+ 5G,128 GB,8 GB,6.55,50 + 13 + 16 + 2,4500,699\n"
     ]
    }
   ],
   "source": [
    "%%bash\n",
    "head ./datasets/mobile_phone_price.csv"
   ]
  },
  {
   "cell_type": "code",
   "execution_count": 3,
   "metadata": {
    "tags": []
   },
   "outputs": [
    {
     "name": "stdout",
     "output_type": "stream",
     "text": [
      "Xiaomi,Poco M3,128,4,6.53,48+2+2,6000,149\n",
      "Samsung,Galaxy A52 5G,128,6,6.5,64+12+5+5,4500,449\n",
      "Oppo,A93,128,8,6.43,48+8+2+2,4000,319\n",
      "Motorola,Moto G Pro,128,4,6.4,48+16+2,4000,329\n",
      "Huawei,P30 Lite,128,4,6.15,48+8+2,3340,329\n",
      "Samsung,Galaxy Note20 5G,128,8,6.7,12+64+12,4300,1049\n",
      "Xiaomi,Mi 10 Lite 5G,128,6,6.57,48+8+2+2,4160,349\n",
      "Apple,iPhone 12 Pro Max,128,6,6.7,12+12+12,3687,1099\n",
      "Oppo,Reno3,128,8,6.4,48+13+8+2,4025,429\n",
      "Samsung,Galaxy S10 Lite,128,6,6.7,48+12+5,4500,649\n"
     ]
    }
   ],
   "source": [
    "%%bash\n",
    "tail ./datasets/mobile_phone_price.csv"
   ]
  },
  {
   "cell_type": "code",
   "execution_count": 4,
   "metadata": {
    "tags": []
   },
   "outputs": [
    {
     "name": "stdout",
     "output_type": "stream",
     "text": [
      "Xiaomi,Redmi Note 9 Pro Max,64GB,6GB,6.67,64MP + 8MP + 5MP + 2MP,5020,$279 \n",
      "OnePlus,8T,256,12,6.55,48+16+5+2,4500,749\n",
      "Blackberry,KEY2,64GB,6GB,4.5,12MP + 12MP,3500,$699 \n",
      "Xiaomi,Poco M3,128,4,6.53,48+2+2,6000,149\n",
      "Vivo,X70 Pro+,256GB,12GB,6.78,50MP + 48MP + 12MP + 8MP,4450,$999 \n",
      "Vivo,Y33s,128GB,8GB,6.58,50MP + 2MP,5000,$279 \n",
      "Nokia,5.4,128GB,4GB,6.39,48MP + 5MP + 2MP + 2MP,4000,$249 \n",
      "Xiaomi,Redmi 9 Power,128GB,4GB,6.53,48MP + 8MP + 2MP + 2MP,6000,$199 \n",
      "Vivo,Y20G,64 GB,4 GB,6.51,13 + 2 + 2,5000,169\n",
      "Apple,iPhone 11,64,4,6.1,12+12+12,3110,699\n"
     ]
    }
   ],
   "source": [
    "%%bash\n",
    "sort -R ./datasets/mobile_phone_price.csv | head"
   ]
  },
  {
   "cell_type": "markdown",
   "metadata": {},
   "source": [
    "### Step 0: Save some different samples in a file"
   ]
  },
  {
   "cell_type": "code",
   "execution_count": 18,
   "metadata": {
    "tags": []
   },
   "outputs": [],
   "source": [
    "%%bash\n",
    "cat << EOF > ./exports/mobile_phone_price_samples.csv\n",
    "Brand,Model,Storage ,RAM ,Screen Size (inches),Camera (MP),Battery Capacity (mAh),Price (\\$)\n",
    "Apple,iPhone SE (2nd Gen),64 GB,3 GB,4.7,12,1821,399\n",
    "Xiaomi,Redmi 9T,128GB,4GB,6.53,48MP + 8MP + 2MP + 2MP,6000,\\$229\n",
    "Motorola,Moto G Pro,128,4,6.4,48+16+2,4000,329\n",
    "Samsung,Galaxy S21 Ultra 5G,256GB,12GB,6.8,108MP + 12MP + 10MP + 10MP,5000,\"\\$1,199 \"\n",
    "Xiaomi,Redmi 10,128,4,6.5,50+8+2+2,5000,229\n",
    "EOF"
   ]
  },
  {
   "cell_type": "markdown",
   "metadata": {},
   "source": [
    "### Step 1: Discard extra brackets and spaces in the header"
   ]
  },
  {
   "cell_type": "code",
   "execution_count": 19,
   "metadata": {
    "tags": []
   },
   "outputs": [
    {
     "name": "stdout",
     "output_type": "stream",
     "text": [
      "Brand,Model,Storage,RAM,Screen_Size,Camera,Battery_Capacity,Price\n",
      "Apple,iPhone SE (2nd Gen),64 GB,3 GB,4.7,12,1821,399\n",
      "Xiaomi,Redmi 9T,128GB,4GB,6.53,48MP + 8MP + 2MP + 2MP,6000,$229\n",
      "Motorola,Moto G Pro,128,4,6.4,48+16+2,4000,329\n",
      "Samsung,Galaxy S21 Ultra 5G,256GB,12GB,6.8,108MP + 12MP + 10MP + 10MP,5000,\"$1,199 \"\n",
      "Xiaomi,Redmi 10,128,4,6.5,50+8+2+2,5000,229\n"
     ]
    }
   ],
   "source": [
    "%%bash\n",
    "sed -E '1s/ ,/,/g;1s/ ?\\([^\\)]*\\)//g;1s/ /_/g' -i ./exports/mobile_phone_price_samples.csv\n",
    "cat ./exports/mobile_phone_price_samples.csv"
   ]
  },
  {
   "cell_type": "markdown",
   "metadata": {},
   "source": [
    "### Step 2: Removing `GB` and `MP` tags"
   ]
  },
  {
   "cell_type": "code",
   "execution_count": 20,
   "metadata": {
    "tags": []
   },
   "outputs": [
    {
     "name": "stdout",
     "output_type": "stream",
     "text": [
      "Brand,Model,Storage,RAM,Screen_Size,Camera,Battery_Capacity,Price\n",
      "Apple,iPhone SE (2nd Gen),64,3,4.7,12,1821,399\n",
      "Xiaomi,Redmi 9T,128,4,6.53,48 + 8 + 2 + 2,6000,$229\n",
      "Motorola,Moto G Pro,128,4,6.4,48+16+2,4000,329\n",
      "Samsung,Galaxy S21 Ultra 5G,256,12,6.8,108 + 12 + 10 + 10,5000,\"$1,199 \"\n",
      "Xiaomi,Redmi 10,128,4,6.5,50+8+2+2,5000,229\n"
     ]
    }
   ],
   "source": [
    "%%bash\n",
    "sed -E 's/ ?(GB|MP)//g' -i ./exports/mobile_phone_price_samples.csv\n",
    "cat ./exports/mobile_phone_price_samples.csv"
   ]
  },
  {
   "cell_type": "markdown",
   "metadata": {},
   "source": [
    "### Step 3: Cameras side by side"
   ]
  },
  {
   "cell_type": "code",
   "execution_count": 21,
   "metadata": {
    "tags": []
   },
   "outputs": [
    {
     "name": "stdout",
     "output_type": "stream",
     "text": [
      "Brand,Model,Storage,RAM,Screen_Size,Camera,Battery_Capacity,Price\n",
      "Apple,iPhone SE (2nd Gen),64,3,4.7,12,1821,399\n",
      "Xiaomi,Redmi 9T,128,4,6.53,48+8+2+2,6000,$229\n",
      "Motorola,Moto G Pro,128,4,6.4,48+16+2,4000,329\n",
      "Samsung,Galaxy S21 Ultra 5G,256,12,6.8,108+12+10+10,5000,\"$1,199 \"\n",
      "Xiaomi,Redmi 10,128,4,6.5,50+8+2+2,5000,229\n"
     ]
    }
   ],
   "source": [
    "%%bash\n",
    "sed 's/ + /+/g' -i ./exports/mobile_phone_price_samples.csv\n",
    "cat ./exports/mobile_phone_price_samples.csv"
   ]
  },
  {
   "cell_type": "markdown",
   "metadata": {},
   "source": [
    "### Step 4: Format prices"
   ]
  },
  {
   "cell_type": "code",
   "execution_count": 22,
   "metadata": {
    "tags": []
   },
   "outputs": [
    {
     "name": "stdout",
     "output_type": "stream",
     "text": [
      "Brand,Model,Storage,RAM,Screen_Size,Camera,Battery_Capacity,Price\n",
      "Apple,iPhone SE (2nd Gen),64,3,4.7,12,1821,399\n",
      "Xiaomi,Redmi 9T,128,4,6.53,48+8+2+2,6000,229\n",
      "Motorola,Moto G Pro,128,4,6.4,48+16+2,4000,329\n",
      "Samsung,Galaxy S21 Ultra 5G,256,12,6.8,108+12+10+10,5000,1199\n",
      "Xiaomi,Redmi 10,128,4,6.5,50+8+2+2,5000,229\n"
     ]
    }
   ],
   "source": [
    "%%bash\n",
    "sed -E 's/\\$//;s/\"([[:digit:]]+),([[:digit:]]+) \"/\\1\\2/' -i ./exports/mobile_phone_price_samples.csv\n",
    "cat ./exports/mobile_phone_price_samples.csv"
   ]
  },
  {
   "cell_type": "markdown",
   "metadata": {},
   "source": [
    "### Step 5: Apply all patterns to the original dataset"
   ]
  },
  {
   "cell_type": "code",
   "execution_count": 23,
   "metadata": {
    "collapsed": true,
    "jupyter": {
     "outputs_hidden": true
    },
    "tags": []
   },
   "outputs": [
    {
     "name": "stdout",
     "output_type": "stream",
     "text": [
      "﻿Brand,Model,Storage,RAM,Screen_Size,Camera,Battery_Capacity,Price\n",
      "Apple,iPhone 13 Pro,128,6,6.1,12+12+12,3095,999\n",
      "Samsung,Galaxy S21 Ultra,256,12,6.8,108+10+10+12,5000,1199\n",
      "OnePlus,9 Pro,128,8,6.7,48+50+8+2,4500,899\n",
      "Xiaomi,Redmi Note 10 Pro,128,6,6.67,64+8+5+2,5020,279\n",
      "Google,Pixel 6,128,8,6.4,50+12.2,4614,799\n",
      "Apple,iPhone 13,128,4,6.1,12+12,2815,799\n",
      "Samsung,Galaxy Z Flip3,256,8,6.7,12+12,3300,999\n",
      "Xiaomi,Poco X3 Pro,128,6,6.67,48+8+2+2,5160,249\n",
      "Oppo,Reno6 Pro+ 5G,128,8,6.55,50+13+16+2,4500,699\n",
      "Vivo,X70 Pro+,256,12,6.78,50+48+12+8,4500,1199\n",
      "OnePlus,Nord CE 5G,128,6,6.43,64+8+2,4500,329\n",
      "Samsung,Galaxy A52s 5G,128,6,6.5,64+12+5+5,4500,449\n",
      "Realme,GT Neo2,128,8,6.62,64+8+2,5000,329\n",
      "Apple,iPhone 12 Mini,64,4,5.4,12+12,2227,699\n",
      "Oppo,Find X3 Pro,256,12,6.7,50+50+13+3,4500,1199\n",
      "Xiaomi,Mi 11 Lite 5G NE,128,6,6.55,64+8+5,4250,329\n",
      "Samsung,Galaxy S21,128,8,6.2,64+12+12,4000,799\n",
      "Vivo,Y20s (G),128,6,6.51,50+2+2,5000,199\n",
      "Realme,8s 5G,128,6,6.5,48+2+2,5000,299\n",
      "Oppo,A94,128,8,6.43,48+8+2+2,4310,379\n",
      "Xiaomi,Redmi 10 Prime,128,6,6.5,50+8+2+2,6000,179\n",
      "Samsung,Galaxy A22 5G,128,4,6.6,48+5,5000,279\n",
      "Realme,Narzo 50 Pro 5G,128,6,6.5,48+50+2,5000,249\n",
      "OnePlus,9,128,8,6.55,48+50+2,4500,729\n",
      "Xiaomi,Redmi Note 10 Pro Max,128,6,6.67,108+8+5+2,5020,279\n",
      "Apple,iPhone 11,64,4,6.1,12+12,3110,599\n",
      "Samsung,Galaxy A03s,32,3,6.5,13+2+2,5000,139\n",
      "Oppo,A74 5G,128,6,6.5,48+2+2,5000,299\n",
      "Vivo,Y12s (2021),32,3,6.51,13+2,5000,139\n",
      "Realme,9i,128,4,6.5,50+2+2,6000,189\n",
      "Samsung,Galaxy M52 5G,128,6,6.7,64+12+5+5,5000,449\n",
      "Xiaomi,Redmi 10,128,4,6.5,50+8+2+2,5000,179\n",
      "Apple,iPhone SE (2nd Gen),64,3,4.7,12,1821,399\n",
      "Oppo,A53s,128,6,6.5,13+2+2,5000,259\n",
      "Vivo,Y33s,128,8,6.58,50+2+2,5000,279\n",
      "Realme,C25s,128,4,6.5,13+2+2,6000,159\n",
      "Samsung,Galaxy A22 4G,128,6,6.4,48+5+2,5000,229\n",
      "OnePlus,Nord 2 5G,128,8,6.43,50+8+2,4500,399\n",
      "Xiaomi,Poco M3 Pro 5G,64,4,6.5,48+2+2,5000,199\n",
      "Apple,iPhone XR,64,3,6.1,12,2942,499\n",
      "Oppo,A16,64,3,6.52,13+2+2,5000,159\n",
      "Realme,C21Y,64,4,6.5,13+2+2,5000,129\n",
      "Samsung,Galaxy F22,64,4,6.4,48+8+2+2,6000,189\n",
      "Oppo,F19 Pro+ 5G,128,8,6.43,64+8+2+2,4310,399\n",
      "Xiaomi,Mi 11X,128,8,6.67,48+8+5,4520,529\n",
      "Apple,iPhone 12 Mini,64,4,5.4,12+12,2227,699\n",
      "Vivo,V21e,128,8,6.44,64+8,4000,369\n",
      "Realme,8 5G,128,4,6.5,48+2+2,5000,199\n",
      "Samsung,Galaxy M12,64,4,6.5,48+5+2+2,6000,159\n",
      "Oppo,A16s,64,4,6.52,13+2+2,5000,179\n",
      "Xiaomi,Redmi 9 Power,128,4,6.53,48+8+2+2,6000,189\n",
      "Apple,iPhone 11 Pro Max,256,4,6.5,12+12+12,3969,1099\n",
      "Vivo,Y20G,64,4,6.51,13+2+2,5000,169\n",
      "Realme,Narzo 50i,32,2,6.5,50+2,5000,99\n",
      "Samsung,Galaxy A52s 5G,128,6,6.5,64+12+5+5,4500,459\n",
      "Oppo,A54,128,4,6.51,13+2+2,5000,239\n",
      "Xiaomi,Redmi 9T,128,4,6.53,48+8+2+2,6000,199\n",
      "Apple,iPhone 13 Pro Max,256,6,6.7,12+12+12,4352,1299\n",
      "Vivo,Y33,128,8,6.58,50+2+2,5000,249\n",
      "Samsung,Galaxy A72,128,8,6.7,64+12+8+5,5000,429\n",
      "Oppo,Reno6 Pro 5G,128,12,6.55,64+8+2+2,4500,659\n",
      "Xiaomi,Poco M3 Pro 5G,64,4,6.5,48+2+2,5000,199\n",
      "Apple,iPhone SE (2020),64,3,4.7,12,1821,399\n",
      "Vivo,Y53s,128,8,6.58,64+2,5000,269\n",
      "Realme,7i,128,8,6.5,64+8+2+2,5000,239\n",
      "Samsung,Galaxy A52 5G,128,6,6.5,64+12+5+5,4500,449\n",
      "Oppo,F19 Pro,128,8,6.43,48+8+2+2,4310,359\n",
      "Xiaomi,Redmi Note 10S,128,6,6.43,64+8+2+2,5000,229\n",
      "Apple,iPhone XR,64,3,6.1,12+12,2942,499\n",
      "Vivo,Y21s,128,4,6.51,50+2,5000,179\n",
      "Realme,C25s,128,4,6.5,13+2+2,6000,169\n",
      "Samsung,Galaxy A22 5G,128,4,6.6,48+5+2,5000,239\n",
      "Oppo,A94,128,8,6.43,48+8+2+2,4310,329\n",
      "Xiaomi,Mi 11 Lite 5G,128,6,6.55,64+8+5,4250,369\n",
      "Apple,iPhone 11,128,4,6.1,12+12,3110,599\n",
      "Vivo,X60 Pro,256,12,6.56,48+13+13,4200,799\n",
      "Realme,Narzo 50A,64,4,6.5,50+2,5000,139\n",
      "Apple,iPhone 13,128,4,6.1,12+12,2815,799 \n",
      "Samsung,Galaxy S21,128,8,6.2,64+12+12,4000,799 \n",
      "OnePlus,Nord 2,128,8,6.43,50+8+2,4500,399 \n",
      "Google,Pixel 6,128,8,6.4,50+12,4600,699 \n",
      "Xiaomi,Poco X4 Pro,128,6,6.67,48+8+2+2,5160,329 \n",
      "Realme,GT Master Edition,128,8,6.43,64+8+2,4300,399 \n",
      "Vivo,X70 Pro+,256,12,6.78,50+48+12+8,4450,999 \n",
      "Oppo,Reno6 Pro+,256,12,6.55,50+16+13+2,4500,699 \n",
      "Motorola,Edge 20 Pro,256,12,6.7,108+16+8,4500,699 \n",
      "Nokia,XR20,128,6,6.67,48+13,4630,549 \n",
      "Sony,Xperia 5 III,128,8,6.1,12+12+12,4500,1299\n",
      "LG,Wing,256,8,6.8+3.9,64+13+12,4000,999 \n",
      "Asus,Zenfone 8 Flip,256,8,6.67,64+12+8,5000,899 \n",
      "Blackberry,KEY2 LE,64,4,4.5,13+5,3000,399 \n",
      "Samsung,Galaxy A72,128,6,6.7,64+12+8+5,5000,449 \n",
      "Xiaomi,Redmi Note 10 Pro Max,128,6,6.67,108+8+5+2,5020,319 \n",
      "Realme,Narzo 50 Pro 5G,128,8,6.5,48+50+2,5000,269 \n",
      "Oppo,F19 Pro+,128,8,6.43,48+8+2+2,4310,349 \n",
      "Vivo,Y33s,128,8,6.58,50+2+2,5000,269 \n",
      "Motorola,Moto G60,128,6,6.8,108+8+2,6000,279 \n",
      "Nokia,5.4,64,4,6.39,48+5+2,4000,249 \n",
      "LG,K92 5G,128,6,6.7,64+5+2+2,4000,349 \n",
      "Asus,Zenfone 8,128,6,5.9,64+12,4000,699 \n",
      "Blackberry,KEY2,64,6,4.5,12+12,3500,699 \n",
      "CAT,S42,32,3,5.5,13+5,4200,299 \n",
      "Samsung,Galaxy Z Flip 3,128,8,6.7,12+12,3300,999 \n",
      "OnePlus,9 Pro,256,12,6.7,48+50+8,4500,969 \n",
      "Xiaomi,Mi 11 Ultra,256,12,6.81,50+48+48,5000,1199\n",
      "Oppo,A16,32,3,6.52,13+2+2,5000,149 \n",
      "Vivo,Y12A,32,3,6.51,13+2,5000,139 \n",
      "Nokia,C20 Plus,32,3,6.5,8+2,4950,99 \n",
      "Samsung,Galaxy S20 FE 5G,128,6,6.5,12+12+8,4500,699 \n",
      "Motorola,Moto E7i Power,32,2,6.5,13+2,5000,99 \n",
      "Xiaomi,Poco M3 Pro 5G,128,6,6.5,48+2+2,5000,199 \n",
      "Realme,C21Y,64,4,6.5,13+2+2,5000,169 \n",
      "Asus,ROG Phone 5,128,8,6.78,64+13+5,6000,999 \n",
      "LG,Velvet 5G,128,6,6.8,48+8+5,4300,499 \n",
      "Blackberry,Evolve,64,6,5.99,12+13,4000,399 \n",
      "Oppo,Reno 6 Pro+,256,12,6.55,50+13+16+2,4500,799 \n",
      "Samsung,Galaxy A03s,64,4,6.5,13+2+2,5000,179 \n",
      "Xiaomi,Redmi 10 Prime,128,6,6.5,50+8+2+2,6000,219 \n",
      "Motorola,Moto G50,64,4,6.5,48+5+2,5000,249 \n",
      "Realme,Narzo 50A,64,4,6.5,50+2,6000,149 \n",
      "Nokia,G20,64,4,6.5,48+5,5050,199 \n",
      "Samsung,Galaxy M32,128,6,6.4,64+8+2+2,6000,279 \n",
      "Vivo,Y20G,64,4,6.51,13+2+2,5000,179 \n",
      "Asus,Zenfone 8 Flip,128,8,6.67,64+12+12,5000,899 \n",
      "Oppo,A54,128,6,6.51,50+2+2,5000,269 \n",
      "Samsung,Galaxy F22,128,6,6.4,48+8+2+2,6000,229 \n",
      "Xiaomi,Mi 11 Lite 5G,128,6,6.55,64+8+5,4250,399 \n",
      "Realme,8i,128,4,6.6,50+2+2,5000,239 \n",
      "Nokia,C30,64,3,6.82,13+2,6000,149 \n",
      "Samsung,Galaxy A32,128,6,6.4,64+8+5+5,5000,279 \n",
      "Xiaomi,Redmi Note 10 Pro Max,128,8,6.67,108+8+5+2,5020,329 \n",
      "Realme,C21Y,64,4,6.5,13+2+2,5000,149 \n",
      "Nokia,XR20,128,6,6.67,48+13,4630,549 \n",
      "Samsung,Galaxy A52s 5G,128,6,6.5,64+12+5+5,4500,449 \n",
      "Vivo,Y33s,128,8,6.58,50+2,5000,279 \n",
      "Oppo,A16s,64,4,6.52,13+2+2,5000,199 \n",
      "Motorola,Moto G Stylus 5G,128,5,6.8,48+8+5,5000,399 \n",
      "Xiaomi,Poco M3 Pro 5G,64,4,6.5,48+2+2,5000,179 \n",
      "Realme,GT Neo2,128,8,6.62,64+8+2,5000,399 \n",
      "Nokia,C20 Plus,32,3,6.5,8+2,4950,109 \n",
      "Samsung,Galaxy A21s,128,4,6.5,48+8+2+2,5000,219 \n",
      "Vivo,Y12s,32,3,6.51,13+2,5000,149 \n",
      "Oppo,F19s,128,6,6.43,48+2+2,5000,299 \n",
      "Realme,Narzo 30 Pro 5G,128,8,6.5,48+8+2,5000,279 \n",
      "Samsung,Galaxy A03s,32,3,6.5,13+2+2,5000,149 \n",
      "Xiaomi,Redmi 10 Prime,128,4,6.5,50+8+2+2,6000,189 \n",
      "Motorola,Moto G Pure,32,3,6.5,48+2,5000,169 \n",
      "Oppo,Reno6 Z 5G,128,8,6.4,64+8+2,4310,389 \n",
      "Samsung,Galaxy S21 Ultra 5G,256,12,6.8,108+12+10+10,5000,1199\n",
      "Vivo,Y53s,128,8,6.58,64+2,5000,299 \n",
      "Realme,8i,128,4,6.6,50+2+2,5000,219 \n",
      "Nokia,G50,64,4,6.82,48+5+2,5000,299 \n",
      "Xiaomi,Redmi 9 Activ,64,4,6.53,13+2,5000,149 \n",
      "Oppo,A54s,128,6,6.5,50+2+2,5000,249 \n",
      "Samsung,Galaxy M22,128,4,6.4,48+8+2+2,5000,219 \n",
      "Motorola,Moto G Power 2022,128,4,6.6,48+8+2,5000,249 \n",
      "Vivo,Y21s,128,4,6.51,50+2,5000,179 \n",
      "Xiaomi,Poco X3 GT,128,8,6.6,64+8+2,5000,299 \n",
      "Samsung,Galaxy F42 5G,128,8,6.6,64+8+5,5000,309 \n",
      "Oppo,A16s,128,4,6.52,13+2+2,5000,179 \n",
      "Vivo,V21e,128,8,6.44,64+8,4000,369 \n",
      "Realme,GT Master Edition,128,6,6.43,64+8+2,4300,349 \n",
      "Motorola,Edge 20 Fusion,128,6,6.7,108+8+2,5000,499 \n",
      "Samsung,Galaxy A21s,64,4,6.5,48+8+2+2,5000,199 \n",
      "Xiaomi,Redmi Note 10S,128,6,6.43,64+8+2+2,5000,229 \n",
      "Oppo,A74 5G,128,6,6.5,48+2+2,5000,299 \n",
      "Realme,C21,64,3,6.5,13+2+2,5000,129 \n",
      "Samsung,Galaxy M52 5G,128,6,6.7,64+12+5+5,5000,449 \n",
      "Vivo,V21 5G,128,8,6.44,64+8,4000,499 \n",
      "Xiaomi,Redmi Note 9 Pro Max,128,6,6.67,64+8+5+2,5020,279 \n",
      "Motorola,Moto G Stylus 5G,128,5,6.8,48+8+5,5000,399 \n",
      "Oppo,Reno6 Pro+ 5G,256,12,6.55,50+16+13+2,4500,849 \n",
      "Realme,Narzo 30 Pro 5G,128,6,6.5,48+8+2,5000,279 \n",
      "Samsung,Galaxy A32,128,4,6.4,64+8+5+2,5000,299 \n",
      "Xiaomi,Poco X3 Pro,128,6,6.67,48+8+2+2,5160,249 \n",
      "Realme,C25s,128,4,6.5,13+2+2,6000,149 \n",
      "Motorola,Moto G Power 2021,64,4,6.6,48+2,5000,199 \n",
      "Samsung,Galaxy A52s 5G,128,6,6.5,64+12+5+5,4500,469 \n",
      "Vivo,V21e 5G,128,8,6.44,64+8,4000,329 \n",
      "Oppo,A53s 5G,128,6,6.52,13+2+2,5000,279 \n",
      "Realme,GT Neo2,128,8,6.62,64+8+2,5000,369 \n",
      "Samsung,Galaxy M32,128,4,6.4,64+8+2+2,6000,269 \n",
      "Xiaomi,Mi 11 Lite NE,128,6,6.55,64+8+5,4250,329 \n",
      "Motorola,Moto G Stylus 2021,128,4,6.4,48+8+2,4000,299 \n",
      "Oppo,A54s 5G,128,6,6.5,48+2+2,5000,299 \n",
      "Samsung,Galaxy F41,128,6,6.4,64+8+5,6000,239 \n",
      "Xiaomi,Redmi Note 10 Pro,128,6,6.67,64+8+5+2,5020,329 \n",
      "Realme,Narzo 50A,128,4,6.5,50+2,5000,149 \n",
      "Oppo,A16s,64,4,6.52,13+2+2,5000,189 \n",
      "Samsung,Galaxy M52,128,6,6.7,64+12+5+5,5000,449 \n",
      "Vivo,V21 5G,128,8,6.44,64+8+2,4000,399 \n",
      "Motorola,Moto G50s,128,4,6.5,48+5+2,5000,249 \n",
      "Samsung,Galaxy A13,64,4,6.5,50+5,5000,189 \n",
      "Xiaomi,Redmi 9 Activ,128,6,6.53,50+2,5000,209 \n",
      "Realme,7i,128,8,6.5,64+8+2+2,5000,199 \n",
      "Oppo,A74 5G,128,6,6.5,48+2+2,5000,299 \n",
      "Samsung,Galaxy A42 5G,128,4,6.6,48+8+5+5,5000,329 \n",
      "Vivo,Y33s,128,8,6.58,50+2+2,5000,249 \n",
      "Motorola,Moto G9 Power Lite,64,4,6.5,48+2+2,6000,149 \n",
      "Realme,C21Y,64,4,6.5,13+2+2,5000,119 \n",
      "Samsung,Galaxy A22,128,4,6.4,48+8+2+2,5000,219 \n",
      "Xiaomi,Redmi Note 10S,128,6,6.43,64+8+2+2,5000,279 \n",
      "Oppo,A74,128,6,6.43,48+2+2,5000,299 \n",
      "Samsung,Galaxy A32,128,4,6.4,64+8+5+5,5000,269 \n",
      "Vivo,Y72 5G,128,8,6.58,64+8+2,5000,339 \n",
      "Motorola,Moto G60,128,6,6.8,108+8+2,6000,299 \n",
      "Xiaomi,Mi 10i,128,6,6.67,108+8+2+2,4820,319 \n",
      "Realme,Narzo 30 Pro,128,8,6.5,48+8+2,5000,279 \n",
      "Samsung,Galaxy M62,128,8,6.7,64+12+5+5,7000,429 \n",
      "Oppo,A53s,128,6,6.5,50+2+2,5000,269 \n",
      "Xiaomi,Redmi 10 Prime,128,6,6.5,50+8+2+2,6000,199 \n",
      "Realme,C25s,128,4,6.5,13+2+2,6000,159 \n",
      "Samsung,Galaxy A12,64,4,6.5,48+5+2+2,5000,179 \n",
      "Xiaomi,Poco X3 Pro,128,6,6.67,48+8+2+2,5160,299 \n",
      "Samsung,Galaxy A03s,64,4,6.5,13+2+2,5000,149 \n",
      "Oppo,A15s,64,4,6.52,13+2+2,4230,169 \n",
      "Realme,C11 2021,32,2,6.52,8+2,5000,99 \n",
      "Nokia,C30,32,2,6.82,13+2,6000,149 \n",
      "Xiaomi,Redmi 9i,64,4,6.53,13,5000,139 \n",
      "Samsung,Galaxy A22 5G,128,4,6.6,48+5+2,5000,279 \n",
      "Oppo,A53,128,6,6.5,13+2+2,5000,219 \n",
      "Vivo,Y12s,32,3,6.51,13+2,5000,149 \n",
      "Xiaomi,Mi 11 Lite 5G,128,8,6.55,64+8+5,4250,429 \n",
      "Realme,7 5G,128,6,6.5,48+8+2,5000,279 \n",
      "Samsung,Galaxy M31s,128,6,6.5,64+12+5+5,6000,379 \n",
      "Oppo,A15,32,3,6.52,13+2+2,4230,149 \n",
      "Nokia,G10,32,3,6.52,13+2+2,5050,169 \n",
      "Xiaomi,Poco X3 GT,128,8,6.6,64+8+2,5000,329 \n",
      "Realme,C25,64,4,6.5,13+2+2,6000,179 \n",
      "Xiaomi,Redmi Note 10 Pro Max,128,8,6.67,108+8+5+2,5020,329 \n",
      "Samsung,Galaxy A52 5G,128,6,6.5,64+12+5+5,4500,449 \n",
      "Oppo,A94,128,8,6.43,48+8+2+2,4310,399 \n",
      "Vivo,Y33s,128,8,6.58,50+2+2,5000,289 \n",
      "Realme,Narzo 50A,64,4,6.5,50+2,5000,149 \n",
      "Nokia,X20,128,6,6.67,64+5+2+2,4470,449 \n",
      "Xiaomi,Redmi 9 Power,128,4,6.53,48+8+2+2,6000,199 \n",
      "Samsung,Galaxy M12,64,4,6.5,48+5+2+2,6000,179 \n",
      "Oppo,A53s,128,6,6.5,13+2+2,5000,229 \n",
      "Vivo,Y20s G,128,6,6.51,50+2+2,5000,209 \n",
      "Realme,C21Y,64,4,6.5,13+2+2,5000,139 \n",
      "Nokia,C20 Plus,32,3,6.5,8+2,4950,99 \n",
      "Xiaomi,Redmi 10 Prime,128,4,6.5,50+8+2+2,6000,199 \n",
      "Oppo,Reno 6 Pro 5G,128,12,6.55,64+8+2,4500,549 \n",
      "Vivo,Y31s,128,6,6.58,13+2,5000,239 \n",
      "Realme,8 5G,128,8,6.5,48+2,5000,299 \n",
      "Nokia,G20,64,4,6.5,48+5+2+2,5050,199 \n",
      "Xiaomi,Poco X3 Pro,128,6,6.67,48+8+2+2,5160,249 \n",
      "Samsung,Galaxy A32 5G,128,4,6.5,48+8+5+2,5000,279 \n",
      "Oppo,A16,32,3,6.52,13+2+2,5000,149 \n",
      "Vivo,V21 5G,128,8,6.44,64+8+2,4000,469 \n",
      "Realme,C11 2021,32,2,6.5,8+2,5000,99 \n",
      "Nokia,5.4,128,4,6.39,48+5+2+2,4000,249 \n",
      "Xiaomi,Redmi Note 10,64,4,6.43,48+8+2+2,5000,199 \n",
      "Samsung,Galaxy F41,64,6,6.4,64+8+5,6000,249 \n",
      "Oppo,A54,128,6,6.51,48+2+2,5000,249 \n",
      "Vivo,V20 SE,128,8,6.44,48+8+2,4100,319 \n",
      "Nokia,3.4,64,3,6.39,13+5+2,4000,179 \n",
      "Xiaomi,Redmi Note 9 Pro Max,64,6,6.67,64+8+5+2,5020,279 \n",
      "Samsung,Galaxy M31s,128,8,6.5,64+12+5+5,6000,349 \n",
      "Oppo,A54,128,4,6.51,13+2+2,5000,219 \n",
      "Vivo,Y12s,32,3,6.51,13+2,5000,149 \n",
      "Realme,C20,32,2,6.5,8,5000,99 \n",
      "Nokia,1.4,32,2,6.51,8+2,4000,119 \n",
      "Xiaomi,Redmi 9 Power,64,4,6.53,48+8+2+2,6000,169 \n",
      "Samsung,Galaxy A02s,32,3,6.5,13+2+2,5000,139 \n",
      "Oppo,A15s,64,4,6.52,13+2+2,4230,159 \n",
      "Vivo,Y51A,128,8,6.58,48+8+2,5000,289 \n",
      "Realme,Narzo 20,64,4,6.5,48+8+2,6000,199 \n",
      "Nokia,5.3,64,3,6.55,13+5+2+2,4000,199 \n",
      "Xiaomi,Redmi Note 8,64,4,6.3,48+8+2+2,4000,179 \n",
      "Samsung,Galaxy M11,32,3,6.4,13+5+2,5000,130\n",
      "Oppo,A54,64,4,6.51,13+2+2,5000,199 \n",
      "Vivo,Y20s,128,8,6.51,13+2+2,5000,249 \n",
      "Realme,C11,32,2,6.5,13+2,5000,99 \n",
      "Nokia,2.4,32,2,6.5,8+2,4500,129 \n",
      "Xiaomi,Redmi 9,64,4,6.53,13+8+5+2,5020,149 \n",
      "Samsung,Galaxy A11,32,2,6.4,13+5+2,4000,129 \n",
      "Oppo,A12,64,4,6.22,13+2,4230,139 \n",
      "Vivo,Y20G,128,6,6.51,13+2+2,5000,229 \n",
      "Realme,C15,64,4,6.5,13+8+2+2,6000,179 \n",
      "Nokia,3.1 Plus,32,3,6,13+5,3500,139 \n",
      "Xiaomi,Redmi Note 7,64,4,6.3,48+5,4000,159 \n",
      "Samsung,Galaxy A12,64,4,6.5,48+5+2+2,5000,179 \n",
      "Oppo,A31,128,4,6.5,12+2+2,4230,199 \n",
      "Vivo,Y15,64,4,6.35,13+8+2,5000,189 \n",
      "Realme,Narzo 10A,32,3,6.5,12+2+2,5000,129 \n",
      "Xiaomi,Redmi 9T,128,4,6.53,48+8+2+2,6000,229 \n",
      "Samsung,Galaxy A30s,64,4,6.4,25+8+5,4000,279 \n",
      "Samsung,Galaxy Note 20 Ultra,256,12,6.9,108+12+12,4500,1299\n",
      "Apple,iPhone SE (2020),64,3,4.7,12,1821,399\n",
      "Xiaomi,Poco X3 Pro,128,6,6.67,48+8+2+2,5160,249\n",
      "Google,Pixel 5,128,8,6,12.2+16,4080,699\n",
      "Huawei,Mate 40 Pro,256,8,6.76,50+20+12+3D,4400,1199\n",
      "OnePlus,Nord N10 5G,128,6,6.49,64+8+2+2,4300,299\n",
      "Oppo,Reno 5 Pro 5G,128,8,6.55,64+8+2+2,4350,449\n",
      "Samsung,Galaxy A71,128,6,6.7,64+12+5+5,4500,599\n",
      "Nokia,8.3 5G,128,8,6.81,64+12+2+2,4500,499\n",
      "Apple,iPhone 11 Pro Max,512,4,6.5,12+12+12,3969,1099\n",
      "Xiaomi,Mi 11,256,8,6.81,108+13+5,4600,749\n",
      "Motorola,Moto G Power (2021),64,4,6.6,48+2+2,5000,199\n",
      "Google,Pixel 4a 5G,128,6,6.2,12.2+16,3885,499\n",
      "Huawei,Nova 8 Pro 5G,128,8,6.72,64+8+2+2,4000,699\n",
      "Samsung,Galaxy A52,128,6,6.5,64+12+5+5,4500,449\n",
      "OnePlus,8T,256,12,6.55,48+16+5+2,4500,749\n",
      "Xiaomi,Redmi 9,64,4,6.53,13+8+5+2,5020,149\n",
      "Apple,iPhone 13,128,6,6.1,12+12+12,2815,799\n",
      "Oppo,A15s,64,4,6.52,13+2+2,4230,159\n",
      "Nokia,G50 5G,128,4,6.82,48+5+2,4850,299\n",
      "Apple,iPhone XR,64,3,6.1,12+7,2942,599\n",
      "Samsung,Galaxy S21 Ultra 5G,256,12,6.8,108+10+10+12,5000,1199\n",
      "Xiaomi,Redmi Note 10 Pro,128,6,6.67,108+8+5+2,5020,279\n",
      "Oppo,Find X3 Neo 5G,256,12,6.55,50+16+13+2,4500,899\n",
      "Huawei,P40 Pro,256,8,6.58,50+12+40+3D,4200,1099\n",
      "OnePlus,9 Pro,256,12,6.7,48+50+8+2,4500,969\n",
      "Motorola,Moto G Stylus (2021),128,4,6.4,48+8+2,4000,299\n",
      "Google,Pixel 4,128,6,5.7,12.2+16,2800,799\n",
      "Samsung,Galaxy A12,128,4,6.5,48+5+2+2,5000,179\n",
      "Nokia,5.4,64,4,6.39,48+5+2+2,4000,179\n",
      "Apple,iPhone 12,128,4,6.1,12+12,2815,799\n",
      "Xiaomi,Redmi 10,128,4,6.5,50+8+2+2,5000,229\n",
      "Oppo,A94 5G,128,8,6.43,48+8+2+2,4310,399\n",
      "Huawei,Nova 9 Pro 5G,256,8,6.72,50+8+16+2,4500,699\n",
      "Samsung,Galaxy S10 Lite,128,6,6.7,48+12+5,4500,649\n",
      "OnePlus,8 Pro,256,12,6.78,48+48+8+5,4510,999\n",
      "Nokia,7.2,128,6,6.3,48+8+5,3500,349\n",
      "Xiaomi,Mi 10T Pro,256,8,6.67,108+13+5,5000,599\n",
      "Apple,iPhone 11,64,4,6.1,12+12+12,3110,699\n",
      "Oppo,F19 Pro+ 5G,128,8,6.43,64+8+2+2,4310,419\n",
      "Motorola,Moto G Power (2021),64,3,6.6,48+2+2,5000,199\n",
      "Samsung,Galaxy A71,128,6,6.7,64+12+5+5,4500,399\n",
      "Huawei,Mate 30 Pro 5G,256,8,6.53,40+40+8+3D,4500,1099\n",
      "Xiaomi,Poco X3 Pro,128,6,6.67,48+8+2+2,5160,249\n",
      "Google,Pixel 5,128,8,6,12.2+16,4080,699\n",
      "Apple,iPhone SE (2020),64,3,4.7,12,1821,399\n",
      "Samsung,Galaxy M51,128,6,6.7,64+12+5+5,7000,449\n",
      "Oppo,Reno4 Pro 5G,256,12,6.55,48+12+13,4000,799\n",
      "Nokia,3.4,64,4,6.39,13+5+2,4000,179\n",
      "Motorola,Moto G9 Plus,128,4,6.81,64+8+2+2,5000,279\n",
      "Apple,iPhone XS Max,256,4,6.5,12+12,3174,1099\n",
      "Samsung,Galaxy A32 5G,128,4,6.5,48+8+5+2,5000,279\n",
      "Xiaomi,Redmi Note 9S,128,6,6.67,48+8+5+2,5020,249\n",
      "Oppo,A92,128,8,6.5,48+8+2+2,5000,399\n",
      "Huawei,P30 Pro,256,8,6.47,40+20+8+ToF,4200,999\n",
      "Samsung,Galaxy S20 FE 5G,128,6,6.5,12+12+8,4500,699\n",
      "OnePlus,7 Pro,256,8,6.67,48+16+8,4000,699\n",
      "Nokia,6.2,128,4,6.3,16+8+5,3500,249\n",
      "Xiaomi,Mi 10T Lite,128,6,6.67,64+8+2+2,4820,279\n",
      "Apple,iPhone 8 Plus,64,3,5.5,12+12,2691,699\n",
      "Oppo,A53,128,4,6.5,13+2+2,5000,249\n",
      "Motorola,Moto G8 Power,64,4,6.4,16+8+8+2,5000,229\n",
      "Huawei,Nova 7i,128,8,6.4,48+8+2+2,4200,329\n",
      "Samsung,Galaxy S21+ 5G,256,8,6.7,12+64+12,4800,999\n",
      "Xiaomi,Mi 11 Lite,128,6,6.55,64+8+5,4250,399\n",
      "Nokia,8.3 5G,128,8,6.81,64+12+2+2,4500,499\n",
      "OnePlus,Nord,128,8,6.44,48+8+5+2,4115,449\n",
      "Apple,iPhone XR,64,3,6.1,12,2942,499\n",
      "Samsung,Galaxy A12,128,4,6.5,48+5+2+2,5000,179\n",
      "Oppo,A94 5G,128,8,6.43,48+8+2+2,4310,399\n",
      "Xiaomi,Redmi 9T,128,4,6.53,48+8+2+2,6000,199\n",
      "Motorola,Moto G10,128,4,6.5,48+8+2+2,5000,199\n",
      "Samsung,Galaxy A52 5G,128,6,6.5,64+12+5+5,4500,449\n",
      "Huawei,P40 Pro+,512,8,6.58,50+40+12+3D,4200,1399\n",
      "Apple,iPhone 11 Pro Max,64,4,6.5,12+12+12,3969,1099\n",
      "Samsung,Galaxy Note20 5G,256,8,6.7,12+64+12,4300,999\n",
      "Xiaomi,Poco M3,128,4,6.53,48+2+2,6000,179\n",
      "Nokia,5.4,64,4,6.39,48+5+2+2,4000,179\n",
      "Oppo,Find X3 Neo 5G,256,12,6.55,50+16+13+2,4500,799\n",
      "Samsung,Galaxy S20 Ultra 5G,512,16,6.9,108+48+12+3D,5000,1399\n",
      "Xiaomi,Redmi Note 9S,128,6,6.67,48+8+5+2,5020,229\n",
      "Apple,iPhone 12 mini,256,4,5.4,12+12,2227,899\n",
      "Samsung,Galaxy A21s,128,6,6.5,48+8+2+2,5000,199\n",
      "OnePlus,9,128,8,6.55,48+50+2,4500,729\n",
      "Motorola,Moto G9 Power,128,4,6.8,64+2+2,6000,229\n",
      "Samsung,Galaxy Z Fold2 5G,256,12,7.6 (unfolded),12+12+12,4500,1999\n",
      "Xiaomi,Mi 10T Pro 5G,128,8,6.67,108+13+5,5000,599\n",
      "Oppo,Reno4 Pro 5G,256,12,6.5,48+13+12+2,4000,799\n",
      "Huawei,P40 Pro,256,8,6.58,50+12+40+3D,4200,999\n",
      "Samsung,Galaxy S20 FE 5G,128,6,6.5,12+12+8,4500,699\n",
      "Nokia,2.4,32,2,6.5,13+2,4500,139\n",
      "Apple,iPhone SE (2020),128,3,4.7,12,1821,449\n",
      "Xiaomi,Redmi 9C,64,3,6.53,13+2+2,5000,119\n",
      "Samsung,Galaxy A32 5G,128,4,6.5,48+8+5+2,5000,279\n",
      "OnePlus,Nord N10 5G,128,6,6.49,64+8+2+2,4300,299\n",
      "Huawei,Y7p,64,4,6.39,48+8+2,4000,199\n",
      "Apple,iPhone 12 Pro,128,6,6.1,12+12+12,2815,999\n",
      "Samsung,Galaxy A42 5G,128,4,6.6,48+8+5+5,5000,329\n",
      "Xiaomi,Redmi Note 10 Pro,128,6,6.67,108+8+5+2,5020,329\n",
      "Samsung,Galaxy S21,128,8,6.2,64+12+12,4000,799\n",
      "Apple,iPhone 11,128,4,6.1,12+12,3110,749\n",
      "Xiaomi,Redmi 9T,128,4,6.53,48+8+2+2,6000,199\n",
      "Google,Pixel 5,128,8,6,12.2+16,4080,699\n",
      "Huawei,Nova 7i,128,8,6.4,48+8+2+2,4200,349\n",
      "Samsung,Galaxy S20 Ultra 5G,128,12,6.9,108+48+12+0.3,5000,1199\n",
      "OnePlus,8T,128,8,6.55,48+16+5+2,4500,749\n",
      "Motorola,Moto G8 Power,64,4,6.4,16+8+8+2,5000,199\n",
      "Realme,7,128,8,6.5,64+8+2+2,5000,299\n",
      "Apple,iPhone XR,128,3,6.1,12+12,2942,599\n",
      "Xiaomi,Poco M3,128,4,6.53,48+2+2,6000,149\n",
      "Samsung,Galaxy A52 5G,128,6,6.5,64+12+5+5,4500,449\n",
      "Oppo,A93,128,8,6.43,48+8+2+2,4000,319\n",
      "Motorola,Moto G Pro,128,4,6.4,48+16+2,4000,329\n",
      "Huawei,P30 Lite,128,4,6.15,48+8+2,3340,329\n",
      "Samsung,Galaxy Note20 5G,128,8,6.7,12+64+12,4300,1049\n",
      "Xiaomi,Mi 10 Lite 5G,128,6,6.57,48+8+2+2,4160,349\n",
      "Apple,iPhone 12 Pro Max,128,6,6.7,12+12+12,3687,1099\n",
      "Oppo,Reno3,128,8,6.4,48+13+8+2,4025,429\n",
      "Samsung,Galaxy S10 Lite,128,6,6.7,48+12+5,4500,649\n"
     ]
    }
   ],
   "source": [
    "%%bash\n",
    "sed -E '1s/ ,/,/g;1s/ ?\\([^\\)]*\\)//g;1s/ /_/g;s/ ?(GB|MP)//g;s/ \\+ /+/g;s/\\$//;s/\"([[:digit:]]+),([[:digit:]]+) \"/\\1\\2/' ./datasets/mobile_phone_price.csv > ./exports/cleaned_mobile_phone_price.csv\n",
    "cat ./exports/cleaned_mobile_phone_price.csv"
   ]
  },
  {
   "cell_type": "code",
   "execution_count": null,
   "metadata": {},
   "outputs": [],
   "source": []
  }
 ],
 "metadata": {
  "kernelspec": {
   "display_name": "Python 3 (ipykernel)",
   "language": "python",
   "name": "python3"
  },
  "language_info": {
   "codemirror_mode": {
    "name": "ipython",
    "version": 3
   },
   "file_extension": ".py",
   "mimetype": "text/x-python",
   "name": "python",
   "nbconvert_exporter": "python",
   "pygments_lexer": "ipython3",
   "version": "3.10.6"
  },
  "vscode": {
   "interpreter": {
    "hash": "916dbcbb3f70747c44a77c7bcd40155683ae19c65e1c03b4aa3499c5328201f1"
   }
  },
  "widgets": {
   "application/vnd.jupyter.widget-state+json": {
    "state": {},
    "version_major": 2,
    "version_minor": 0
   }
  }
 },
 "nbformat": 4,
 "nbformat_minor": 4
}
