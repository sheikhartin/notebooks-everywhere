{
 "cells": [
  {
   "cell_type": "code",
   "execution_count": 1,
   "id": "799047d9-9e39-44fa-9424-8b6be6eb6063",
   "metadata": {
    "tags": []
   },
   "outputs": [],
   "source": [
    "import random\n",
    "from typing import Optional, Generator\n",
    "\n",
    "import psycopg2\n",
    "from faker import Faker"
   ]
  },
  {
   "cell_type": "code",
   "execution_count": 2,
   "id": "72e31531-ca1b-47e3-aaed-d94a04054e3c",
   "metadata": {
    "tags": []
   },
   "outputs": [],
   "source": [
    "fake = Faker()\n",
    "conn = psycopg2.connect(\n",
    "    dbname='baseless_shop',\n",
    "    user='like_a_boss',\n",
    "    password='1234',\n",
    "    host='localhost',\n",
    ")\n",
    "conn.set_session(autocommit=True)\n",
    "cur = conn.cursor()"
   ]
  },
  {
   "cell_type": "code",
   "execution_count": 3,
   "id": "a37dc87b-ef36-4b0a-9fcb-8bb3ef1cd393",
   "metadata": {
    "tags": []
   },
   "outputs": [],
   "source": [
    "def fake_users(n: Optional[int] = 5) -> Generator[tuple[str, str, str], None, None]:\n",
    "    for i in range(n):\n",
    "        yield fake.user_name(), fake.password(), fake.ascii_email()"
   ]
  },
  {
   "cell_type": "code",
   "execution_count": 4,
   "id": "6f3358eb-4683-452b-92e2-37b9a3744775",
   "metadata": {
    "tags": []
   },
   "outputs": [],
   "source": [
    "def fake_domains(n: Optional[int] = 5) -> Generator[tuple[str, int, str], None, None]:\n",
    "    for i in range(n):\n",
    "        yield fake.domain_name(), random.randint(5, 60), fake.text().split('.')[0]"
   ]
  },
  {
   "cell_type": "code",
   "execution_count": 5,
   "id": "5646f081-c0f6-443a-8f79-ec611ee8286a",
   "metadata": {
    "tags": []
   },
   "outputs": [],
   "source": [
    "def add_new_users(n: Optional[int] = None) -> None:\n",
    "    cur.executemany(\n",
    "        \"\"\"\n",
    "        INSERT INTO users (username, password, email)\n",
    "        VALUES (%s, %s, %s)\n",
    "        ON CONFLICT (username) DO NOTHING\n",
    "        \"\"\",\n",
    "        list(fake_users(n) if n is not None else fake_users()),\n",
    "    )"
   ]
  },
  {
   "cell_type": "code",
   "execution_count": 6,
   "id": "b8b7fea7-a81b-4b2b-a0ce-e3223cd6ea0d",
   "metadata": {
    "tags": []
   },
   "outputs": [],
   "source": [
    "def add_new_domains(n: Optional[int] = None) -> None:\n",
    "    cur.executemany(\n",
    "        \"\"\"\n",
    "        INSERT INTO domains (domain, price, description)\n",
    "        VALUES (%s, %s, %s)\n",
    "        ON CONFLICT (domain) DO NOTHING\n",
    "        \"\"\",\n",
    "        list(fake_domains(n) if n is not None else fake_domains()),\n",
    "    )"
   ]
  },
  {
   "cell_type": "code",
   "execution_count": 7,
   "id": "c72db5a4-a425-40c6-af75-2626a4234c3b",
   "metadata": {},
   "outputs": [],
   "source": [
    "add_new_users(2381)"
   ]
  },
  {
   "cell_type": "code",
   "execution_count": 8,
   "id": "803193e2-9eef-46c7-a8a7-909ac79a1b3b",
   "metadata": {
    "tags": []
   },
   "outputs": [],
   "source": [
    "add_new_domains(619)"
   ]
  },
  {
   "cell_type": "code",
   "execution_count": null,
   "id": "e92d5cae-7187-4206-9f60-49920399d323",
   "metadata": {},
   "outputs": [],
   "source": []
  }
 ],
 "metadata": {
  "kernelspec": {
   "display_name": "Python 3 (ipykernel)",
   "language": "python",
   "name": "python3"
  },
  "language_info": {
   "codemirror_mode": {
    "name": "ipython",
    "version": 3
   },
   "file_extension": ".py",
   "mimetype": "text/x-python",
   "name": "python",
   "nbconvert_exporter": "python",
   "pygments_lexer": "ipython3",
   "version": "3.10.6"
  }
 },
 "nbformat": 4,
 "nbformat_minor": 5
}
