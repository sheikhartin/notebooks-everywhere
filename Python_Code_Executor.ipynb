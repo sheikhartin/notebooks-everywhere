{
 "cells": [
  {
   "cell_type": "markdown",
   "metadata": {},
   "source": [
    "## Python Code Executor\n",
    "\n",
    "In this challenge, we have to read the code line by line and then execute them by passing some obstacles."
   ]
  },
  {
   "cell_type": "code",
   "execution_count": 1,
   "metadata": {},
   "outputs": [],
   "source": [
    "import re\n",
    "import io\n",
    "from typing import Union, TextIO"
   ]
  },
  {
   "cell_type": "code",
   "execution_count": 2,
   "metadata": {},
   "outputs": [],
   "source": [
    "def _to_pure_code(line: str) -> list[str]:\n",
    "    \"\"\"Removes comments and then strips from the right side.\"\"\"\n",
    "    return list(filter(lambda x: x, re.split(r'[\\s\\t]*#.*', line)))"
   ]
  },
  {
   "cell_type": "code",
   "execution_count": 7,
   "metadata": {},
   "outputs": [],
   "source": [
    "def executor(code: Union[str, TextIO]) -> list[str]:\n",
    "    \"\"\"It distinguishes between single-line and multi-line commands.\"\"\"\n",
    "    if isinstance(code, io.TextIOBase):\n",
    "        code = code.read()\n",
    "    code = re.split(r'\\n+', code)\n",
    "\n",
    "    # If we run a code block line by line, we will encounter an error;\n",
    "    # so we have to run them after closing.\n",
    "    codeblock = []\n",
    "    reports = []\n",
    "\n",
    "    for idx, line in enumerate(code):\n",
    "        line = _to_pure_code(line)\n",
    "        if not line:\n",
    "            reports.append(f'L#{idx+1:0>2}: Nothing found here')\n",
    "            continue\n",
    "\n",
    "        expression = re.match(r'[^\\s\\t].+[^:]$', line[0])\n",
    "        if expression is not None:\n",
    "            if not codeblock:\n",
    "                reports.append(f'L#{idx+1:0>2}: Just a expression')\n",
    "                exec(expression.group())\n",
    "            else:\n",
    "                reports.append(f'L#{idx+1:0>2}: The code block will be executed first')\n",
    "                exec('\\n'.join(codeblock))\n",
    "                exec(expression.group())\n",
    "                codeblock.clear()\n",
    "            continue\n",
    "\n",
    "        statement = re.match(r'.+:$', line[0])\n",
    "        if statement is not None:\n",
    "            reports.append(f'L#{idx+1:0>2}: A statement found')\n",
    "            codeblock.append(statement.group())\n",
    "            continue\n",
    "\n",
    "        substatement = re.match(r'[\\s\\t]+.+', line[0])\n",
    "        if substatement is not None:\n",
    "            reports.append(f'L#{idx+1:0>2}: This is a sub statement')\n",
    "            codeblock.append(substatement.group())\n",
    "            continue\n",
    "\n",
    "    return reports"
   ]
  },
  {
   "cell_type": "code",
   "execution_count": 8,
   "metadata": {},
   "outputs": [
    {
     "data": {
      "text/plain": [
       "\"\\nprint('Hello, world!')\\n\\nn = 143  # This is an unnecessary comment\\nprint(f'Ready for {n} repetitions...')\\nfor _ in range(n//25):\\n    print('I ♥ u!')\\nprint(f'Oops! ...The loop is finished!')\\n\\nprint('Goodbye!')\\n\""
      ]
     },
     "execution_count": 8,
     "metadata": {},
     "output_type": "execute_result"
    }
   ],
   "source": [
    "code = \"\"\"\n",
    "print('Hello, world!')\n",
    "\n",
    "n = 143  # This is an unnecessary comment\n",
    "print(f'Ready for {n} repetitions...')\n",
    "for _ in range(n//25):\n",
    "    print('I \\U00002665 u!')\n",
    "print(f'Oops! ...The loop is finished!')\n",
    "\n",
    "print('Goodbye!')\n",
    "\"\"\"\n",
    "code"
   ]
  },
  {
   "cell_type": "code",
   "execution_count": 9,
   "metadata": {},
   "outputs": [
    {
     "name": "stdout",
     "output_type": "stream",
     "text": [
      "Hello, world!\n",
      "Ready for 143 repetitions...\n",
      "I ♥ u!\n",
      "I ♥ u!\n",
      "I ♥ u!\n",
      "I ♥ u!\n",
      "I ♥ u!\n",
      "Oops! ...The loop is finished!\n",
      "Goodbye!\n"
     ]
    }
   ],
   "source": [
    "reports = executor(code)"
   ]
  },
  {
   "cell_type": "code",
   "execution_count": 10,
   "metadata": {},
   "outputs": [
    {
     "name": "stdout",
     "output_type": "stream",
     "text": [
      "L#01: Nothing found here\n",
      "L#02: Just a expression\n",
      "L#03: Just a expression\n",
      "L#04: Just a expression\n",
      "L#05: A statement found\n",
      "L#06: This is a sub statement\n",
      "L#07: The code block will be executed first\n",
      "L#08: Just a expression\n",
      "L#09: Nothing found here\n"
     ]
    }
   ],
   "source": [
    "for report in reports:\n",
    "    print(report)"
   ]
  },
  {
   "cell_type": "markdown",
   "metadata": {},
   "source": [
    "The worst problem of this implementation is that you can't use `#` and `\\n` in a string..."
   ]
  },
  {
   "cell_type": "code",
   "execution_count": null,
   "metadata": {},
   "outputs": [],
   "source": []
  }
 ],
 "metadata": {
  "kernelspec": {
   "display_name": "Python 3.9.2 64-bit",
   "language": "python",
   "name": "python3"
  },
  "language_info": {
   "codemirror_mode": {
    "name": "ipython",
    "version": 3
   },
   "file_extension": ".py",
   "mimetype": "text/x-python",
   "name": "python",
   "nbconvert_exporter": "python",
   "pygments_lexer": "ipython3",
   "version": "3.9.2"
  },
  "orig_nbformat": 4,
  "vscode": {
   "interpreter": {
    "hash": "916dbcbb3f70747c44a77c7bcd40155683ae19c65e1c03b4aa3499c5328201f1"
   }
  }
 },
 "nbformat": 4,
 "nbformat_minor": 2
}
