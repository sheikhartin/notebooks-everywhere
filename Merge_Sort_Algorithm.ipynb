{
 "cells": [
  {
   "cell_type": "markdown",
   "metadata": {},
   "source": [
    "## Merge Sort Algorithm\n",
    "\n",
    "Merge sort is similar to the quick sort algorithm as it uses the divide and conquer approach to sort the elements."
   ]
  },
  {
   "cell_type": "code",
   "execution_count": 1,
   "metadata": {},
   "outputs": [],
   "source": [
    "import random\n",
    "from typing import List, TypeVar"
   ]
  },
  {
   "cell_type": "code",
   "execution_count": 2,
   "metadata": {},
   "outputs": [
    {
     "data": {
      "text/plain": [
       "~Number"
      ]
     },
     "execution_count": 2,
     "metadata": {},
     "output_type": "execute_result"
    }
   ],
   "source": [
    "Number = TypeVar('Number', int, float)\n",
    "Number"
   ]
  },
  {
   "cell_type": "code",
   "execution_count": 8,
   "metadata": {},
   "outputs": [],
   "source": [
    "def merge(left_part: List[Number], right_part: List[Number]) -> List[Number]:\n",
    "    \"\"\"Sorts the pieces and puts them in a single list.\"\"\"\n",
    "    result = []\n",
    "    i = 0  # Left partition pointer\n",
    "    j = 0  # For the right side\n",
    "\n",
    "    while i < len(left_part) and j < len(right_part):\n",
    "        if left_part[i] <= right_part[j]:\n",
    "            result.append(left_part[i])\n",
    "            i += 1  # Shift the pointer to the right\n",
    "        else:\n",
    "            result.append(right_part[j])\n",
    "            j += 1\n",
    "\n",
    "    # Add the rest to the end of the result list\n",
    "    result.extend(left_part[i:])\n",
    "    result.extend(right_part[j:])\n",
    "    return result"
   ]
  },
  {
   "cell_type": "code",
   "execution_count": 9,
   "metadata": {},
   "outputs": [],
   "source": [
    "def merge_sort(arr: List[Number]) -> List[Number]:\n",
    "    \"\"\"The main function that we call and only separates.\"\"\"\n",
    "    arr_length = len(arr)\n",
    "    if arr_length == 1:  # It cannot be halved anymore\n",
    "        return arr\n",
    "\n",
    "    # Halve the list as much as possible before sorting\n",
    "    mid_index = arr_length // 2\n",
    "    left_part = merge_sort(arr[:mid_index])\n",
    "    right_part = merge_sort(arr[mid_index:])\n",
    "\n",
    "    return merge(left_part, right_part)"
   ]
  },
  {
   "cell_type": "markdown",
   "metadata": {},
   "source": [
    "Testing our algorithm with random numbers:"
   ]
  },
  {
   "cell_type": "code",
   "execution_count": 13,
   "metadata": {},
   "outputs": [
    {
     "name": "stdout",
     "output_type": "stream",
     "text": [
      "Unsorted list: [16, 43, -26, 58, 0, -22, -24, 26, 10, -26, 20, 40, 80]\n",
      "  Sorted list: [-26, -26, -24, -22, 0, 10, 16, 20, 26, 40, 43, 58, 80]\n",
      "All done! 🥳\n"
     ]
    }
   ],
   "source": [
    "unsorted_list = [random.randint(-27, 84) for _ in range(13)]\n",
    "sorted_list = merge_sort(unsorted_list)\n",
    "\n",
    "print(f'Unsorted list: {unsorted_list}')\n",
    "print(f'  Sorted list: {sorted_list}')\n",
    "print('All done! \\U0001f973')"
   ]
  },
  {
   "cell_type": "code",
   "execution_count": null,
   "metadata": {},
   "outputs": [],
   "source": []
  }
 ],
 "metadata": {
  "kernelspec": {
   "display_name": "Python 3.9.2 64-bit",
   "language": "python",
   "name": "python3"
  },
  "language_info": {
   "codemirror_mode": {
    "name": "ipython",
    "version": 3
   },
   "file_extension": ".py",
   "mimetype": "text/x-python",
   "name": "python",
   "nbconvert_exporter": "python",
   "pygments_lexer": "ipython3",
   "version": "3.9.2"
  },
  "orig_nbformat": 4,
  "vscode": {
   "interpreter": {
    "hash": "916dbcbb3f70747c44a77c7bcd40155683ae19c65e1c03b4aa3499c5328201f1"
   }
  }
 },
 "nbformat": 4,
 "nbformat_minor": 2
}
