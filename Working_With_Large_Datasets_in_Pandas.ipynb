{
 "cells": [
  {
   "cell_type": "markdown",
   "metadata": {},
   "source": [
    "## Working With Large Datasets in Pandas\n",
    "\n",
    "Is it possible to work with big data in Python without PySpark and the like?! Yes, it can be done with Pandas too... But there are techniques to avoid disaster!"
   ]
  },
  {
   "cell_type": "code",
   "execution_count": 1,
   "metadata": {},
   "outputs": [],
   "source": [
    "import pandas as pd"
   ]
  },
  {
   "cell_type": "markdown",
   "metadata": {},
   "source": [
    "Understanding the sizes:"
   ]
  },
  {
   "cell_type": "code",
   "execution_count": 2,
   "metadata": {
    "vscode": {
     "languageId": "shellscript"
    }
   },
   "outputs": [
    {
     "name": "stdout",
     "output_type": "stream",
     "text": [
      "Filepath: ./datasets/car_evaluation.csv\n",
      "Lines: 1728\tSize in MB: 0.05\n",
      "Filepath: ./datasets/titanic.csv\n",
      "Lines: 892\tSize in MB: 0.06\n",
      "Filepath: ./datasets/used_car_prices.csv\n",
      "Lines: 4501\tSize in MB: 0.28\n",
      "Filepath: ./datasets/youtube_trends_us.csv\n",
      "Lines: 40950\tSize in MB: 59.85\n"
     ]
    }
   ],
   "source": [
    "!wc ./datasets/* \\\n",
    "| tr -s ' ' \\\n",
    "| head -n -1 \\\n",
    "| awk '{ printf \"Filepath: %s\\nLines: %i\\tSize in MB: %.2f\\n\", $4, $1, $3/1024^2 }'"
   ]
  },
  {
   "cell_type": "markdown",
   "metadata": {},
   "source": [
    "### Technique No. 1: Only load the required columns"
   ]
  },
  {
   "cell_type": "markdown",
   "metadata": {},
   "source": [
    "When you want to do sentiment analysis on video titles, it is not necessary to read the video id, and even its description..."
   ]
  },
  {
   "cell_type": "code",
   "execution_count": 3,
   "metadata": {},
   "outputs": [
    {
     "data": {
      "text/html": [
       "<div>\n",
       "<style scoped>\n",
       "    .dataframe tbody tr th:only-of-type {\n",
       "        vertical-align: middle;\n",
       "    }\n",
       "\n",
       "    .dataframe tbody tr th {\n",
       "        vertical-align: top;\n",
       "    }\n",
       "\n",
       "    .dataframe thead th {\n",
       "        text-align: right;\n",
       "    }\n",
       "</style>\n",
       "<table border=\"1\" class=\"dataframe\">\n",
       "  <thead>\n",
       "    <tr style=\"text-align: right;\">\n",
       "      <th></th>\n",
       "      <th>title</th>\n",
       "      <th>tags</th>\n",
       "      <th>views</th>\n",
       "      <th>likes</th>\n",
       "    </tr>\n",
       "  </thead>\n",
       "  <tbody>\n",
       "    <tr>\n",
       "      <th>0</th>\n",
       "      <td>WE WANT TO TALK ABOUT OUR MARRIAGE</td>\n",
       "      <td>SHANtell martin</td>\n",
       "      <td>748374</td>\n",
       "      <td>57527</td>\n",
       "    </tr>\n",
       "    <tr>\n",
       "      <th>1</th>\n",
       "      <td>The Trump Presidency: Last Week Tonight with J...</td>\n",
       "      <td>last week tonight trump presidency|\"last week ...</td>\n",
       "      <td>2418783</td>\n",
       "      <td>97185</td>\n",
       "    </tr>\n",
       "    <tr>\n",
       "      <th>2</th>\n",
       "      <td>Racist Superman | Rudy Mancuso, King Bach &amp; Le...</td>\n",
       "      <td>racist superman|\"rudy\"|\"mancuso\"|\"king\"|\"bach\"...</td>\n",
       "      <td>3191434</td>\n",
       "      <td>146033</td>\n",
       "    </tr>\n",
       "    <tr>\n",
       "      <th>3</th>\n",
       "      <td>Nickelback Lyrics: Real or Fake?</td>\n",
       "      <td>rhett and link|\"gmm\"|\"good mythical morning\"|\"...</td>\n",
       "      <td>343168</td>\n",
       "      <td>10172</td>\n",
       "    </tr>\n",
       "    <tr>\n",
       "      <th>4</th>\n",
       "      <td>I Dare You: GOING BALD!?</td>\n",
       "      <td>ryan|\"higa\"|\"higatv\"|\"nigahiga\"|\"i dare you\"|\"...</td>\n",
       "      <td>2095731</td>\n",
       "      <td>132235</td>\n",
       "    </tr>\n",
       "  </tbody>\n",
       "</table>\n",
       "</div>"
      ],
      "text/plain": [
       "                                               title  \\\n",
       "0                 WE WANT TO TALK ABOUT OUR MARRIAGE   \n",
       "1  The Trump Presidency: Last Week Tonight with J...   \n",
       "2  Racist Superman | Rudy Mancuso, King Bach & Le...   \n",
       "3                   Nickelback Lyrics: Real or Fake?   \n",
       "4                           I Dare You: GOING BALD!?   \n",
       "\n",
       "                                                tags    views   likes  \n",
       "0                                    SHANtell martin   748374   57527  \n",
       "1  last week tonight trump presidency|\"last week ...  2418783   97185  \n",
       "2  racist superman|\"rudy\"|\"mancuso\"|\"king\"|\"bach\"...  3191434  146033  \n",
       "3  rhett and link|\"gmm\"|\"good mythical morning\"|\"...   343168   10172  \n",
       "4  ryan|\"higa\"|\"higatv\"|\"nigahiga\"|\"i dare you\"|\"...  2095731  132235  "
      ]
     },
     "execution_count": 3,
     "metadata": {},
     "output_type": "execute_result"
    }
   ],
   "source": [
    "df = pd.read_csv('./datasets/youtube_trends_us.csv', usecols=['title', 'tags', 'views', 'likes'])\n",
    "df.head()"
   ]
  },
  {
   "cell_type": "code",
   "execution_count": 4,
   "metadata": {},
   "outputs": [
    {
     "name": "stdout",
     "output_type": "stream",
     "text": [
      "<class 'pandas.core.frame.DataFrame'>\n",
      "RangeIndex: 40949 entries, 0 to 40948\n",
      "Data columns (total 4 columns):\n",
      " #   Column  Non-Null Count  Dtype \n",
      "---  ------  --------------  ----- \n",
      " 0   title   40949 non-null  object\n",
      " 1   tags    40949 non-null  object\n",
      " 2   views   40949 non-null  int64 \n",
      " 3   likes   40949 non-null  int64 \n",
      "dtypes: int64(2), object(2)\n",
      "memory usage: 18.8 MB\n"
     ]
    }
   ],
   "source": [
    "df.info(memory_usage='deep')"
   ]
  },
  {
   "cell_type": "markdown",
   "metadata": {},
   "source": [
    "More details of the size of each column (in bytes):"
   ]
  },
  {
   "cell_type": "code",
   "execution_count": 5,
   "metadata": {},
   "outputs": [
    {
     "data": {
      "text/plain": [
       "Index         128\n",
       "title     4628488\n",
       "tags     14452593\n",
       "views      327592\n",
       "likes      327592\n",
       "dtype: int64"
      ]
     },
     "execution_count": 5,
     "metadata": {},
     "output_type": "execute_result"
    }
   ],
   "source": [
    "df.memory_usage(deep=True)"
   ]
  },
  {
   "cell_type": "markdown",
   "metadata": {},
   "source": [
    "### Technique No. 2: Chunking"
   ]
  },
  {
   "cell_type": "code",
   "execution_count": 8,
   "metadata": {},
   "outputs": [
    {
     "data": {
      "text/plain": [
       "pandas.io.parsers.readers.TextFileReader"
      ]
     },
     "execution_count": 8,
     "metadata": {},
     "output_type": "execute_result"
    }
   ],
   "source": [
    "chunks = pd.read_csv('./datasets/youtube_trends_us.csv', chunksize=5000)\n",
    "type(chunks)"
   ]
  },
  {
   "cell_type": "code",
   "execution_count": 7,
   "metadata": {},
   "outputs": [
    {
     "data": {
      "text/plain": [
       "0                      We Want To Talk About Our Marriage\n",
       "1       The Trump Presidency: Last Week Tonight With J...\n",
       "2       Racist Superman | Rudy Mancuso, King Bach & Le...\n",
       "3                        Nickelback Lyrics: Real Or Fake?\n",
       "4                                I Dare You: Going Bald!?\n",
       "                              ...                        \n",
       "4995    Youtubers React To Their Old Youtube Channel P...\n",
       "4996              Chris Stapleton - A Simple Song (Audio)\n",
       "4997    Marvel Studios' Avengers: Infinity War Officia...\n",
       "4998    Prince Harry And Meghan Markle Get The Alison ...\n",
       "4999    Rolled Ice Cream Diy How To Make Rolled Ice Cr...\n",
       "Name: title, Length: 5000, dtype: object"
      ]
     },
     "metadata": {},
     "output_type": "display_data"
    },
    {
     "data": {
      "text/plain": [
       "5000             Migos, Nicki Minaj, Cardi B - Motorsport\n",
       "5001    Jurassic World: Fallen Kingdom - Official Trai...\n",
       "5002                     Dude Vs. Wild - Nevada Mountains\n",
       "5003    Alita: Battle Angel | Official Trailer [Hd] | ...\n",
       "5004    The Game Awards - Full Show With Death Strandi...\n",
       "                              ...                        \n",
       "9995                                         2016 Vs 2017\n",
       "9996            Dude Perfect Face Off | What'S In The Box\n",
       "9997                                Mst3K (2017) Yule Log\n",
       "9998    Titanic Transformation! The Rose Look Feat. Gu...\n",
       "9999      Making New Sounds Using Artificial Intelligence\n",
       "Name: title, Length: 5000, dtype: object"
      ]
     },
     "metadata": {},
     "output_type": "display_data"
    },
    {
     "data": {
      "text/plain": [
       "10000                                            So Sorry.\n",
       "10001     Justin Timberlake - Introducing Man Of The Woods\n",
       "10002        Developer Update | Happy New Year | Overwatch\n",
       "10003    Fifty Shades Freed - Mrs. Grey Will See You No...\n",
       "10004    Børns, Lana Del Rey - God Save Our Young Blood...\n",
       "                               ...                        \n",
       "14995         What If You Never Ate Fruits And Vegetables?\n",
       "14996               Entire Breaking Bad Series In 1 Minute\n",
       "14997                          High Fidelity Mixtape Rules\n",
       "14998      We Share Our Home With 14 Bears | Beast Buddies\n",
       "14999    Bruno Mars And Cardi B - Finesse (Live From Th...\n",
       "Name: title, Length: 5000, dtype: object"
      ]
     },
     "metadata": {},
     "output_type": "display_data"
    },
    {
     "data": {
      "text/plain": [
       "15000    Dj Khaled, Rihanna - Wild Thoughts (2018 Live ...\n",
       "15001    Hillary Clinton, Cardi B & More Audition For F...\n",
       "15002      Childish Gambino Grammy Awards Performance 2018\n",
       "15003     Unsane | Official Trailer | In Theaters March 23\n",
       "15004    Bruno Mars Wins Record Of The Year | Acceptanc...\n",
       "                               ...                        \n",
       "19995    Double Rainbow Unicorn Apple Pie | How To Cook...\n",
       "19996                               The First Time We Met!\n",
       "19997                   Bishop Briggs - White Flag (Audio)\n",
       "19998        Troye Sivan & Ariana Grande Working Together!\n",
       "19999    Jimmy Fallon Does Special Five-Minute Homemade...\n",
       "Name: title, Length: 5000, dtype: object"
      ]
     },
     "metadata": {},
     "output_type": "display_data"
    },
    {
     "data": {
      "text/plain": [
       "20000    Stephen A. Shares Theory On Why Spurs' Kawhi L...\n",
       "20001                 Imagine Dragons - Next To Me (Audio)\n",
       "20002                                                 Jack\n",
       "20003      Nashville On Cmt | Final Episodes Coming June 7\n",
       "20004    Snoop Dogg - One More Day (Audio) Ft. Charlie ...\n",
       "                               ...                        \n",
       "24995                                             Spinners\n",
       "24996              What Spring Looks Like Around The World\n",
       "24997                              Sing Anything Challenge\n",
       "24998                                        Top Breeder 🐕\n",
       "24999            Charades With Aaron Paul And Karlie Kloss\n",
       "Name: title, Length: 5000, dtype: object"
      ]
     },
     "metadata": {},
     "output_type": "display_data"
    },
    {
     "data": {
      "text/plain": [
       "25000                     10$ Drum - Faded ( Alan Walker )\n",
       "25001    Crushing And Slicing Red Hot Steel With Hydrau...\n",
       "25002    The Infinity War Trailer But I Just Name Chara...\n",
       "25003                       Keyboard Cat, Bento, A Tribute\n",
       "25004    Adam Scott Hijacks A Stranger'S Tinder | Vanit...\n",
       "                               ...                        \n",
       "29995    Teens React To Mirror-Polished Japanese Foil B...\n",
       "29996                   Festival Rainbow Makeup & Lookbook\n",
       "29997    24 Hours With Camila Cabello: Inside Her First...\n",
       "29998                        Honest Trailers - Baby Driver\n",
       "29999                                       James Bay - Us\n",
       "Name: title, Length: 5000, dtype: object"
      ]
     },
     "metadata": {},
     "output_type": "display_data"
    },
    {
     "data": {
      "text/plain": [
       "30000                                        Insta-Justice\n",
       "30001      Bodyarmor Sports Drink | James Harden Thanks...\n",
       "30002    Marvel Studios' Avengers: Infinity War | 10-Ye...\n",
       "30003                         How The Squid Lost Its Shell\n",
       "30004                     Huge Problem At The New House...\n",
       "                               ...                        \n",
       "34995       We Tried To Re-Create This Giant Cinnamon Roll\n",
       "34996                      Bangabandhu Satellite-1 Mission\n",
       "34997    Kylie Cosmetics X Kris Jenner Collection | Swa...\n",
       "34998              Wearing Fashion Nova Outfits For A Week\n",
       "34999    Rita Ora - Girls Ft. Cardi B, Bebe Rexha & Cha...\n",
       "Name: title, Length: 5000, dtype: object"
      ]
     },
     "metadata": {},
     "output_type": "display_data"
    },
    {
     "data": {
      "text/plain": [
       "35000         Donald Glover On This Is America Music Video\n",
       "35001          I Got My Apartment Professionally Organized\n",
       "35002                             Getting Some Air, Atlas?\n",
       "35003                  Charlie Puth - Boy [Official Audio]\n",
       "35004                   Christina Aguilera - Twice (Audio)\n",
       "                               ...                        \n",
       "39995    Bumblebee (2018) - Official Teaser Trailer - P...\n",
       "39996    Ralph Breaks The Internet: Wreck-It Ralph 2 Of...\n",
       "39997                Old School Trick Shots | Dude Perfect\n",
       "39998     Ethan Hawke Knows To Seek Knowledge From Masters\n",
       "39999    Sabrina Carpenter - Almost Love (Official Lyri...\n",
       "Name: title, Length: 5000, dtype: object"
      ]
     },
     "metadata": {},
     "output_type": "display_data"
    },
    {
     "data": {
      "text/plain": [
       "40000         Live Pd: Can I Text My Mom? (Season 2) | A&E\n",
       "40001                           Blind Ice Cream Taste Test\n",
       "40002              Iphone X — Animoji: Taxi Driver — Apple\n",
       "40003           Suspiria - Teaser Trailer | Amazon Studios\n",
       "40004    Game Theory: Fnaf Stumped Me! (Fnaf 6 Ultimate...\n",
       "                               ...                        \n",
       "40944                         The Cat Who Caught The Laser\n",
       "40945                           True Facts : Ant Mutualism\n",
       "40946    I Gave Safiya Nygaard A Perfect Hair Makeover ...\n",
       "40947                  How Black Panther Should Have Ended\n",
       "40948    Official Call Of Duty®: Black Ops 4 — Multipla...\n",
       "Name: title, Length: 949, dtype: object"
      ]
     },
     "metadata": {},
     "output_type": "display_data"
    }
   ],
   "source": [
    "for chunk in chunks:\n",
    "    display(chunk['title'].str.title())"
   ]
  },
  {
   "cell_type": "code",
   "execution_count": 9,
   "metadata": {},
   "outputs": [
    {
     "data": {
      "text/plain": [
       "[0                      We Want To Talk About Our Marriage\n",
       " 1       The Trump Presidency: Last Week Tonight With J...\n",
       " 2       Racist Superman | Rudy Mancuso, King Bach & Le...\n",
       " 3                        Nickelback Lyrics: Real Or Fake?\n",
       " 4                                I Dare You: Going Bald!?\n",
       "                               ...                        \n",
       " 4995    Youtubers React To Their Old Youtube Channel P...\n",
       " 4996              Chris Stapleton - A Simple Song (Audio)\n",
       " 4997    Marvel Studios' Avengers: Infinity War Officia...\n",
       " 4998    Prince Harry And Meghan Markle Get The Alison ...\n",
       " 4999    Rolled Ice Cream Diy How To Make Rolled Ice Cr...\n",
       " Name: title, Length: 5000, dtype: object,\n",
       " 5000             Migos, Nicki Minaj, Cardi B - Motorsport\n",
       " 5001    Jurassic World: Fallen Kingdom - Official Trai...\n",
       " 5002                     Dude Vs. Wild - Nevada Mountains\n",
       " 5003    Alita: Battle Angel | Official Trailer [Hd] | ...\n",
       " 5004    The Game Awards - Full Show With Death Strandi...\n",
       "                               ...                        \n",
       " 9995                                         2016 Vs 2017\n",
       " 9996            Dude Perfect Face Off | What'S In The Box\n",
       " 9997                                Mst3K (2017) Yule Log\n",
       " 9998    Titanic Transformation! The Rose Look Feat. Gu...\n",
       " 9999      Making New Sounds Using Artificial Intelligence\n",
       " Name: title, Length: 5000, dtype: object,\n",
       " 10000                                            So Sorry.\n",
       " 10001     Justin Timberlake - Introducing Man Of The Woods\n",
       " 10002        Developer Update | Happy New Year | Overwatch\n",
       " 10003    Fifty Shades Freed - Mrs. Grey Will See You No...\n",
       " 10004    Børns, Lana Del Rey - God Save Our Young Blood...\n",
       "                                ...                        \n",
       " 14995         What If You Never Ate Fruits And Vegetables?\n",
       " 14996               Entire Breaking Bad Series In 1 Minute\n",
       " 14997                          High Fidelity Mixtape Rules\n",
       " 14998      We Share Our Home With 14 Bears | Beast Buddies\n",
       " 14999    Bruno Mars And Cardi B - Finesse (Live From Th...\n",
       " Name: title, Length: 5000, dtype: object,\n",
       " 15000    Dj Khaled, Rihanna - Wild Thoughts (2018 Live ...\n",
       " 15001    Hillary Clinton, Cardi B & More Audition For F...\n",
       " 15002      Childish Gambino Grammy Awards Performance 2018\n",
       " 15003     Unsane | Official Trailer | In Theaters March 23\n",
       " 15004    Bruno Mars Wins Record Of The Year | Acceptanc...\n",
       "                                ...                        \n",
       " 19995    Double Rainbow Unicorn Apple Pie | How To Cook...\n",
       " 19996                               The First Time We Met!\n",
       " 19997                   Bishop Briggs - White Flag (Audio)\n",
       " 19998        Troye Sivan & Ariana Grande Working Together!\n",
       " 19999    Jimmy Fallon Does Special Five-Minute Homemade...\n",
       " Name: title, Length: 5000, dtype: object,\n",
       " 20000    Stephen A. Shares Theory On Why Spurs' Kawhi L...\n",
       " 20001                 Imagine Dragons - Next To Me (Audio)\n",
       " 20002                                                 Jack\n",
       " 20003      Nashville On Cmt | Final Episodes Coming June 7\n",
       " 20004    Snoop Dogg - One More Day (Audio) Ft. Charlie ...\n",
       "                                ...                        \n",
       " 24995                                             Spinners\n",
       " 24996              What Spring Looks Like Around The World\n",
       " 24997                              Sing Anything Challenge\n",
       " 24998                                        Top Breeder 🐕\n",
       " 24999            Charades With Aaron Paul And Karlie Kloss\n",
       " Name: title, Length: 5000, dtype: object,\n",
       " 25000                     10$ Drum - Faded ( Alan Walker )\n",
       " 25001    Crushing And Slicing Red Hot Steel With Hydrau...\n",
       " 25002    The Infinity War Trailer But I Just Name Chara...\n",
       " 25003                       Keyboard Cat, Bento, A Tribute\n",
       " 25004    Adam Scott Hijacks A Stranger'S Tinder | Vanit...\n",
       "                                ...                        \n",
       " 29995    Teens React To Mirror-Polished Japanese Foil B...\n",
       " 29996                   Festival Rainbow Makeup & Lookbook\n",
       " 29997    24 Hours With Camila Cabello: Inside Her First...\n",
       " 29998                        Honest Trailers - Baby Driver\n",
       " 29999                                       James Bay - Us\n",
       " Name: title, Length: 5000, dtype: object,\n",
       " 30000                                        Insta-Justice\n",
       " 30001      Bodyarmor Sports Drink | James Harden Thanks...\n",
       " 30002    Marvel Studios' Avengers: Infinity War | 10-Ye...\n",
       " 30003                         How The Squid Lost Its Shell\n",
       " 30004                     Huge Problem At The New House...\n",
       "                                ...                        \n",
       " 34995       We Tried To Re-Create This Giant Cinnamon Roll\n",
       " 34996                      Bangabandhu Satellite-1 Mission\n",
       " 34997    Kylie Cosmetics X Kris Jenner Collection | Swa...\n",
       " 34998              Wearing Fashion Nova Outfits For A Week\n",
       " 34999    Rita Ora - Girls Ft. Cardi B, Bebe Rexha & Cha...\n",
       " Name: title, Length: 5000, dtype: object,\n",
       " 35000         Donald Glover On This Is America Music Video\n",
       " 35001          I Got My Apartment Professionally Organized\n",
       " 35002                             Getting Some Air, Atlas?\n",
       " 35003                  Charlie Puth - Boy [Official Audio]\n",
       " 35004                   Christina Aguilera - Twice (Audio)\n",
       "                                ...                        \n",
       " 39995    Bumblebee (2018) - Official Teaser Trailer - P...\n",
       " 39996    Ralph Breaks The Internet: Wreck-It Ralph 2 Of...\n",
       " 39997                Old School Trick Shots | Dude Perfect\n",
       " 39998     Ethan Hawke Knows To Seek Knowledge From Masters\n",
       " 39999    Sabrina Carpenter - Almost Love (Official Lyri...\n",
       " Name: title, Length: 5000, dtype: object,\n",
       " 40000         Live Pd: Can I Text My Mom? (Season 2) | A&E\n",
       " 40001                           Blind Ice Cream Taste Test\n",
       " 40002              Iphone X — Animoji: Taxi Driver — Apple\n",
       " 40003           Suspiria - Teaser Trailer | Amazon Studios\n",
       " 40004    Game Theory: Fnaf Stumped Me! (Fnaf 6 Ultimate...\n",
       "                                ...                        \n",
       " 40944                         The Cat Who Caught The Laser\n",
       " 40945                           True Facts : Ant Mutualism\n",
       " 40946    I Gave Safiya Nygaard A Perfect Hair Makeover ...\n",
       " 40947                  How Black Panther Should Have Ended\n",
       " 40948    Official Call Of Duty®: Black Ops 4 — Multipla...\n",
       " Name: title, Length: 949, dtype: object]"
      ]
     },
     "execution_count": 9,
     "metadata": {},
     "output_type": "execute_result"
    }
   ],
   "source": [
    "results = map(lambda x: x['title'].str.title(), chunks)\n",
    "list(results)"
   ]
  },
  {
   "cell_type": "markdown",
   "metadata": {},
   "source": [
    "### Technique No. 3: Make numeric types as small as possible\n",
    "\n",
    "**NOTE**: It is better to use this technique along with the above methods..."
   ]
  },
  {
   "cell_type": "code",
   "execution_count": 10,
   "metadata": {},
   "outputs": [
    {
     "name": "stdout",
     "output_type": "stream",
     "text": [
      "<class 'pandas.core.frame.DataFrame'>\n",
      "RangeIndex: 40949 entries, 0 to 40948\n",
      "Data columns (total 16 columns):\n",
      " #   Column                  Non-Null Count  Dtype \n",
      "---  ------                  --------------  ----- \n",
      " 0   video_id                40949 non-null  object\n",
      " 1   trending_date           40949 non-null  object\n",
      " 2   title                   40949 non-null  object\n",
      " 3   channel_title           40949 non-null  object\n",
      " 4   category_id             40949 non-null  int64 \n",
      " 5   publish_time            40949 non-null  object\n",
      " 6   tags                    40949 non-null  object\n",
      " 7   views                   40949 non-null  int64 \n",
      " 8   likes                   40949 non-null  int64 \n",
      " 9   dislikes                40949 non-null  int64 \n",
      " 10  comment_count           40949 non-null  int64 \n",
      " 11  thumbnail_link          40949 non-null  object\n",
      " 12  comments_disabled       40949 non-null  bool  \n",
      " 13  ratings_disabled        40949 non-null  bool  \n",
      " 14  video_error_or_removed  40949 non-null  bool  \n",
      " 15  description             40379 non-null  object\n",
      "dtypes: bool(3), int64(5), object(8)\n",
      "memory usage: 4.2+ MB\n"
     ]
    }
   ],
   "source": [
    "df = pd.read_csv('./datasets/youtube_trends_us.csv')\n",
    "df.info()"
   ]
  },
  {
   "cell_type": "code",
   "execution_count": 11,
   "metadata": {},
   "outputs": [
    {
     "data": {
      "text/html": [
       "<div>\n",
       "<style scoped>\n",
       "    .dataframe tbody tr th:only-of-type {\n",
       "        vertical-align: middle;\n",
       "    }\n",
       "\n",
       "    .dataframe tbody tr th {\n",
       "        vertical-align: top;\n",
       "    }\n",
       "\n",
       "    .dataframe thead th {\n",
       "        text-align: right;\n",
       "    }\n",
       "</style>\n",
       "<table border=\"1\" class=\"dataframe\">\n",
       "  <thead>\n",
       "    <tr style=\"text-align: right;\">\n",
       "      <th></th>\n",
       "      <th>category_id</th>\n",
       "      <th>views</th>\n",
       "      <th>likes</th>\n",
       "      <th>dislikes</th>\n",
       "      <th>comment_count</th>\n",
       "    </tr>\n",
       "  </thead>\n",
       "  <tbody>\n",
       "    <tr>\n",
       "      <th>min</th>\n",
       "      <td>1</td>\n",
       "      <td>549</td>\n",
       "      <td>0</td>\n",
       "      <td>0</td>\n",
       "      <td>0</td>\n",
       "    </tr>\n",
       "    <tr>\n",
       "      <th>max</th>\n",
       "      <td>43</td>\n",
       "      <td>225211923</td>\n",
       "      <td>5613827</td>\n",
       "      <td>1674420</td>\n",
       "      <td>1361580</td>\n",
       "    </tr>\n",
       "  </tbody>\n",
       "</table>\n",
       "</div>"
      ],
      "text/plain": [
       "     category_id      views    likes  dislikes  comment_count\n",
       "min            1        549        0         0              0\n",
       "max           43  225211923  5613827   1674420        1361580"
      ]
     },
     "execution_count": 11,
     "metadata": {},
     "output_type": "execute_result"
    }
   ],
   "source": [
    "df.select_dtypes(include=['number']).agg(['min', 'max'])"
   ]
  },
  {
   "cell_type": "code",
   "execution_count": 12,
   "metadata": {},
   "outputs": [
    {
     "name": "stdout",
     "output_type": "stream",
     "text": [
      "<class 'pandas.core.frame.DataFrame'>\n",
      "RangeIndex: 40949 entries, 0 to 40948\n",
      "Data columns (total 16 columns):\n",
      " #   Column                  Non-Null Count  Dtype \n",
      "---  ------                  --------------  ----- \n",
      " 0   video_id                40949 non-null  object\n",
      " 1   trending_date           40949 non-null  object\n",
      " 2   title                   40949 non-null  object\n",
      " 3   channel_title           40949 non-null  object\n",
      " 4   category_id             40949 non-null  int8  \n",
      " 5   publish_time            40949 non-null  object\n",
      " 6   tags                    40949 non-null  object\n",
      " 7   views                   40949 non-null  int64 \n",
      " 8   likes                   40949 non-null  int64 \n",
      " 9   dislikes                40949 non-null  int64 \n",
      " 10  comment_count           40949 non-null  int64 \n",
      " 11  thumbnail_link          40949 non-null  object\n",
      " 12  comments_disabled       40949 non-null  bool  \n",
      " 13  ratings_disabled        40949 non-null  bool  \n",
      " 14  video_error_or_removed  40949 non-null  bool  \n",
      " 15  description             40379 non-null  object\n",
      "dtypes: bool(3), int64(4), int8(1), object(8)\n",
      "memory usage: 3.9+ MB\n"
     ]
    }
   ],
   "source": [
    "df = df.astype({'category_id': 'int8'})\n",
    "df.info()"
   ]
  },
  {
   "cell_type": "code",
   "execution_count": 13,
   "metadata": {},
   "outputs": [
    {
     "name": "stdout",
     "output_type": "stream",
     "text": [
      "<class 'pandas.core.frame.DataFrame'>\n",
      "RangeIndex: 40949 entries, 0 to 40948\n",
      "Data columns (total 16 columns):\n",
      " #   Column                  Non-Null Count  Dtype \n",
      "---  ------                  --------------  ----- \n",
      " 0   video_id                40949 non-null  object\n",
      " 1   trending_date           40949 non-null  object\n",
      " 2   title                   40949 non-null  object\n",
      " 3   channel_title           40949 non-null  object\n",
      " 4   category_id             40949 non-null  int8  \n",
      " 5   publish_time            40949 non-null  object\n",
      " 6   tags                    40949 non-null  object\n",
      " 7   views                   40949 non-null  int64 \n",
      " 8   likes                   40949 non-null  int64 \n",
      " 9   dislikes                40949 non-null  int64 \n",
      " 10  comment_count           40949 non-null  int64 \n",
      " 11  thumbnail_link          40949 non-null  object\n",
      " 12  comments_disabled       40949 non-null  bool  \n",
      " 13  ratings_disabled        40949 non-null  bool  \n",
      " 14  video_error_or_removed  40949 non-null  bool  \n",
      " 15  description             40379 non-null  object\n",
      "dtypes: bool(3), int64(4), int8(1), object(8)\n",
      "memory usage: 3.9+ MB\n"
     ]
    }
   ],
   "source": [
    "df = pd.read_csv('./datasets/youtube_trends_us.csv', dtype={'category_id': 'int8'})\n",
    "df.info()"
   ]
  },
  {
   "cell_type": "code",
   "execution_count": null,
   "metadata": {},
   "outputs": [],
   "source": []
  }
 ],
 "metadata": {
  "kernelspec": {
   "display_name": "Python 3.9.2 64-bit",
   "language": "python",
   "name": "python3"
  },
  "language_info": {
   "codemirror_mode": {
    "name": "ipython",
    "version": 3
   },
   "file_extension": ".py",
   "mimetype": "text/x-python",
   "name": "python",
   "nbconvert_exporter": "python",
   "pygments_lexer": "ipython3",
   "version": "3.9.2"
  },
  "orig_nbformat": 4,
  "vscode": {
   "interpreter": {
    "hash": "916dbcbb3f70747c44a77c7bcd40155683ae19c65e1c03b4aa3499c5328201f1"
   }
  }
 },
 "nbformat": 4,
 "nbformat_minor": 2
}
