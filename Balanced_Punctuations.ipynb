{
 "cells": [
  {
   "attachments": {},
   "cell_type": "markdown",
   "metadata": {},
   "source": [
    "## Balanced Punctuations\n",
    "\n",
    "Opening an almost old challenge..."
   ]
  },
  {
   "cell_type": "code",
   "execution_count": 2,
   "metadata": {},
   "outputs": [],
   "source": [
    "import re"
   ]
  },
  {
   "cell_type": "code",
   "execution_count": 4,
   "metadata": {},
   "outputs": [],
   "source": [
    "expr = '(defn useless [] (println (add 3 5)))'"
   ]
  },
  {
   "attachments": {},
   "cell_type": "markdown",
   "metadata": {},
   "source": [
    "Remove extra characters from the expression:"
   ]
  },
  {
   "cell_type": "code",
   "execution_count": 6,
   "metadata": {},
   "outputs": [
    {
     "data": {
      "text/plain": [
       "'([](()))'"
      ]
     },
     "execution_count": 6,
     "metadata": {},
     "output_type": "execute_result"
    }
   ],
   "source": [
    "punctuations = re.sub(r'[^\\(\\)\\[\\]\\{\\}\\<\\>]', '', expr)\n",
    "punctuations"
   ]
  },
  {
   "attachments": {},
   "cell_type": "markdown",
   "metadata": {},
   "source": [
    "Throw away the pairs:"
   ]
  },
  {
   "cell_type": "code",
   "execution_count": 7,
   "metadata": {},
   "outputs": [
    {
     "data": {
      "text/plain": [
       "re.compile(r'\\(([^\\(\\)]*)\\)|\\[([^\\[\\]]*)\\]|\\<([^\\<\\>]*)\\>|\\{([^\\{\\}]*)\\}',\n",
       "           re.UNICODE)"
      ]
     },
     "execution_count": 7,
     "metadata": {},
     "output_type": "execute_result"
    }
   ],
   "source": [
    "pattern = re.compile(r'\\(([^\\(\\)]*)\\)|\\[([^\\[\\]]*)\\]|\\<([^\\<\\>]*)\\>|\\{([^\\{\\}]*)\\}')\n",
    "pattern"
   ]
  },
  {
   "cell_type": "code",
   "execution_count": 8,
   "metadata": {},
   "outputs": [
    {
     "data": {
      "text/plain": [
       "'(())'"
      ]
     },
     "execution_count": 8,
     "metadata": {},
     "output_type": "execute_result"
    }
   ],
   "source": [
    "pattern.sub(r'\\1\\2\\3\\4', punctuations)"
   ]
  },
  {
   "attachments": {},
   "cell_type": "markdown",
   "metadata": {},
   "source": [
    "We need a loop:"
   ]
  },
  {
   "cell_type": "code",
   "execution_count": 9,
   "metadata": {},
   "outputs": [
    {
     "data": {
      "text/plain": [
       "''"
      ]
     },
     "execution_count": 9,
     "metadata": {},
     "output_type": "execute_result"
    }
   ],
   "source": [
    "matches = 1  # At least one time run the loop\n",
    "while matches > 0:\n",
    "    punctuations, matches = pattern.subn(r'\\1\\2\\3\\4', punctuations)\n",
    "\n",
    "punctuations"
   ]
  },
  {
   "attachments": {},
   "cell_type": "markdown",
   "metadata": {},
   "source": [
    "Our final function:"
   ]
  },
  {
   "cell_type": "code",
   "execution_count": 3,
   "metadata": {},
   "outputs": [],
   "source": [
    "def balance_checker(expr: str) -> bool:\n",
    "    \"\"\"Checks the punctuations balance in the given expression.\n",
    "\n",
    "    Args:\n",
    "        expr: A string that could be a mathematical expression or even\n",
    "          a romantic text! e.g. ({1, 2, 3, ..., 141}, ['I love u'])\n",
    "\n",
    "    Returns:\n",
    "        True if the punctuations balance is correct, False otherwise.\n",
    "    \"\"\"\n",
    "    # Remove all the non-punctuation characters such as spaces, tabs, etc.\n",
    "    expr = re.sub(r'[^\\(\\)\\[\\]\\{\\}\\<\\>]', '', expr)\n",
    "    if not expr:  # Maybe the expression has no punctuation at all\n",
    "        return True\n",
    "\n",
    "    # Check that the expression haven't a opening punctuation without a\n",
    "    # closing one. (And vice versa) The idea is to remove the outermost\n",
    "    # punctuation and check again.\n",
    "    pattern = r'\\(([^\\(\\)]*)\\)|\\[([^\\[\\]]*)\\]|\\<([^\\<\\>]*)\\>|\\{([^\\{\\}]*)\\}'\n",
    "    matches = 1  # At least one time run the loop\n",
    "    while matches > 0:\n",
    "        expr, matches = re.subn(pattern, r'\\1\\2\\3\\4', expr)\n",
    "\n",
    "    # Now the expression should be empty, if not, then the punctuations\n",
    "    # balance is not correct.\n",
    "    return True if not expr else False"
   ]
  },
  {
   "cell_type": "code",
   "execution_count": 10,
   "metadata": {},
   "outputs": [
    {
     "name": "stdout",
     "output_type": "stream",
     "text": [
      "Expression: <s>HTML is a programming language</s>\n",
      "Expected: True\n",
      "Result: True\n",
      "\n",
      "Expression: (1+2) * (3+4) / 4!\n",
      "Expected: True\n",
      "Result: True\n",
      "\n",
      "Expression: {1, 2, 3, ..., 10}\n",
      "Expected: True\n",
      "Result: True\n",
      "\n",
      "Expression: ([{<>}])\n",
      "Expected: True\n",
      "Result: True\n",
      "\n",
      "Expression: I love u\n",
      "Expected: True\n",
      "Result: True\n",
      "\n",
      "Expression: I [OVE ()}\n",
      "Expected: False\n",
      "Result: False\n",
      "\n",
      "Expression: <}>\n",
      "Expected: False\n",
      "Result: False\n",
      "\n",
      "Expression: )[}({>]<\n",
      "Expected: False\n",
      "Result: False\n",
      "\n"
     ]
    }
   ],
   "source": [
    "expressions = {\n",
    "    '<s>HTML is a programming language</s>': True,\n",
    "    '(1+2) * (3+4) / 4!': True,\n",
    "    '{1, 2, 3, ..., 10}': True,\n",
    "    '([{<>}])': True,\n",
    "    'I love u': True,\n",
    "    'I [OVE ()}': False,\n",
    "    '<}>': False,\n",
    "    ')[}({>]<': False,\n",
    "}\n",
    "for expr, expected in expressions.items():\n",
    "    print(f'Expression: {expr}')\n",
    "    print(f'Expected: {expected}')\n",
    "    print(f'Result: {balance_checker(expr)}\\n')"
   ]
  },
  {
   "cell_type": "code",
   "execution_count": null,
   "metadata": {},
   "outputs": [],
   "source": []
  }
 ],
 "metadata": {
  "kernelspec": {
   "display_name": "Python 3",
   "language": "python",
   "name": "python3"
  },
  "language_info": {
   "codemirror_mode": {
    "name": "ipython",
    "version": 3
   },
   "file_extension": ".py",
   "mimetype": "text/x-python",
   "name": "python",
   "nbconvert_exporter": "python",
   "pygments_lexer": "ipython3",
   "version": "3.10.6 (main, Nov 14 2022, 16:10:14) [GCC 11.3.0]"
  },
  "orig_nbformat": 4,
  "vscode": {
   "interpreter": {
    "hash": "916dbcbb3f70747c44a77c7bcd40155683ae19c65e1c03b4aa3499c5328201f1"
   }
  }
 },
 "nbformat": 4,
 "nbformat_minor": 2
}
