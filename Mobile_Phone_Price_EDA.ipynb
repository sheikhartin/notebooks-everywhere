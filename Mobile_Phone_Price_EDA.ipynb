{
 "cells": [
  {
   "cell_type": "markdown",
   "metadata": {
    "tags": []
   },
   "source": [
    "## Mobile Phone Price EDA\n",
    "\n",
    "I have worked with this dataset before and even uploaded a video for it on YouTube!\n",
    "\n",
    "The previous notebook is [here](Cleaning_Mobile_Phone_Price_Dataset_Using_Shell_Scripting.ipynb) and the video is [here](https://youtube.com/watch?v=n2FNnCnCa3Q) for Persian speakers."
   ]
  },
  {
   "cell_type": "code",
   "execution_count": 1,
   "metadata": {
    "tags": []
   },
   "outputs": [],
   "source": [
    "# Data analysis\n",
    "import pandas as pd\n",
    "\n",
    "# Data visualization\n",
    "import matplotlib.pyplot as plt\n",
    "import seaborn as sns"
   ]
  },
  {
   "cell_type": "code",
   "execution_count": 2,
   "metadata": {
    "jupyter": {
     "source_hidden": true
    },
    "tags": []
   },
   "outputs": [],
   "source": [
    "sns.set_theme(style='ticks')"
   ]
  },
  {
   "cell_type": "code",
   "execution_count": 3,
   "metadata": {
    "tags": []
   },
   "outputs": [],
   "source": [
    "df = pd.read_csv('./datasets/mobile_phone_price.csv')"
   ]
  },
  {
   "cell_type": "code",
   "execution_count": 4,
   "metadata": {
    "jupyter": {
     "source_hidden": true
    },
    "tags": []
   },
   "outputs": [
    {
     "data": {
      "text/html": [
       "<div>\n",
       "<style scoped>\n",
       "    .dataframe tbody tr th:only-of-type {\n",
       "        vertical-align: middle;\n",
       "    }\n",
       "\n",
       "    .dataframe tbody tr th {\n",
       "        vertical-align: top;\n",
       "    }\n",
       "\n",
       "    .dataframe thead th {\n",
       "        text-align: right;\n",
       "    }\n",
       "</style>\n",
       "<table border=\"1\" class=\"dataframe\">\n",
       "  <thead>\n",
       "    <tr style=\"text-align: right;\">\n",
       "      <th></th>\n",
       "      <th>Brand</th>\n",
       "      <th>Model</th>\n",
       "      <th>Storage</th>\n",
       "      <th>RAM</th>\n",
       "      <th>Screen Size (inches)</th>\n",
       "      <th>Camera (MP)</th>\n",
       "      <th>Battery Capacity (mAh)</th>\n",
       "      <th>Price ($)</th>\n",
       "    </tr>\n",
       "  </thead>\n",
       "  <tbody>\n",
       "    <tr>\n",
       "      <th>123</th>\n",
       "      <td>Asus</td>\n",
       "      <td>Zenfone 8 Flip</td>\n",
       "      <td>128GB</td>\n",
       "      <td>8GB</td>\n",
       "      <td>6.67</td>\n",
       "      <td>64MP + 12MP + 12MP</td>\n",
       "      <td>5000</td>\n",
       "      <td>$899</td>\n",
       "    </tr>\n",
       "    <tr>\n",
       "      <th>71</th>\n",
       "      <td>Samsung</td>\n",
       "      <td>Galaxy A22 5G</td>\n",
       "      <td>128 GB</td>\n",
       "      <td>4 GB</td>\n",
       "      <td>6.6</td>\n",
       "      <td>48 + 5 + 2</td>\n",
       "      <td>5000</td>\n",
       "      <td>239</td>\n",
       "    </tr>\n",
       "    <tr>\n",
       "      <th>60</th>\n",
       "      <td>Oppo</td>\n",
       "      <td>Reno6 Pro 5G</td>\n",
       "      <td>128 GB</td>\n",
       "      <td>12 GB</td>\n",
       "      <td>6.55</td>\n",
       "      <td>64 + 8 + 2 + 2</td>\n",
       "      <td>4500</td>\n",
       "      <td>659</td>\n",
       "    </tr>\n",
       "    <tr>\n",
       "      <th>327</th>\n",
       "      <td>Oppo</td>\n",
       "      <td>F19 Pro+ 5G</td>\n",
       "      <td>128</td>\n",
       "      <td>8</td>\n",
       "      <td>6.43</td>\n",
       "      <td>64+8+2+2</td>\n",
       "      <td>4310</td>\n",
       "      <td>419</td>\n",
       "    </tr>\n",
       "    <tr>\n",
       "      <th>351</th>\n",
       "      <td>Samsung</td>\n",
       "      <td>Galaxy S21+ 5G</td>\n",
       "      <td>256</td>\n",
       "      <td>8</td>\n",
       "      <td>6.7</td>\n",
       "      <td>12+64+12</td>\n",
       "      <td>4800</td>\n",
       "      <td>999</td>\n",
       "    </tr>\n",
       "    <tr>\n",
       "      <th>216</th>\n",
       "      <td>Realme</td>\n",
       "      <td>C11 2021</td>\n",
       "      <td>32GB</td>\n",
       "      <td>2GB</td>\n",
       "      <td>6.52</td>\n",
       "      <td>8MP + 2MP</td>\n",
       "      <td>5000</td>\n",
       "      <td>$99</td>\n",
       "    </tr>\n",
       "    <tr>\n",
       "      <th>51</th>\n",
       "      <td>Apple</td>\n",
       "      <td>iPhone 11 Pro Max</td>\n",
       "      <td>256 GB</td>\n",
       "      <td>4 GB</td>\n",
       "      <td>6.5</td>\n",
       "      <td>12 + 12 + 12</td>\n",
       "      <td>3969</td>\n",
       "      <td>1099</td>\n",
       "    </tr>\n",
       "    <tr>\n",
       "      <th>240</th>\n",
       "      <td>Nokia</td>\n",
       "      <td>C20 Plus</td>\n",
       "      <td>32GB</td>\n",
       "      <td>3GB</td>\n",
       "      <td>6.5</td>\n",
       "      <td>8MP + 2MP</td>\n",
       "      <td>4950</td>\n",
       "      <td>$99</td>\n",
       "    </tr>\n",
       "    <tr>\n",
       "      <th>26</th>\n",
       "      <td>Samsung</td>\n",
       "      <td>Galaxy A03s</td>\n",
       "      <td>32 GB</td>\n",
       "      <td>3 GB</td>\n",
       "      <td>6.5</td>\n",
       "      <td>13 + 2 + 2</td>\n",
       "      <td>5000</td>\n",
       "      <td>139</td>\n",
       "    </tr>\n",
       "    <tr>\n",
       "      <th>242</th>\n",
       "      <td>Oppo</td>\n",
       "      <td>Reno 6 Pro 5G</td>\n",
       "      <td>128GB</td>\n",
       "      <td>12GB</td>\n",
       "      <td>6.55</td>\n",
       "      <td>64MP + 8MP + 2MP</td>\n",
       "      <td>4500</td>\n",
       "      <td>$549</td>\n",
       "    </tr>\n",
       "  </tbody>\n",
       "</table>\n",
       "</div>"
      ],
      "text/plain": [
       "       Brand              Model Storage    RAM  Screen Size (inches)  \\\n",
       "123     Asus     Zenfone 8 Flip    128GB    8GB                 6.67   \n",
       "71   Samsung      Galaxy A22 5G   128 GB   4 GB                  6.6   \n",
       "60      Oppo       Reno6 Pro 5G   128 GB  12 GB                 6.55   \n",
       "327     Oppo        F19 Pro+ 5G      128      8                 6.43   \n",
       "351  Samsung     Galaxy S21+ 5G      256      8                  6.7   \n",
       "216   Realme           C11 2021     32GB    2GB                 6.52   \n",
       "51     Apple  iPhone 11 Pro Max   256 GB   4 GB                  6.5   \n",
       "240    Nokia           C20 Plus     32GB    3GB                  6.5   \n",
       "26   Samsung        Galaxy A03s    32 GB   3 GB                  6.5   \n",
       "242     Oppo      Reno 6 Pro 5G    128GB   12GB                 6.55   \n",
       "\n",
       "            Camera (MP)  Battery Capacity (mAh) Price ($)  \n",
       "123  64MP + 12MP + 12MP                    5000     $899   \n",
       "71           48 + 5 + 2                    5000       239  \n",
       "60       64 + 8 + 2 + 2                    4500       659  \n",
       "327            64+8+2+2                    4310       419  \n",
       "351            12+64+12                    4800       999  \n",
       "216           8MP + 2MP                    5000      $99   \n",
       "51         12 + 12 + 12                    3969      1099  \n",
       "240           8MP + 2MP                    4950      $99   \n",
       "26           13 + 2 + 2                    5000       139  \n",
       "242    64MP + 8MP + 2MP                    4500     $549   "
      ]
     },
     "execution_count": 4,
     "metadata": {},
     "output_type": "execute_result"
    }
   ],
   "source": [
    "df.sample(10)"
   ]
  },
  {
   "cell_type": "markdown",
   "metadata": {},
   "source": [
    "### It's time to clean up"
   ]
  },
  {
   "cell_type": "markdown",
   "metadata": {},
   "source": [
    "Renaming the columns:"
   ]
  },
  {
   "cell_type": "code",
   "execution_count": 5,
   "metadata": {
    "collapsed": true,
    "jupyter": {
     "outputs_hidden": true,
     "source_hidden": true
    },
    "tags": []
   },
   "outputs": [
    {
     "data": {
      "text/plain": [
       "Index(['Brand', 'Model', 'Storage ', 'RAM ', 'Screen Size (inches)',\n",
       "       'Camera (MP)', 'Battery Capacity (mAh)', 'Price ($)'],\n",
       "      dtype='object')"
      ]
     },
     "execution_count": 5,
     "metadata": {},
     "output_type": "execute_result"
    }
   ],
   "source": [
    "df.columns"
   ]
  },
  {
   "cell_type": "code",
   "execution_count": 6,
   "metadata": {
    "tags": []
   },
   "outputs": [],
   "source": [
    "df.rename(columns={\n",
    "    'Storage ': 'Storage',\n",
    "    'RAM ': 'RAM',\n",
    "    'Screen Size (inches)': 'Screen Size',\n",
    "    'Camera (MP)': 'Camera',\n",
    "    'Battery Capacity (mAh)': 'Battery Capacity',\n",
    "    'Price ($)': 'Price',\n",
    "}, inplace=True)"
   ]
  },
  {
   "cell_type": "markdown",
   "metadata": {},
   "source": [
    "Removing extra tags from the `Storage`, `RAM`, `Screen Size`, and `Camera` fields:"
   ]
  },
  {
   "cell_type": "code",
   "execution_count": 7,
   "metadata": {
    "tags": []
   },
   "outputs": [],
   "source": [
    "cols = ['Storage', 'RAM']\n",
    "for col in cols:\n",
    "    df[col] = df[col].str.extract(r'^(\\d+)')"
   ]
  },
  {
   "cell_type": "code",
   "execution_count": 8,
   "metadata": {
    "tags": []
   },
   "outputs": [
    {
     "data": {
      "text/html": [
       "<div>\n",
       "<style scoped>\n",
       "    .dataframe tbody tr th:only-of-type {\n",
       "        vertical-align: middle;\n",
       "    }\n",
       "\n",
       "    .dataframe tbody tr th {\n",
       "        vertical-align: top;\n",
       "    }\n",
       "\n",
       "    .dataframe thead th {\n",
       "        text-align: right;\n",
       "    }\n",
       "</style>\n",
       "<table border=\"1\" class=\"dataframe\">\n",
       "  <thead>\n",
       "    <tr style=\"text-align: right;\">\n",
       "      <th></th>\n",
       "      <th>Brand</th>\n",
       "      <th>Model</th>\n",
       "      <th>Storage</th>\n",
       "      <th>RAM</th>\n",
       "      <th>Screen Size</th>\n",
       "      <th>Camera</th>\n",
       "      <th>Battery Capacity</th>\n",
       "      <th>Price</th>\n",
       "    </tr>\n",
       "  </thead>\n",
       "  <tbody>\n",
       "    <tr>\n",
       "      <th>88</th>\n",
       "      <td>LG</td>\n",
       "      <td>Wing</td>\n",
       "      <td>256</td>\n",
       "      <td>8</td>\n",
       "      <td>6.8 + 3.9</td>\n",
       "      <td>64MP + 13MP + 12MP</td>\n",
       "      <td>4000</td>\n",
       "      <td>$999</td>\n",
       "    </tr>\n",
       "    <tr>\n",
       "      <th>373</th>\n",
       "      <td>Samsung</td>\n",
       "      <td>Galaxy Z Fold2 5G</td>\n",
       "      <td>256</td>\n",
       "      <td>12</td>\n",
       "      <td>7.6 (unfolded)</td>\n",
       "      <td>12+12+12</td>\n",
       "      <td>4500</td>\n",
       "      <td>1999</td>\n",
       "    </tr>\n",
       "  </tbody>\n",
       "</table>\n",
       "</div>"
      ],
      "text/plain": [
       "       Brand              Model Storage RAM     Screen Size  \\\n",
       "88        LG               Wing     256   8       6.8 + 3.9   \n",
       "373  Samsung  Galaxy Z Fold2 5G     256  12  7.6 (unfolded)   \n",
       "\n",
       "                 Camera  Battery Capacity  Price  \n",
       "88   64MP + 13MP + 12MP              4000  $999   \n",
       "373            12+12+12              4500   1999  "
      ]
     },
     "execution_count": 8,
     "metadata": {},
     "output_type": "execute_result"
    }
   ],
   "source": [
    "df[df['Screen Size'].str.contains('[^0-9\\.]', regex=True)]"
   ]
  },
  {
   "cell_type": "markdown",
   "metadata": {},
   "source": [
    "We can get the above numbers in different ways, but the case for record 88 (LG Wing) is different; because there is only one item and it caused the column structure to be damaged, we can delete it:"
   ]
  },
  {
   "cell_type": "code",
   "execution_count": 9,
   "metadata": {
    "tags": []
   },
   "outputs": [],
   "source": [
    "df.drop(88, inplace=True)"
   ]
  },
  {
   "cell_type": "code",
   "execution_count": 10,
   "metadata": {
    "tags": []
   },
   "outputs": [],
   "source": [
    "df['Screen Size'] = df['Screen Size'].str.extract('(\\d+(?:\\.\\d+)?)')"
   ]
  },
  {
   "cell_type": "code",
   "execution_count": 11,
   "metadata": {
    "tags": []
   },
   "outputs": [],
   "source": [
    "df['Camera'] = (\n",
    "    df['Camera']\n",
    "    .str.extractall(r'(\\d+(?:\\.\\d+)?)')\n",
    "    .reset_index()\n",
    "    .pivot(index='level_0', columns='match', values=0)\n",
    "    .apply(lambda x: x.str.cat(sep='+'), axis=1)\n",
    ")"
   ]
  },
  {
   "cell_type": "markdown",
   "metadata": {},
   "source": [
    "And finally, we have to standardize the price format:"
   ]
  },
  {
   "cell_type": "code",
   "execution_count": 12,
   "metadata": {
    "tags": []
   },
   "outputs": [],
   "source": [
    "df['Price'] = (\n",
    "    df['Price']\n",
    "    .str.replace(',', '')\n",
    "    .str.extract('(\\d+)')\n",
    ")"
   ]
  },
  {
   "cell_type": "markdown",
   "metadata": {
    "tags": []
   },
   "source": [
    "### Let's go for analysis"
   ]
  },
  {
   "cell_type": "markdown",
   "metadata": {},
   "source": [
    "This is the cleaned dataset:"
   ]
  },
  {
   "cell_type": "code",
   "execution_count": 13,
   "metadata": {
    "jupyter": {
     "source_hidden": true
    },
    "tags": []
   },
   "outputs": [
    {
     "data": {
      "text/html": [
       "<div>\n",
       "<style scoped>\n",
       "    .dataframe tbody tr th:only-of-type {\n",
       "        vertical-align: middle;\n",
       "    }\n",
       "\n",
       "    .dataframe tbody tr th {\n",
       "        vertical-align: top;\n",
       "    }\n",
       "\n",
       "    .dataframe thead th {\n",
       "        text-align: right;\n",
       "    }\n",
       "</style>\n",
       "<table border=\"1\" class=\"dataframe\">\n",
       "  <thead>\n",
       "    <tr style=\"text-align: right;\">\n",
       "      <th></th>\n",
       "      <th>Brand</th>\n",
       "      <th>Model</th>\n",
       "      <th>Storage</th>\n",
       "      <th>RAM</th>\n",
       "      <th>Screen Size</th>\n",
       "      <th>Camera</th>\n",
       "      <th>Battery Capacity</th>\n",
       "      <th>Price</th>\n",
       "    </tr>\n",
       "  </thead>\n",
       "  <tbody>\n",
       "    <tr>\n",
       "      <th>204</th>\n",
       "      <td>Vivo</td>\n",
       "      <td>Y72 5G</td>\n",
       "      <td>128</td>\n",
       "      <td>8</td>\n",
       "      <td>6.58</td>\n",
       "      <td>64+8+2</td>\n",
       "      <td>5000</td>\n",
       "      <td>339</td>\n",
       "    </tr>\n",
       "    <tr>\n",
       "      <th>337</th>\n",
       "      <td>Motorola</td>\n",
       "      <td>Moto G9 Plus</td>\n",
       "      <td>128</td>\n",
       "      <td>4</td>\n",
       "      <td>6.81</td>\n",
       "      <td>64+8+2+2</td>\n",
       "      <td>5000</td>\n",
       "      <td>279</td>\n",
       "    </tr>\n",
       "    <tr>\n",
       "      <th>33</th>\n",
       "      <td>Oppo</td>\n",
       "      <td>A53s</td>\n",
       "      <td>128</td>\n",
       "      <td>6</td>\n",
       "      <td>6.5</td>\n",
       "      <td>13+2+2</td>\n",
       "      <td>5000</td>\n",
       "      <td>259</td>\n",
       "    </tr>\n",
       "    <tr>\n",
       "      <th>233</th>\n",
       "      <td>Realme</td>\n",
       "      <td>Narzo 50A</td>\n",
       "      <td>64</td>\n",
       "      <td>4</td>\n",
       "      <td>6.5</td>\n",
       "      <td>50+2</td>\n",
       "      <td>5000</td>\n",
       "      <td>149</td>\n",
       "    </tr>\n",
       "    <tr>\n",
       "      <th>54</th>\n",
       "      <td>Samsung</td>\n",
       "      <td>Galaxy A52s 5G</td>\n",
       "      <td>128</td>\n",
       "      <td>6</td>\n",
       "      <td>6.5</td>\n",
       "      <td>64+12+5+5</td>\n",
       "      <td>4500</td>\n",
       "      <td>459</td>\n",
       "    </tr>\n",
       "    <tr>\n",
       "      <th>339</th>\n",
       "      <td>Samsung</td>\n",
       "      <td>Galaxy A32 5G</td>\n",
       "      <td>128</td>\n",
       "      <td>4</td>\n",
       "      <td>6.5</td>\n",
       "      <td>48+8+5+2</td>\n",
       "      <td>5000</td>\n",
       "      <td>279</td>\n",
       "    </tr>\n",
       "    <tr>\n",
       "      <th>19</th>\n",
       "      <td>Oppo</td>\n",
       "      <td>A94</td>\n",
       "      <td>128</td>\n",
       "      <td>8</td>\n",
       "      <td>6.43</td>\n",
       "      <td>48+8+2+2</td>\n",
       "      <td>4310</td>\n",
       "      <td>379</td>\n",
       "    </tr>\n",
       "    <tr>\n",
       "      <th>283</th>\n",
       "      <td>Oppo</td>\n",
       "      <td>A31</td>\n",
       "      <td>128</td>\n",
       "      <td>4</td>\n",
       "      <td>6.5</td>\n",
       "      <td>12+2+2</td>\n",
       "      <td>4230</td>\n",
       "      <td>199</td>\n",
       "    </tr>\n",
       "    <tr>\n",
       "      <th>305</th>\n",
       "      <td>Apple</td>\n",
       "      <td>iPhone 13</td>\n",
       "      <td>128</td>\n",
       "      <td>6</td>\n",
       "      <td>6.1</td>\n",
       "      <td>12+12+12</td>\n",
       "      <td>2815</td>\n",
       "      <td>799</td>\n",
       "    </tr>\n",
       "    <tr>\n",
       "      <th>271</th>\n",
       "      <td>Oppo</td>\n",
       "      <td>A54</td>\n",
       "      <td>64</td>\n",
       "      <td>4</td>\n",
       "      <td>6.51</td>\n",
       "      <td>13+2+2</td>\n",
       "      <td>5000</td>\n",
       "      <td>199</td>\n",
       "    </tr>\n",
       "  </tbody>\n",
       "</table>\n",
       "</div>"
      ],
      "text/plain": [
       "        Brand           Model Storage RAM Screen Size     Camera  \\\n",
       "204      Vivo          Y72 5G     128   8        6.58     64+8+2   \n",
       "337  Motorola    Moto G9 Plus     128   4        6.81   64+8+2+2   \n",
       "33       Oppo            A53s     128   6         6.5     13+2+2   \n",
       "233    Realme       Narzo 50A      64   4         6.5       50+2   \n",
       "54    Samsung  Galaxy A52s 5G     128   6         6.5  64+12+5+5   \n",
       "339   Samsung   Galaxy A32 5G     128   4         6.5   48+8+5+2   \n",
       "19       Oppo             A94     128   8        6.43   48+8+2+2   \n",
       "283      Oppo             A31     128   4         6.5     12+2+2   \n",
       "305     Apple       iPhone 13     128   6         6.1   12+12+12   \n",
       "271      Oppo             A54      64   4        6.51     13+2+2   \n",
       "\n",
       "     Battery Capacity Price  \n",
       "204              5000   339  \n",
       "337              5000   279  \n",
       "33               5000   259  \n",
       "233              5000   149  \n",
       "54               4500   459  \n",
       "339              5000   279  \n",
       "19               4310   379  \n",
       "283              4230   199  \n",
       "305              2815   799  \n",
       "271              5000   199  "
      ]
     },
     "execution_count": 13,
     "metadata": {},
     "output_type": "execute_result"
    }
   ],
   "source": [
    "df.sample(10)"
   ]
  },
  {
   "cell_type": "markdown",
   "metadata": {},
   "source": [
    "Some feature engineering:"
   ]
  },
  {
   "cell_type": "code",
   "execution_count": 14,
   "metadata": {
    "tags": []
   },
   "outputs": [],
   "source": [
    "df['Cameras'] = df['Camera'].str.count(r'\\+')"
   ]
  },
  {
   "cell_type": "code",
   "execution_count": 15,
   "metadata": {
    "tags": []
   },
   "outputs": [],
   "source": [
    "expanded_cameras_data = (\n",
    "    df['Camera']\n",
    "    .str.split('+', expand=True)\n",
    "    .add_prefix('Camera_')\n",
    ")"
   ]
  },
  {
   "cell_type": "code",
   "execution_count": 16,
   "metadata": {
    "jupyter": {
     "source_hidden": true
    },
    "tags": []
   },
   "outputs": [
    {
     "data": {
      "text/html": [
       "<div>\n",
       "<style scoped>\n",
       "    .dataframe tbody tr th:only-of-type {\n",
       "        vertical-align: middle;\n",
       "    }\n",
       "\n",
       "    .dataframe tbody tr th {\n",
       "        vertical-align: top;\n",
       "    }\n",
       "\n",
       "    .dataframe thead th {\n",
       "        text-align: right;\n",
       "    }\n",
       "</style>\n",
       "<table border=\"1\" class=\"dataframe\">\n",
       "  <thead>\n",
       "    <tr style=\"text-align: right;\">\n",
       "      <th></th>\n",
       "      <th>Camera_0</th>\n",
       "      <th>Camera_1</th>\n",
       "      <th>Camera_2</th>\n",
       "      <th>Camera_3</th>\n",
       "    </tr>\n",
       "  </thead>\n",
       "  <tbody>\n",
       "    <tr>\n",
       "      <th>169</th>\n",
       "      <td>64</td>\n",
       "      <td>8</td>\n",
       "      <td>5</td>\n",
       "      <td>2</td>\n",
       "    </tr>\n",
       "    <tr>\n",
       "      <th>235</th>\n",
       "      <td>48</td>\n",
       "      <td>8</td>\n",
       "      <td>2</td>\n",
       "      <td>2</td>\n",
       "    </tr>\n",
       "    <tr>\n",
       "      <th>393</th>\n",
       "      <td>48</td>\n",
       "      <td>16</td>\n",
       "      <td>5</td>\n",
       "      <td>2</td>\n",
       "    </tr>\n",
       "    <tr>\n",
       "      <th>125</th>\n",
       "      <td>48</td>\n",
       "      <td>8</td>\n",
       "      <td>2</td>\n",
       "      <td>2</td>\n",
       "    </tr>\n",
       "    <tr>\n",
       "      <th>42</th>\n",
       "      <td>48</td>\n",
       "      <td>8</td>\n",
       "      <td>2</td>\n",
       "      <td>2</td>\n",
       "    </tr>\n",
       "    <tr>\n",
       "      <th>370</th>\n",
       "      <td>48</td>\n",
       "      <td>8</td>\n",
       "      <td>2</td>\n",
       "      <td>2</td>\n",
       "    </tr>\n",
       "    <tr>\n",
       "      <th>287</th>\n",
       "      <td>25</td>\n",
       "      <td>8</td>\n",
       "      <td>5</td>\n",
       "      <td>None</td>\n",
       "    </tr>\n",
       "    <tr>\n",
       "      <th>1</th>\n",
       "      <td>108</td>\n",
       "      <td>10</td>\n",
       "      <td>10</td>\n",
       "      <td>12</td>\n",
       "    </tr>\n",
       "    <tr>\n",
       "      <th>353</th>\n",
       "      <td>64</td>\n",
       "      <td>12</td>\n",
       "      <td>2</td>\n",
       "      <td>2</td>\n",
       "    </tr>\n",
       "    <tr>\n",
       "      <th>279</th>\n",
       "      <td>13</td>\n",
       "      <td>8</td>\n",
       "      <td>2</td>\n",
       "      <td>2</td>\n",
       "    </tr>\n",
       "  </tbody>\n",
       "</table>\n",
       "</div>"
      ],
      "text/plain": [
       "    Camera_0 Camera_1 Camera_2 Camera_3\n",
       "169       64        8        5        2\n",
       "235       48        8        2        2\n",
       "393       48       16        5        2\n",
       "125       48        8        2        2\n",
       "42        48        8        2        2\n",
       "370       48        8        2        2\n",
       "287       25        8        5     None\n",
       "1        108       10       10       12\n",
       "353       64       12        2        2\n",
       "279       13        8        2        2"
      ]
     },
     "execution_count": 16,
     "metadata": {},
     "output_type": "execute_result"
    }
   ],
   "source": [
    "expanded_cameras_data.sample(10)"
   ]
  },
  {
   "cell_type": "code",
   "execution_count": 17,
   "metadata": {
    "tags": []
   },
   "outputs": [],
   "source": [
    "expanded_cameras_data.fillna(0, inplace=True)"
   ]
  },
  {
   "cell_type": "code",
   "execution_count": 18,
   "metadata": {
    "tags": []
   },
   "outputs": [],
   "source": [
    "df.drop(columns=['Camera'], inplace=True)"
   ]
  },
  {
   "cell_type": "code",
   "execution_count": 19,
   "metadata": {
    "tags": []
   },
   "outputs": [],
   "source": [
    "df = pd.concat([df, expanded_cameras_data], axis=1)"
   ]
  },
  {
   "cell_type": "code",
   "execution_count": 20,
   "metadata": {
    "jupyter": {
     "source_hidden": true
    },
    "tags": []
   },
   "outputs": [
    {
     "data": {
      "text/html": [
       "<div>\n",
       "<style scoped>\n",
       "    .dataframe tbody tr th:only-of-type {\n",
       "        vertical-align: middle;\n",
       "    }\n",
       "\n",
       "    .dataframe tbody tr th {\n",
       "        vertical-align: top;\n",
       "    }\n",
       "\n",
       "    .dataframe thead th {\n",
       "        text-align: right;\n",
       "    }\n",
       "</style>\n",
       "<table border=\"1\" class=\"dataframe\">\n",
       "  <thead>\n",
       "    <tr style=\"text-align: right;\">\n",
       "      <th></th>\n",
       "      <th>Brand</th>\n",
       "      <th>Model</th>\n",
       "      <th>Storage</th>\n",
       "      <th>RAM</th>\n",
       "      <th>Screen Size</th>\n",
       "      <th>Battery Capacity</th>\n",
       "      <th>Price</th>\n",
       "      <th>Cameras</th>\n",
       "      <th>Camera_0</th>\n",
       "      <th>Camera_1</th>\n",
       "      <th>Camera_2</th>\n",
       "      <th>Camera_3</th>\n",
       "    </tr>\n",
       "  </thead>\n",
       "  <tbody>\n",
       "    <tr>\n",
       "      <th>15</th>\n",
       "      <td>Xiaomi</td>\n",
       "      <td>Mi 11 Lite 5G NE</td>\n",
       "      <td>128</td>\n",
       "      <td>6</td>\n",
       "      <td>6.55</td>\n",
       "      <td>4250</td>\n",
       "      <td>329</td>\n",
       "      <td>2</td>\n",
       "      <td>64</td>\n",
       "      <td>8</td>\n",
       "      <td>5</td>\n",
       "      <td>0</td>\n",
       "    </tr>\n",
       "    <tr>\n",
       "      <th>117</th>\n",
       "      <td>Xiaomi</td>\n",
       "      <td>Redmi 10 Prime</td>\n",
       "      <td>128</td>\n",
       "      <td>6</td>\n",
       "      <td>6.5</td>\n",
       "      <td>6000</td>\n",
       "      <td>219</td>\n",
       "      <td>3</td>\n",
       "      <td>50</td>\n",
       "      <td>8</td>\n",
       "      <td>2</td>\n",
       "      <td>2</td>\n",
       "    </tr>\n",
       "    <tr>\n",
       "      <th>73</th>\n",
       "      <td>Xiaomi</td>\n",
       "      <td>Mi 11 Lite 5G</td>\n",
       "      <td>128</td>\n",
       "      <td>6</td>\n",
       "      <td>6.55</td>\n",
       "      <td>4250</td>\n",
       "      <td>369</td>\n",
       "      <td>2</td>\n",
       "      <td>64</td>\n",
       "      <td>8</td>\n",
       "      <td>5</td>\n",
       "      <td>0</td>\n",
       "    </tr>\n",
       "    <tr>\n",
       "      <th>8</th>\n",
       "      <td>Oppo</td>\n",
       "      <td>Reno6 Pro+ 5G</td>\n",
       "      <td>128</td>\n",
       "      <td>8</td>\n",
       "      <td>6.55</td>\n",
       "      <td>4500</td>\n",
       "      <td>699</td>\n",
       "      <td>3</td>\n",
       "      <td>50</td>\n",
       "      <td>13</td>\n",
       "      <td>16</td>\n",
       "      <td>2</td>\n",
       "    </tr>\n",
       "    <tr>\n",
       "      <th>13</th>\n",
       "      <td>Apple</td>\n",
       "      <td>iPhone 12 Mini</td>\n",
       "      <td>64</td>\n",
       "      <td>4</td>\n",
       "      <td>5.4</td>\n",
       "      <td>2227</td>\n",
       "      <td>699</td>\n",
       "      <td>1</td>\n",
       "      <td>12</td>\n",
       "      <td>12</td>\n",
       "      <td>0</td>\n",
       "      <td>0</td>\n",
       "    </tr>\n",
       "    <tr>\n",
       "      <th>82</th>\n",
       "      <td>Realme</td>\n",
       "      <td>GT Master Edition</td>\n",
       "      <td>128</td>\n",
       "      <td>8</td>\n",
       "      <td>6.43</td>\n",
       "      <td>4300</td>\n",
       "      <td>399</td>\n",
       "      <td>2</td>\n",
       "      <td>64</td>\n",
       "      <td>8</td>\n",
       "      <td>2</td>\n",
       "      <td>0</td>\n",
       "    </tr>\n",
       "    <tr>\n",
       "      <th>133</th>\n",
       "      <td>Samsung</td>\n",
       "      <td>Galaxy A52s 5G</td>\n",
       "      <td>128</td>\n",
       "      <td>6</td>\n",
       "      <td>6.5</td>\n",
       "      <td>4500</td>\n",
       "      <td>449</td>\n",
       "      <td>3</td>\n",
       "      <td>64</td>\n",
       "      <td>12</td>\n",
       "      <td>5</td>\n",
       "      <td>5</td>\n",
       "    </tr>\n",
       "    <tr>\n",
       "      <th>305</th>\n",
       "      <td>Apple</td>\n",
       "      <td>iPhone 13</td>\n",
       "      <td>128</td>\n",
       "      <td>6</td>\n",
       "      <td>6.1</td>\n",
       "      <td>2815</td>\n",
       "      <td>799</td>\n",
       "      <td>2</td>\n",
       "      <td>12</td>\n",
       "      <td>12</td>\n",
       "      <td>12</td>\n",
       "      <td>0</td>\n",
       "    </tr>\n",
       "    <tr>\n",
       "      <th>229</th>\n",
       "      <td>Xiaomi</td>\n",
       "      <td>Redmi Note 10 Pro Max</td>\n",
       "      <td>128</td>\n",
       "      <td>8</td>\n",
       "      <td>6.67</td>\n",
       "      <td>5020</td>\n",
       "      <td>329</td>\n",
       "      <td>3</td>\n",
       "      <td>108</td>\n",
       "      <td>8</td>\n",
       "      <td>5</td>\n",
       "      <td>2</td>\n",
       "    </tr>\n",
       "    <tr>\n",
       "      <th>206</th>\n",
       "      <td>Xiaomi</td>\n",
       "      <td>Mi 10i</td>\n",
       "      <td>128</td>\n",
       "      <td>6</td>\n",
       "      <td>6.67</td>\n",
       "      <td>4820</td>\n",
       "      <td>319</td>\n",
       "      <td>3</td>\n",
       "      <td>108</td>\n",
       "      <td>8</td>\n",
       "      <td>2</td>\n",
       "      <td>2</td>\n",
       "    </tr>\n",
       "  </tbody>\n",
       "</table>\n",
       "</div>"
      ],
      "text/plain": [
       "       Brand                  Model Storage RAM Screen Size  Battery Capacity  \\\n",
       "15    Xiaomi       Mi 11 Lite 5G NE     128   6        6.55              4250   \n",
       "117   Xiaomi         Redmi 10 Prime     128   6         6.5              6000   \n",
       "73    Xiaomi          Mi 11 Lite 5G     128   6        6.55              4250   \n",
       "8       Oppo          Reno6 Pro+ 5G     128   8        6.55              4500   \n",
       "13     Apple         iPhone 12 Mini      64   4         5.4              2227   \n",
       "82    Realme      GT Master Edition     128   8        6.43              4300   \n",
       "133  Samsung         Galaxy A52s 5G     128   6         6.5              4500   \n",
       "305    Apple              iPhone 13     128   6         6.1              2815   \n",
       "229   Xiaomi  Redmi Note 10 Pro Max     128   8        6.67              5020   \n",
       "206   Xiaomi                 Mi 10i     128   6        6.67              4820   \n",
       "\n",
       "    Price  Cameras Camera_0 Camera_1 Camera_2 Camera_3  \n",
       "15    329        2       64        8        5        0  \n",
       "117   219        3       50        8        2        2  \n",
       "73    369        2       64        8        5        0  \n",
       "8     699        3       50       13       16        2  \n",
       "13    699        1       12       12        0        0  \n",
       "82    399        2       64        8        2        0  \n",
       "133   449        3       64       12        5        5  \n",
       "305   799        2       12       12       12        0  \n",
       "229   329        3      108        8        5        2  \n",
       "206   319        3      108        8        2        2  "
      ]
     },
     "execution_count": 20,
     "metadata": {},
     "output_type": "execute_result"
    }
   ],
   "source": [
    "df.sample(10)"
   ]
  },
  {
   "cell_type": "code",
   "execution_count": 21,
   "metadata": {
    "tags": []
   },
   "outputs": [
    {
     "name": "stdout",
     "output_type": "stream",
     "text": [
      "<class 'pandas.core.frame.DataFrame'>\n",
      "Int64Index: 406 entries, 0 to 406\n",
      "Data columns (total 12 columns):\n",
      " #   Column            Non-Null Count  Dtype \n",
      "---  ------            --------------  ----- \n",
      " 0   Brand             406 non-null    object\n",
      " 1   Model             406 non-null    object\n",
      " 2   Storage           406 non-null    object\n",
      " 3   RAM               406 non-null    object\n",
      " 4   Screen Size       406 non-null    object\n",
      " 5   Battery Capacity  406 non-null    int64 \n",
      " 6   Price             406 non-null    object\n",
      " 7   Cameras           406 non-null    int64 \n",
      " 8   Camera_0          406 non-null    object\n",
      " 9   Camera_1          406 non-null    object\n",
      " 10  Camera_2          406 non-null    object\n",
      " 11  Camera_3          406 non-null    object\n",
      "dtypes: int64(2), object(10)\n",
      "memory usage: 41.2+ KB\n"
     ]
    }
   ],
   "source": [
    "df.info()"
   ]
  },
  {
   "cell_type": "code",
   "execution_count": 22,
   "metadata": {
    "tags": []
   },
   "outputs": [],
   "source": [
    "df = df.astype({\n",
    "    'Brand': 'category',\n",
    "    'Storage': 'int16',\n",
    "    'RAM': 'int16',\n",
    "    'Screen Size': 'float16',\n",
    "    'Battery Capacity': 'int16',\n",
    "    'Price': 'int16',\n",
    "    'Cameras': 'int8',\n",
    "    'Camera_0': 'float16',\n",
    "    'Camera_1': 'float16',\n",
    "    'Camera_2': 'float16',\n",
    "    'Camera_3': 'float16',\n",
    "})"
   ]
  },
  {
   "cell_type": "code",
   "execution_count": 23,
   "metadata": {
    "jupyter": {
     "source_hidden": true
    },
    "tags": []
   },
   "outputs": [
    {
     "name": "stdout",
     "output_type": "stream",
     "text": [
      "<class 'pandas.core.frame.DataFrame'>\n",
      "Int64Index: 406 entries, 0 to 406\n",
      "Data columns (total 12 columns):\n",
      " #   Column            Non-Null Count  Dtype   \n",
      "---  ------            --------------  -----   \n",
      " 0   Brand             406 non-null    category\n",
      " 1   Model             406 non-null    object  \n",
      " 2   Storage           406 non-null    int16   \n",
      " 3   RAM               406 non-null    int16   \n",
      " 4   Screen Size       406 non-null    float16 \n",
      " 5   Battery Capacity  406 non-null    int16   \n",
      " 6   Price             406 non-null    int16   \n",
      " 7   Cameras           406 non-null    int8    \n",
      " 8   Camera_0          406 non-null    float16 \n",
      " 9   Camera_1          406 non-null    float16 \n",
      " 10  Camera_2          406 non-null    float16 \n",
      " 11  Camera_3          406 non-null    float16 \n",
      "dtypes: category(1), float16(5), int16(4), int8(1), object(1)\n",
      "memory usage: 14.9+ KB\n"
     ]
    }
   ],
   "source": [
    "df.info()"
   ]
  },
  {
   "cell_type": "markdown",
   "metadata": {},
   "source": [
    "#### What is the average price of all phones?"
   ]
  },
  {
   "cell_type": "code",
   "execution_count": 24,
   "metadata": {
    "tags": []
   },
   "outputs": [
    {
     "data": {
      "text/plain": [
       "406.85960591133005"
      ]
     },
     "execution_count": 24,
     "metadata": {},
     "output_type": "execute_result"
    }
   ],
   "source": [
    "df['Price'].mean()"
   ]
  },
  {
   "cell_type": "code",
   "execution_count": 25,
   "metadata": {
    "tags": []
   },
   "outputs": [
    {
     "data": {
      "image/png": "[encoded data removed]",
      "text/plain": [
       "<Figure size 720x576 with 1 Axes>"
      ]
     },
     "metadata": {},
     "output_type": "display_data"
    }
   ],
   "source": [
    "plt.figure(figsize=(10, 8))\n",
    "sns.histplot(data=df['Price'], kde=True)\n",
    "plt.title('Price Distribution Chart')\n",
    "plt.show()"
   ]
  },
  {
   "cell_type": "markdown",
   "metadata": {},
   "source": [
    "#### What is the average price of phones by brand?"
   ]
  },
  {
   "cell_type": "code",
   "execution_count": 26,
   "metadata": {
    "tags": []
   },
   "outputs": [],
   "source": [
    "brands_average_price_data = df.groupby('Brand')['Price'].mean()"
   ]
  },
  {
   "cell_type": "code",
   "execution_count": 27,
   "metadata": {
    "jupyter": {
     "source_hidden": true
    },
    "tags": []
   },
   "outputs": [
    {
     "data": {
      "text/plain": [
       "Brand\n",
       "Apple          745.666667\n",
       "Asus           874.000000\n",
       "Blackberry     499.000000\n",
       "CAT            299.000000\n",
       "Google         699.000000\n",
       "Huawei         783.166667\n",
       "LG             424.000000\n",
       "Motorola       278.130435\n",
       "Nokia          244.714286\n",
       "OnePlus        644.333333\n",
       "Oppo           376.142857\n",
       "Realme         206.906977\n",
       "Samsung        480.405063\n",
       "Sony          1299.000000\n",
       "Vivo           323.000000\n",
       "Xiaomi         282.880597\n",
       "Name: Price, dtype: float64"
      ]
     },
     "execution_count": 27,
     "metadata": {},
     "output_type": "execute_result"
    }
   ],
   "source": [
    "brands_average_price_data"
   ]
  },
  {
   "cell_type": "code",
   "execution_count": 28,
   "metadata": {
    "jupyter": {
     "source_hidden": true
    },
    "tags": []
   },
   "outputs": [
    {
     "data": {
      "text/html": [
       "<div>\n",
       "<style scoped>\n",
       "    .dataframe tbody tr th:only-of-type {\n",
       "        vertical-align: middle;\n",
       "    }\n",
       "\n",
       "    .dataframe tbody tr th {\n",
       "        vertical-align: top;\n",
       "    }\n",
       "\n",
       "    .dataframe thead th {\n",
       "        text-align: right;\n",
       "    }\n",
       "</style>\n",
       "<table border=\"1\" class=\"dataframe\">\n",
       "  <thead>\n",
       "    <tr style=\"text-align: right;\">\n",
       "      <th></th>\n",
       "      <th>Brand</th>\n",
       "      <th>Price</th>\n",
       "    </tr>\n",
       "  </thead>\n",
       "  <tbody>\n",
       "    <tr>\n",
       "      <th>0</th>\n",
       "      <td>Apple</td>\n",
       "      <td>745.666667</td>\n",
       "    </tr>\n",
       "    <tr>\n",
       "      <th>1</th>\n",
       "      <td>Asus</td>\n",
       "      <td>874.000000</td>\n",
       "    </tr>\n",
       "    <tr>\n",
       "      <th>2</th>\n",
       "      <td>Blackberry</td>\n",
       "      <td>499.000000</td>\n",
       "    </tr>\n",
       "    <tr>\n",
       "      <th>3</th>\n",
       "      <td>CAT</td>\n",
       "      <td>299.000000</td>\n",
       "    </tr>\n",
       "    <tr>\n",
       "      <th>4</th>\n",
       "      <td>Google</td>\n",
       "      <td>699.000000</td>\n",
       "    </tr>\n",
       "    <tr>\n",
       "      <th>5</th>\n",
       "      <td>Huawei</td>\n",
       "      <td>783.166667</td>\n",
       "    </tr>\n",
       "    <tr>\n",
       "      <th>6</th>\n",
       "      <td>LG</td>\n",
       "      <td>424.000000</td>\n",
       "    </tr>\n",
       "    <tr>\n",
       "      <th>7</th>\n",
       "      <td>Motorola</td>\n",
       "      <td>278.130435</td>\n",
       "    </tr>\n",
       "    <tr>\n",
       "      <th>8</th>\n",
       "      <td>Nokia</td>\n",
       "      <td>244.714286</td>\n",
       "    </tr>\n",
       "    <tr>\n",
       "      <th>9</th>\n",
       "      <td>OnePlus</td>\n",
       "      <td>644.333333</td>\n",
       "    </tr>\n",
       "    <tr>\n",
       "      <th>10</th>\n",
       "      <td>Oppo</td>\n",
       "      <td>376.142857</td>\n",
       "    </tr>\n",
       "    <tr>\n",
       "      <th>11</th>\n",
       "      <td>Realme</td>\n",
       "      <td>206.906977</td>\n",
       "    </tr>\n",
       "    <tr>\n",
       "      <th>12</th>\n",
       "      <td>Samsung</td>\n",
       "      <td>480.405063</td>\n",
       "    </tr>\n",
       "    <tr>\n",
       "      <th>13</th>\n",
       "      <td>Sony</td>\n",
       "      <td>1299.000000</td>\n",
       "    </tr>\n",
       "    <tr>\n",
       "      <th>14</th>\n",
       "      <td>Vivo</td>\n",
       "      <td>323.000000</td>\n",
       "    </tr>\n",
       "    <tr>\n",
       "      <th>15</th>\n",
       "      <td>Xiaomi</td>\n",
       "      <td>282.880597</td>\n",
       "    </tr>\n",
       "  </tbody>\n",
       "</table>\n",
       "</div>"
      ],
      "text/plain": [
       "         Brand        Price\n",
       "0        Apple   745.666667\n",
       "1         Asus   874.000000\n",
       "2   Blackberry   499.000000\n",
       "3          CAT   299.000000\n",
       "4       Google   699.000000\n",
       "5       Huawei   783.166667\n",
       "6           LG   424.000000\n",
       "7     Motorola   278.130435\n",
       "8        Nokia   244.714286\n",
       "9      OnePlus   644.333333\n",
       "10        Oppo   376.142857\n",
       "11      Realme   206.906977\n",
       "12     Samsung   480.405063\n",
       "13        Sony  1299.000000\n",
       "14        Vivo   323.000000\n",
       "15      Xiaomi   282.880597"
      ]
     },
     "execution_count": 28,
     "metadata": {},
     "output_type": "execute_result"
    }
   ],
   "source": [
    "brands_average_price_data.reset_index()"
   ]
  },
  {
   "cell_type": "code",
   "execution_count": 29,
   "metadata": {
    "tags": []
   },
   "outputs": [
    {
     "data": {
      "image/png": "[encoded data removed]",
      "text/plain": [
       "<Figure size 720x576 with 1 Axes>"
      ]
     },
     "metadata": {},
     "output_type": "display_data"
    }
   ],
   "source": [
    "plt.figure(figsize=(10, 8))\n",
    "# sns.barplot(data=brands_average_price_data.reset_index(), x='Price', y='Brand')\n",
    "sns.barplot(x=brands_average_price_data.values, y=brands_average_price_data.index)\n",
    "plt.title('Brands Average Price (in U.S. Dollars)')\n",
    "plt.show()"
   ]
  },
  {
   "cell_type": "markdown",
   "metadata": {},
   "source": [
    "#### What is the average battery capacity of phones by brand?"
   ]
  },
  {
   "cell_type": "code",
   "execution_count": 30,
   "metadata": {
    "tags": []
   },
   "outputs": [],
   "source": [
    "brands_average_battery_capacity_data = df.groupby('Brand')['Battery Capacity'].mean()"
   ]
  },
  {
   "cell_type": "code",
   "execution_count": 31,
   "metadata": {
    "jupyter": {
     "source_hidden": true
    },
    "tags": []
   },
   "outputs": [
    {
     "data": {
      "text/plain": [
       "Brand\n",
       "Apple         2863.900000\n",
       "Asus          5000.000000\n",
       "Blackberry    3500.000000\n",
       "CAT           4200.000000\n",
       "Google        4019.857143\n",
       "Huawei        4161.666667\n",
       "LG            4150.000000\n",
       "Motorola      5021.739130\n",
       "Nokia         4502.857143\n",
       "OnePlus       4415.000000\n",
       "Oppo          4631.339286\n",
       "Realme        5176.744186\n",
       "Samsung       4936.708861\n",
       "Sony          4500.000000\n",
       "Vivo          4750.000000\n",
       "Xiaomi        5101.791045\n",
       "Name: Battery Capacity, dtype: float64"
      ]
     },
     "execution_count": 31,
     "metadata": {},
     "output_type": "execute_result"
    }
   ],
   "source": [
    "brands_average_battery_capacity_data"
   ]
  },
  {
   "cell_type": "code",
   "execution_count": 32,
   "metadata": {
    "tags": []
   },
   "outputs": [
    {
     "data": {
      "image/png": "[encoded data removed]",
      "text/plain": [
       "<Figure size 720x576 with 1 Axes>"
      ]
     },
     "metadata": {},
     "output_type": "display_data"
    }
   ],
   "source": [
    "plt.figure(figsize=(10, 8))\n",
    "# sns.barplot(data=brands_average_battery_capacity_data.reset_index(), x='Battery Capacity', y='Brand')\n",
    "sns.barplot(x=brands_average_battery_capacity_data.values, y=brands_average_battery_capacity_data.index)\n",
    "plt.title('Brands Average Battery Capacity (in Milliampere Hour)')\n",
    "plt.show()"
   ]
  },
  {
   "cell_type": "markdown",
   "metadata": {},
   "source": [
    "#### What is the average RAM of phones by brand?"
   ]
  },
  {
   "cell_type": "code",
   "execution_count": 33,
   "metadata": {},
   "outputs": [],
   "source": [
    "brands_average_ram_data = df.groupby('Brand')['RAM'].mean()"
   ]
  },
  {
   "cell_type": "code",
   "execution_count": 34,
   "metadata": {
    "jupyter": {
     "source_hidden": true
    },
    "tags": []
   },
   "outputs": [
    {
     "data": {
      "text/plain": [
       "Brand\n",
       "Apple         3.966667\n",
       "Asus          7.500000\n",
       "Blackberry    5.333333\n",
       "CAT           3.000000\n",
       "Google        7.428571\n",
       "Huawei        7.333333\n",
       "LG            6.000000\n",
       "Motorola      4.521739\n",
       "Nokia         4.000000\n",
       "OnePlus       8.666667\n",
       "Oppo          6.928571\n",
       "Realme        4.976744\n",
       "Samsung       6.025316\n",
       "Sony          8.000000\n",
       "Vivo          6.828571\n",
       "Xiaomi        5.626866\n",
       "Name: RAM, dtype: float64"
      ]
     },
     "execution_count": 34,
     "metadata": {},
     "output_type": "execute_result"
    }
   ],
   "source": [
    "brands_average_ram_data"
   ]
  },
  {
   "cell_type": "code",
   "execution_count": 35,
   "metadata": {
    "tags": []
   },
   "outputs": [
    {
     "data": {
      "image/png": "[encoded data removed]",
      "text/plain": [
       "<Figure size 720x576 with 1 Axes>"
      ]
     },
     "metadata": {},
     "output_type": "display_data"
    }
   ],
   "source": [
    "plt.figure(figsize=(10, 8))\n",
    "# sns.barplot(data=brands_average_ram_data.reset_index(), x='RAM', y='Brand')\n",
    "sns.barplot(x=brands_average_ram_data.values, y=brands_average_ram_data.index)\n",
    "plt.title('Brands Average RAM (in Gigabytes)')\n",
    "plt.show()"
   ]
  },
  {
   "cell_type": "markdown",
   "metadata": {},
   "source": [
    "#### What is the average storage of phones by brand?"
   ]
  },
  {
   "cell_type": "code",
   "execution_count": 36,
   "metadata": {},
   "outputs": [],
   "source": [
    "brands_average_storage_data = df.groupby('Brand')['Storage'].mean()"
   ]
  },
  {
   "cell_type": "code",
   "execution_count": 37,
   "metadata": {
    "jupyter": {
     "source_hidden": true
    },
    "tags": []
   },
   "outputs": [
    {
     "data": {
      "text/plain": [
       "Brand\n",
       "Apple         128.000000\n",
       "Asus          160.000000\n",
       "Blackberry     64.000000\n",
       "CAT            32.000000\n",
       "Google        128.000000\n",
       "Huawei        218.666667\n",
       "LG            128.000000\n",
       "Motorola      105.739130\n",
       "Nokia          74.285714\n",
       "OnePlus       170.666667\n",
       "Oppo          130.857143\n",
       "Realme         96.744186\n",
       "Samsung       130.835443\n",
       "Sony          128.000000\n",
       "Vivo          119.771429\n",
       "Xiaomi        121.313433\n",
       "Name: Storage, dtype: float64"
      ]
     },
     "execution_count": 37,
     "metadata": {},
     "output_type": "execute_result"
    }
   ],
   "source": [
    "brands_average_storage_data"
   ]
  },
  {
   "cell_type": "code",
   "execution_count": 38,
   "metadata": {
    "tags": []
   },
   "outputs": [
    {
     "data": {
      "image/png": "[encoded data removed]",
      "text/plain": [
       "<Figure size 720x576 with 1 Axes>"
      ]
     },
     "metadata": {},
     "output_type": "display_data"
    }
   ],
   "source": [
    "plt.figure(figsize=(10, 8))\n",
    "# sns.barplot(data=brands_average_storage_data.reset_index(), x='Storage', y='Brand')\n",
    "sns.barplot(x=brands_average_storage_data.values, y=brands_average_storage_data.index)\n",
    "plt.title('Brands Average Storage (in Gigabytes)')\n",
    "plt.show()"
   ]
  },
  {
   "cell_type": "markdown",
   "metadata": {},
   "source": [
    "#### What is the average screen size of phones by brand?"
   ]
  },
  {
   "cell_type": "code",
   "execution_count": 39,
   "metadata": {
    "tags": []
   },
   "outputs": [],
   "source": [
    "brands_average_screen_size_data = df.groupby('Brand')['Screen Size'].mean()"
   ]
  },
  {
   "cell_type": "code",
   "execution_count": 40,
   "metadata": {
    "jupyter": {
     "source_hidden": true
    },
    "tags": []
   },
   "outputs": [
    {
     "data": {
      "text/plain": [
       "Brand\n",
       "Apple         5.870443\n",
       "Asus          6.505859\n",
       "Blackberry    4.996094\n",
       "CAT           5.500000\n",
       "Google        6.099330\n",
       "Huawei        6.522461\n",
       "LG            6.750000\n",
       "Motorola      6.591712\n",
       "Nokia         6.533622\n",
       "OnePlus       6.564063\n",
       "Oppo          6.494141\n",
       "Realme        6.510356\n",
       "Samsung       6.557852\n",
       "Sony          6.101562\n",
       "Vivo          6.530692\n",
       "Xiaomi        6.576259\n",
       "Name: Screen Size, dtype: float32"
      ]
     },
     "execution_count": 40,
     "metadata": {},
     "output_type": "execute_result"
    }
   ],
   "source": [
    "brands_average_screen_size_data"
   ]
  },
  {
   "cell_type": "code",
   "execution_count": 41,
   "metadata": {
    "tags": []
   },
   "outputs": [
    {
     "data": {
      "image/png": "[encoded data removed]",
      "text/plain": [
       "<Figure size 720x576 with 1 Axes>"
      ]
     },
     "metadata": {},
     "output_type": "display_data"
    }
   ],
   "source": [
    "plt.figure(figsize=(10, 8))\n",
    "# sns.barplot(data=brands_average_screen_size_data.reset_index(), x='Screen Size', y='Brand')\n",
    "sns.barplot(x=brands_average_screen_size_data.values, y=brands_average_screen_size_data.index)\n",
    "plt.title('Brands Average Screen Size (in Inches)')\n",
    "plt.show()"
   ]
  },
  {
   "cell_type": "markdown",
   "metadata": {},
   "source": [
    "#### What is the correlation between price and storage?"
   ]
  },
  {
   "cell_type": "code",
   "execution_count": 42,
   "metadata": {},
   "outputs": [
    {
     "data": {
      "text/plain": [
       "0.7081483627880374"
      ]
     },
     "execution_count": 42,
     "metadata": {},
     "output_type": "execute_result"
    }
   ],
   "source": [
    "df['Price'].corr(df['Storage'])"
   ]
  },
  {
   "cell_type": "markdown",
   "metadata": {},
   "source": [
    "#### What is the correlation between price and RAM?"
   ]
  },
  {
   "cell_type": "code",
   "execution_count": 43,
   "metadata": {},
   "outputs": [
    {
     "data": {
      "text/plain": [
       "0.6365242498103476"
      ]
     },
     "execution_count": 43,
     "metadata": {},
     "output_type": "execute_result"
    }
   ],
   "source": [
    "df['Price'].corr(df['RAM'])"
   ]
  },
  {
   "cell_type": "markdown",
   "metadata": {},
   "source": [
    "#### What is the correlation between price and screen size?"
   ]
  },
  {
   "cell_type": "code",
   "execution_count": 44,
   "metadata": {
    "tags": []
   },
   "outputs": [
    {
     "data": {
      "text/plain": [
       "0.041356568766993194"
      ]
     },
     "execution_count": 44,
     "metadata": {},
     "output_type": "execute_result"
    }
   ],
   "source": [
    "df['Price'].corr(df['Screen Size'])"
   ]
  },
  {
   "cell_type": "markdown",
   "metadata": {
    "tags": []
   },
   "source": [
    "#### What is the abundance of brands?"
   ]
  },
  {
   "cell_type": "code",
   "execution_count": 45,
   "metadata": {
    "tags": []
   },
   "outputs": [],
   "source": [
    "brands_frequency_data = df['Brand'].value_counts()"
   ]
  },
  {
   "cell_type": "code",
   "execution_count": 46,
   "metadata": {
    "jupyter": {
     "source_hidden": true
    },
    "tags": []
   },
   "outputs": [
    {
     "data": {
      "text/plain": [
       "Samsung       79\n",
       "Xiaomi        67\n",
       "Oppo          56\n",
       "Realme        43\n",
       "Vivo          35\n",
       "Apple         30\n",
       "Nokia         28\n",
       "Motorola      23\n",
       "OnePlus       15\n",
       "Huawei        12\n",
       "Google         7\n",
       "Asus           4\n",
       "Blackberry     3\n",
       "LG             2\n",
       "CAT            1\n",
       "Sony           1\n",
       "Name: Brand, dtype: int64"
      ]
     },
     "execution_count": 46,
     "metadata": {},
     "output_type": "execute_result"
    }
   ],
   "source": [
    "brands_frequency_data"
   ]
  },
  {
   "cell_type": "code",
   "execution_count": 47,
   "metadata": {
    "tags": []
   },
   "outputs": [
    {
     "data": {
      "image/png": "[encoded data removed]",
      "text/plain": [
       "<Figure size 720x576 with 1 Axes>"
      ]
     },
     "metadata": {},
     "output_type": "display_data"
    }
   ],
   "source": [
    "plt.figure(figsize=(10, 8))\n",
    "# sns.barplot(data=brands_frequency_data.reset_index(), x='Brand', y='index')\n",
    "sns.barplot(x=brands_frequency_data.values, y=brands_frequency_data.index)\n",
    "plt.title('Brands Frequency Chart')\n",
    "plt.show()"
   ]
  },
  {
   "cell_type": "code",
   "execution_count": null,
   "metadata": {},
   "outputs": [],
   "source": []
  }
 ],
 "metadata": {
  "kernelspec": {
   "display_name": "Python 3 (ipykernel)",
   "language": "python",
   "name": "python3"
  },
  "language_info": {
   "codemirror_mode": {
    "name": "ipython",
    "version": 3
   },
   "file_extension": ".py",
   "mimetype": "text/x-python",
   "name": "python",
   "nbconvert_exporter": "python",
   "pygments_lexer": "ipython3",
   "version": "3.10.6"
  },
  "vscode": {
   "interpreter": {
    "hash": "916dbcbb3f70747c44a77c7bcd40155683ae19c65e1c03b4aa3499c5328201f1"
   }
  },
  "widgets": {
   "application/vnd.jupyter.widget-state+json": {
    "state": {},
    "version_major": 2,
    "version_minor": 0
   }
  }
 },
 "nbformat": 4,
 "nbformat_minor": 4
}
