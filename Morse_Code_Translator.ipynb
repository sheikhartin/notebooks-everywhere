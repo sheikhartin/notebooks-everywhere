{
 "cells": [
  {
   "attachments": {},
   "cell_type": "markdown",
   "metadata": {},
   "source": [
    "## Morse Code Translator\n",
    "\n",
    "Translate your messages to dots and dashes! (even vice versa)\n",
    "\n",
    "![Sending a secret message](https://media.giphy.com/media/5zdsPpjv6orsBharwg/giphy-downsized-large.gif)"
   ]
  },
  {
   "cell_type": "code",
   "execution_count": 1,
   "metadata": {},
   "outputs": [],
   "source": [
    "import collections\n",
    "import re"
   ]
  },
  {
   "cell_type": "code",
   "execution_count": 2,
   "metadata": {},
   "outputs": [],
   "source": [
    "english_morse_dictionary = {\n",
    "    'A': '.-',\n",
    "    'B': '-...',\n",
    "    'C': '-.-.',\n",
    "    'D': '-..',\n",
    "    'E': '.',\n",
    "    'F': '..-.',\n",
    "    'G': '--.',\n",
    "    'H': '....',\n",
    "    'I': '..',\n",
    "    'J': '.---',\n",
    "    'K': '-.-',\n",
    "    'L': '.-..',\n",
    "    'M': '--',\n",
    "    'N': '-.',\n",
    "    'O': '---',\n",
    "    'P': '.--.',\n",
    "    'Q': '--.-',\n",
    "    'R': '.-.',\n",
    "    'S': '...',\n",
    "    'T': '-',\n",
    "    'U': '..-',\n",
    "    'V': '...-',\n",
    "    'W': '.--',\n",
    "    'X': '-..-',\n",
    "    'Y': '-.--',\n",
    "    'Z': '--..',\n",
    "    '0': '-----',\n",
    "    '1': '.----',\n",
    "    '2': '..---',\n",
    "    '3': '...--',\n",
    "    '4': '....-',\n",
    "    '5': '.....',\n",
    "    '6': '-....',\n",
    "    '7': '--...',\n",
    "    '8': '---..',\n",
    "    '9': '----.',\n",
    "    '.': '.-.-.-',\n",
    "    ',': '--..--',\n",
    "    '?': '..--..',\n",
    "    '!': '-.-.--',\n",
    "    '\"': '.-..-.',\n",
    "    '(': '-.--.',\n",
    "    ')': '-.--.-',\n",
    "    '&': '.-...',\n",
    "    ':': '---...',\n",
    "    '/': '-..-.',\n",
    "    '+': '.-.-.',\n",
    "    '-': '-....-',\n",
    "    '$': '...-..-',\n",
    "    '@': '.--.-.',\n",
    "}"
   ]
  },
  {
   "attachments": {},
   "cell_type": "markdown",
   "metadata": {},
   "source": [
    "Get my more complete dictionaries:\\\n",
    "[https://gist.github.com/sheikhartin/44e2be84c928409f20221ccd7d265587](https://gist.github.com/sheikhartin/44e2be84c928409f20221ccd7d265587)"
   ]
  },
  {
   "attachments": {},
   "cell_type": "markdown",
   "metadata": {},
   "source": [
    "Checking the existence of similarity between the values ​​of our dictionary:"
   ]
  },
  {
   "cell_type": "code",
   "execution_count": 3,
   "metadata": {},
   "outputs": [
    {
     "name": "stdout",
     "output_type": "stream",
     "text": [
      "Counter({'.-': 1, '-...': 1, '-.-.': 1, '-..': 1, '.': 1, '..-.': 1, '--.': 1, '....': 1, '..': 1, '.---': 1, '-.-': 1, '.-..': 1, '--': 1, '-.': 1, '---': 1, '.--.': 1, '--.-': 1, '.-.': 1, '...': 1, '-': 1, '..-': 1, '...-': 1, '.--': 1, '-..-': 1, '-.--': 1, '--..': 1, '-----': 1, '.----': 1, '..---': 1, '...--': 1, '....-': 1, '.....': 1, '-....': 1, '--...': 1, '---..': 1, '----.': 1, '.-.-.-': 1, '--..--': 1, '..--..': 1, '-.-.--': 1, '.-..-.': 1, '-.--.': 1, '-.--.-': 1, '.-...': 1, '---...': 1, '-..-.': 1, '.-.-.': 1, '-....-': 1, '...-..-': 1, '.--.-.': 1})\n"
     ]
    }
   ],
   "source": [
    "print(collections.Counter(english_morse_dictionary.values()))"
   ]
  },
  {
   "cell_type": "markdown",
   "metadata": {},
   "source": [
    "I prefer to use `•` instead of `.` and `‒` instead of `-`..."
   ]
  },
  {
   "cell_type": "code",
   "execution_count": 4,
   "metadata": {},
   "outputs": [
    {
     "name": "stdout",
     "output_type": "stream",
     "text": [
      "{'A': '•‒', 'B': '‒•••', 'C': '‒•‒•', 'D': '‒••', 'E': '•', 'F': '••‒•', 'G': '‒‒•', 'H': '••••', 'I': '••', 'J': '•‒‒‒', 'K': '‒•‒', 'L': '•‒••', 'M': '‒‒', 'N': '‒•', 'O': '‒‒‒', 'P': '•‒‒•', 'Q': '‒‒•‒', 'R': '•‒•', 'S': '•••', 'T': '‒', 'U': '••‒', 'V': '•••‒', 'W': '•‒‒', 'X': '‒••‒', 'Y': '‒•‒‒', 'Z': '‒‒••', '0': '‒‒‒‒‒', '1': '•‒‒‒‒', '2': '••‒‒‒', '3': '•••‒‒', '4': '••••‒', '5': '•••••', '6': '‒••••', '7': '‒‒•••', '8': '‒‒‒••', '9': '‒‒‒‒•', '.': '•‒•‒•‒', ',': '‒‒••‒‒', '?': '••‒‒••', '!': '‒•‒•‒‒', '\"': '•‒••‒•', '(': '‒•‒‒•', ')': '‒•‒‒•‒', '&': '•‒•••', ':': '‒‒‒•••', '/': '‒••‒•', '+': '•‒•‒•', '-': '‒••••‒', '$': '•••‒••‒', '@': '•‒‒•‒•'}\n"
     ]
    }
   ],
   "source": [
    "english_morse_cute_dictionary = {}\n",
    "for k, v in english_morse_dictionary.items():\n",
    "    english_morse_cute_dictionary[k] = ''.join(['•' if char == '.' else '‒' for char in v])\n",
    "\n",
    "print(english_morse_cute_dictionary)"
   ]
  },
  {
   "cell_type": "code",
   "execution_count": 5,
   "metadata": {},
   "outputs": [
    {
     "data": {
      "text/plain": [
       "{'•‒': 'A',\n",
       " '‒•••': 'B',\n",
       " '‒•‒•': 'C',\n",
       " '‒••': 'D',\n",
       " '•': 'E',\n",
       " '••‒•': 'F',\n",
       " '‒‒•': 'G',\n",
       " '••••': 'H',\n",
       " '••': 'I',\n",
       " '•‒‒‒': 'J',\n",
       " '‒•‒': 'K',\n",
       " '•‒••': 'L',\n",
       " '‒‒': 'M',\n",
       " '‒•': 'N',\n",
       " '‒‒‒': 'O',\n",
       " '•‒‒•': 'P',\n",
       " '‒‒•‒': 'Q',\n",
       " '•‒•': 'R',\n",
       " '•••': 'S',\n",
       " '‒': 'T',\n",
       " '••‒': 'U',\n",
       " '•••‒': 'V',\n",
       " '•‒‒': 'W',\n",
       " '‒••‒': 'X',\n",
       " '‒•‒‒': 'Y',\n",
       " '‒‒••': 'Z',\n",
       " '‒‒‒‒‒': '0',\n",
       " '•‒‒‒‒': '1',\n",
       " '••‒‒‒': '2',\n",
       " '•••‒‒': '3',\n",
       " '••••‒': '4',\n",
       " '•••••': '5',\n",
       " '‒••••': '6',\n",
       " '‒‒•••': '7',\n",
       " '‒‒‒••': '8',\n",
       " '‒‒‒‒•': '9',\n",
       " '•‒•‒•‒': '.',\n",
       " '‒‒••‒‒': ',',\n",
       " '••‒‒••': '?',\n",
       " '‒•‒•‒‒': '!',\n",
       " '•‒••‒•': '\"',\n",
       " '‒•‒‒•': '(',\n",
       " '‒•‒‒•‒': ')',\n",
       " '•‒•••': '&',\n",
       " '‒‒‒•••': ':',\n",
       " '‒••‒•': '/',\n",
       " '•‒•‒•': '+',\n",
       " '‒••••‒': '-',\n",
       " '•••‒••‒': '$',\n",
       " '•‒‒•‒•': '@'}"
      ]
     },
     "execution_count": 5,
     "metadata": {},
     "output_type": "execute_result"
    }
   ],
   "source": [
    "reversed_english_morse_cute_dictionary = dict(\n",
    "    zip(english_morse_cute_dictionary.values(), english_morse_cute_dictionary.keys()))\n",
    "reversed_english_morse_cute_dictionary"
   ]
  },
  {
   "cell_type": "code",
   "execution_count": 6,
   "metadata": {},
   "outputs": [],
   "source": [
    "def encoder(msg: str) -> str:\n",
    "    \"\"\"Converts the given message into Morse code.\"\"\"\n",
    "    code = ''\n",
    "    for word in msg.split():\n",
    "        code += ' '.join([english_morse_cute_dictionary.get(char.upper()) for char in word])\n",
    "        code += '  '  # To separate words\n",
    "    return code.rstrip()"
   ]
  },
  {
   "cell_type": "code",
   "execution_count": 7,
   "metadata": {},
   "outputs": [],
   "source": [
    "def decoder(code: str) -> str:\n",
    "    \"\"\"Reads Morse code and converts it to plain text.\"\"\"\n",
    "    msg = ''\n",
    "    for word in code.split('  '):\n",
    "        msg += ''.join([reversed_english_morse_cute_dictionary.get(char) for char in word.split()])\n",
    "        msg += ' '\n",
    "    return msg.rstrip()"
   ]
  },
  {
   "cell_type": "code",
   "execution_count": 8,
   "metadata": {},
   "outputs": [],
   "source": [
    "def test(msg: str) -> None:\n",
    "    \"\"\"It compares the encoding and decoding outputs.\"\"\"\n",
    "    code = encoder(msg)\n",
    "    print(f'     Morse code: {code}')\n",
    "    msg = decoder(code)\n",
    "    print(f'Back to message: {msg}')"
   ]
  },
  {
   "cell_type": "code",
   "execution_count": 9,
   "metadata": {},
   "outputs": [
    {
     "name": "stdout",
     "output_type": "stream",
     "text": [
      "     Morse code: •••• •• ‒‒••‒‒  ‒‒• ••‒ ‒•‒‒ ••• ‒•‒•‒‒\n",
      "Back to message: HI, GUYS!\n"
     ]
    }
   ],
   "source": [
    "test('Hi, guys!')"
   ]
  },
  {
   "attachments": {},
   "cell_type": "markdown",
   "metadata": {},
   "source": [
    "Use a lambda function instead:"
   ]
  },
  {
   "cell_type": "code",
   "execution_count": 10,
   "metadata": {},
   "outputs": [],
   "source": [
    "break_text_to_chars = lambda text: map(list, text.split())\n",
    "encode_chars = lambda word: ' '.join(map(english_morse_cute_dictionary.get, word))\n",
    "encoder_lambda_way = lambda msg: '  '.join(map(encode_chars, break_text_to_chars(msg.upper())))"
   ]
  },
  {
   "cell_type": "code",
   "execution_count": 11,
   "metadata": {},
   "outputs": [],
   "source": [
    "separate_words = lambda code: map(str.split, code.split('  '))\n",
    "decode_words_chars = lambda words: ''.join(map(reversed_english_morse_cute_dictionary.get, words))\n",
    "decoder_lambda_way = lambda code: ' '.join(map(decode_words_chars, separate_words(code)))"
   ]
  },
  {
   "cell_type": "code",
   "execution_count": 12,
   "metadata": {},
   "outputs": [],
   "source": [
    "def test_lambda_ways(msg: str) -> None:\n",
    "    \"\"\"It compares the encoding and decoding outputs.\"\"\"\n",
    "    code = encoder_lambda_way(msg)\n",
    "    print(f'     Morse code: {code}')\n",
    "    msg = decoder_lambda_way(code)\n",
    "    print(f'Back to message: {msg}')"
   ]
  },
  {
   "cell_type": "code",
   "execution_count": 13,
   "metadata": {},
   "outputs": [
    {
     "name": "stdout",
     "output_type": "stream",
     "text": [
      "     Morse code: •••• •• ‒‒••‒‒  ‒‒• ••‒ ‒•‒‒ ••• ‒•‒•‒‒\n",
      "Back to message: HI, GUYS!\n"
     ]
    }
   ],
   "source": [
    "test_lambda_ways('Hi, guys!')"
   ]
  },
  {
   "cell_type": "code",
   "execution_count": 14,
   "metadata": {},
   "outputs": [],
   "source": [
    "def translator(msg: str) -> str:\n",
    "    \"\"\"Translates automatically to plain text or Morse code.\"\"\"\n",
    "    if re.match(r'(\\s|‒|•)+$', msg):\n",
    "        return decoder(msg)\n",
    "    return encoder(msg)"
   ]
  },
  {
   "cell_type": "code",
   "execution_count": 15,
   "metadata": {},
   "outputs": [
    {
     "data": {
      "text/plain": [
       "'‒‒• ‒‒‒ ‒‒‒ ‒‒‒ ‒‒‒ ‒•• ‒•‒•‒‒'"
      ]
     },
     "execution_count": 15,
     "metadata": {},
     "output_type": "execute_result"
    }
   ],
   "source": [
    "translator('Gooood!')"
   ]
  },
  {
   "cell_type": "code",
   "execution_count": 16,
   "metadata": {},
   "outputs": [
    {
     "data": {
      "text/plain": [
       "'GOOOOD!'"
      ]
     },
     "execution_count": 16,
     "metadata": {},
     "output_type": "execute_result"
    }
   ],
   "source": [
    "translator('‒‒• ‒‒‒ ‒‒‒ ‒‒‒ ‒‒‒ ‒•• ‒•‒•‒‒')"
   ]
  },
  {
   "cell_type": "code",
   "execution_count": null,
   "metadata": {},
   "outputs": [],
   "source": []
  }
 ],
 "metadata": {
  "kernelspec": {
   "display_name": "Python 3",
   "language": "python",
   "name": "python3"
  },
  "language_info": {
   "codemirror_mode": {
    "name": "ipython",
    "version": 3
   },
   "file_extension": ".py",
   "mimetype": "text/x-python",
   "name": "python",
   "nbconvert_exporter": "python",
   "pygments_lexer": "ipython3",
   "version": "3.10.6"
  },
  "orig_nbformat": 4,
  "vscode": {
   "interpreter": {
    "hash": "916dbcbb3f70747c44a77c7bcd40155683ae19c65e1c03b4aa3499c5328201f1"
   }
  }
 },
 "nbformat": 4,
 "nbformat_minor": 2
}
